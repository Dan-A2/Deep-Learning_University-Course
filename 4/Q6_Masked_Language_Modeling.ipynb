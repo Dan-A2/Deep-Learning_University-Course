{
  "cells": [
    {
      "cell_type": "markdown",
      "metadata": {
        "id": "cWs3vxqeU5_d"
      },
      "source": [
        "<h1>HW4 - Attention and Transformers- Practical Q1</h1>\n",
        "<h3><font color=yellow>Total Points: 100</font></h3>\n",
        "\n"
      ]
    },
    {
      "cell_type": "markdown",
      "metadata": {
        "id": "0aJYoCAUqOgi"
      },
      "source": [
        "\n",
        "\n",
        "---\n",
        "\n",
        "\n",
        "<h3>Masked language modeling is a technique used in natural language processing to train language models.</h3>\n",
        "<h3>It originated as a way to teach models contextual understanding and the ability to fill in missing pieces of information within a sentence. </h3>\n",
        "<h3>The concept involves masking certain words in a sentence and tasking the model with predicting what those masked words should be, based on the context provided by the surrounding words.</h3>\n",
        "\n",
        "\n",
        "---\n",
        "\n"
      ]
    },
    {
      "cell_type": "markdown",
      "metadata": {
        "id": "OWNC3IkVqO-E"
      },
      "source": [
        "<h2>In this assignment you are going to implement and train a Masked Language Model in two settings:</h2>\n",
        "\n",
        "1.   In the first part you will implement the mlm in PyTorch from scratch\n",
        "2.   In the second part you will use HuggingFace library to train a RoBERTa MLM using a trainer.\n",
        "\n",
        "\n",
        "---\n",
        "\n"
      ]
    },
    {
      "cell_type": "markdown",
      "metadata": {
        "id": "TJ8GNCiPqRS4"
      },
      "source": [
        "\n",
        "<h3><font color=yellow>Notes:</font></h3>\n",
        "\n",
        "\n",
        "*   The model architecture includes only **Transformer Encoder** layers (from [Attention Is All You Need](https://arxiv.org/abs/1706.03762) paper).\n",
        "*   It is like a BERT model, the only difference is that we won't have the \"Next Sentence Prediction\" part, in other words the model will be trained only to predict the masked tokens.\n",
        "*   Remember to save the RoBERTa model in the second part of assignment (trained with HuggingFace lib.), you'll be needing it for the next practical assignment (POS Tagging).\n",
        "*   Write the code only in the specified parts.\n",
        "*   If you have any questions, ask your question in Quera.\n",
        "\n",
        "<font color=greeen>Good Luck!</font>\n",
        "\n",
        "\n",
        "---\n",
        "\n",
        "\n"
      ]
    },
    {
      "cell_type": "markdown",
      "metadata": {
        "id": "detIdW4eVJsV"
      },
      "source": [
        "# Imports and Installations"
      ]
    },
    {
      "cell_type": "code",
      "execution_count": 1,
      "metadata": {
        "id": "1r5GGsvwjCS0"
      },
      "outputs": [],
      "source": [
        "%%capture\n",
        "\n",
        "!pip install transformers\n",
        "!pip install accelerate -U\n",
        "!pip install datasets\n",
        "!pip install huggingface_hub\n",
        "!pip install tokenizers"
      ]
    },
    {
      "cell_type": "code",
      "execution_count": 2,
      "metadata": {
        "id": "JSLEjNV5b1Vj"
      },
      "outputs": [],
      "source": [
        "import os\n",
        "from pathlib import Path\n",
        "import torch\n",
        "import re\n",
        "import random\n",
        "import transformers, datasets\n",
        "from tokenizers import BertWordPieceTokenizer\n",
        "from transformers import BertTokenizer\n",
        "from tqdm import tqdm\n",
        "from torch.utils.data import Dataset, DataLoader\n",
        "import itertools\n",
        "import math\n",
        "import torch.nn.functional as F\n",
        "import numpy as np\n",
        "import pandas as pd\n",
        "from torch.optim import Adam\n",
        "from sklearn.model_selection import train_test_split\n",
        "import tokenizers\n",
        "from huggingface_hub import notebook_login\n",
        "\n",
        "import matplotlib.pyplot as plt\n",
        "import seaborn as sns\n",
        "import pickle"
      ]
    },
    {
      "cell_type": "markdown",
      "metadata": {
        "id": "_6C7a70U5E5x"
      },
      "source": [
        "# 1-MLM Implementation with PyTorch From Scratch: <font color=yellow>Total Points:70</font>"
      ]
    },
    {
      "cell_type": "markdown",
      "metadata": {
        "id": "FoiUphZzvzX-"
      },
      "source": [
        "## 1-1-Data Preprocessing"
      ]
    },
    {
      "cell_type": "code",
      "execution_count": 3,
      "metadata": {
        "id": "uoJq4EW966EP"
      },
      "outputs": [],
      "source": [
        "#load dataset file and clean it\n",
        "with open('./data/Parsi_Mianeh_Corpus.txt', 'r', encoding = 'utf-8') as f:\n",
        "  corpus = f.read()\n",
        "corpus = re.sub('٭', '', corpus)\n",
        "corpus = re.sub('\\xa0', '', corpus)\n",
        "corpus = re.sub('#', '', corpus)"
      ]
    },
    {
      "cell_type": "code",
      "execution_count": 4,
      "metadata": {
        "id": "waWsUyT-52Ii"
      },
      "outputs": [],
      "source": [
        "#train tokenizer from scratch with byte pair level\n",
        "spl_tokens = ['[PAD]', '[CLS]', '[SEP]', '[MASK]', '[UNK]']\n",
        "temp_post_processor = tokenizers.processors.TemplateProcessing(\n",
        "    single=\"[CLS] $A [SEP]\",\n",
        "    pair=\"[CLS] $A [SEP] $B:1 [SEP]:1\",\n",
        "    special_tokens=[\n",
        "        (\"[CLS]\", spl_tokens.index(\"[CLS]\")),\n",
        "        (\"[SEP]\", spl_tokens.index(\"[SEP]\")),\n",
        "    ],\n",
        ")\n",
        "\n",
        "tokenizer = tokenizers.Tokenizer(tokenizers.models.BPE(unk_token = spl_tokens[0], mask_token=spl_tokens[2]))\n",
        "tokenizer_trainer = tokenizers.trainers.BpeTrainer(special_tokens = spl_tokens)\n",
        "tokenizer.pre_tokenizer = tokenizers.pre_tokenizers.Whitespace()\n",
        "tokenizer.post_processor=temp_post_processor\n",
        "\n",
        "paths = [\"./data/Parsi_Mianeh_Corpus.txt\"]\n",
        "tokenizer.train(paths, tokenizer_trainer)\n",
        "tokenizer.save('tokenizer.json')"
      ]
    },
    {
      "cell_type": "code",
      "execution_count": 5,
      "metadata": {
        "colab": {
          "base_uri": "https://localhost:8080/"
        },
        "id": "YNfb6uHhlQsC",
        "outputId": "6fb04158-dcd8-4f02-c15f-3d1b1b582d7f"
      },
      "outputs": [
        {
          "name": "stdout",
          "output_type": "stream",
          "text": [
            "6881\n"
          ]
        }
      ],
      "source": [
        "#get vocab size\n",
        "vocab_size = tokenizer.get_vocab_size()\n",
        "print(vocab_size)"
      ]
    },
    {
      "cell_type": "markdown",
      "metadata": {
        "id": "VapucAYj6nd5"
      },
      "source": [
        "<h4>You  need a token with <font color=greeen>WRITE</font> permission</h4>"
      ]
    },
    {
      "cell_type": "code",
      "execution_count": 6,
      "metadata": {
        "colab": {
          "base_uri": "https://localhost:8080/",
          "height": 145,
          "referenced_widgets": [
            "219c92a27fbf47f4b6c6a542d84fc56d",
            "bf86c7f449ac4a3c99e240696b6c505a",
            "1cbecc047dbe4029a1668bbc9f298d6f",
            "53770711eb9343b791d61fb0ba6f09f8",
            "c5287f4b30a54c07993239c4b7797401",
            "aa9701f841f8459784960c8390564f91",
            "5b67adebc5f0415599052e132e30bd28",
            "acf1a30795f24666b08c9583b7efed02",
            "100005202dbb459ea94aa7ce85ef0d86",
            "d9423daff0964ec1b80cbc409b98a60a",
            "4082c9cf8b2d471da17025ab7b96d0c1",
            "8a1f3522b93c487bb84945bd479ad69d",
            "8ce7af50116440ab8c9ce016b49a79a7",
            "6ebfd39b03c0487d90fcf778aad02b1e",
            "9b0cedf6b5304370a41834306bcf5286",
            "955bca6ac9644b56a2f268d7a72442cf",
            "135d5252a3ed49b681692396dd2dba81",
            "be692e482c044f229c0bbafa16dae602",
            "4afd90e61bda4fcc9c77d30776237323",
            "de960cd8532a433ab500b26dd99b4988",
            "dcbcb838980c41f9b2a650fd36bd2ed0",
            "8691b24dd3b9498eb95c6ca98f36f6f9",
            "8235a5b896a5435580c40b7f8d896532",
            "bb60a2da8d9d4ae4b126054ab68106d7",
            "3cc42b592a1a46a1bae9f0ab2b60a157",
            "d1ed5bc35beb4f23ae3292ed04b3235f",
            "8c26447481044196b7e40f633fdc502a",
            "74772bae1b574a0f87a65ab50d4c9a0b",
            "83eb2206e7474442aca49a1adfb099a4",
            "1ab6a067bd854b4e8a09c24505ef11da",
            "972143d45d124883994debcec67caa62",
            "2ae318fe3100481d9a262bfb000aa75c"
          ]
        },
        "id": "nZ0e8_-bxLGv",
        "outputId": "539e555e-f231-4f6b-a80b-58a00316a619"
      },
      "outputs": [
        {
          "data": {
            "application/vnd.jupyter.widget-view+json": {
              "model_id": "219c92a27fbf47f4b6c6a542d84fc56d",
              "version_major": 2,
              "version_minor": 0
            },
            "text/plain": [
              "VBox(children=(HTML(value='<center> <img\\nsrc=https://huggingface.co/front/assets/huggingface_logo-noborder.sv…"
            ]
          },
          "metadata": {},
          "output_type": "display_data"
        }
      ],
      "source": [
        "#logging in to hugging face\n",
        "notebook_login()"
      ]
    },
    {
      "cell_type": "code",
      "execution_count": 7,
      "metadata": {
        "colab": {
          "base_uri": "https://localhost:8080/"
        },
        "id": "phSkAHN1lS85",
        "outputId": "8b404bab-a03a-45d2-b635-7f5ca3ce3a58"
      },
      "outputs": [
        {
          "name": "stderr",
          "output_type": "stream",
          "text": [
            "The tokenizer class you load from this checkpoint is not the same type as the class this function is called from. It may result in unexpected tokenization. \n",
            "The tokenizer class you load from this checkpoint is 'PreTrainedTokenizerFast'. \n",
            "The class this function is called from is 'RobertaTokenizerFast'.\n"
          ]
        },
        {
          "data": {
            "text/plain": [
              "('tokenizer/tokenizer_config.json',\n",
              " 'tokenizer/special_tokens_map.json',\n",
              " 'tokenizer/vocab.json',\n",
              " 'tokenizer/merges.txt',\n",
              " 'tokenizer/added_tokens.json',\n",
              " 'tokenizer/tokenizer.json')"
            ]
          },
          "execution_count": 7,
          "metadata": {},
          "output_type": "execute_result"
        }
      ],
      "source": [
        "#saved fast tokenizer to file and convert it to roberta tokenizer\n",
        "fast_tokenizer = transformers.PreTrainedTokenizerFast(tokenizer_file='tokenizer.json')\n",
        "fast_tokenizer.save_pretrained('fast_tokenizer')\n",
        "\n",
        "tokenizer = transformers.RobertaTokenizerFast.from_pretrained('fast_tokenizer')\n",
        "tokenizer.pad_token_id = 0\n",
        "tokenizer.cls_token_id = 1\n",
        "tokenizer.sep_token_id = 2\n",
        "tokenizer.mask_token_id = 3\n",
        "tokenizer.unk_token_id = 4\n",
        "\n",
        "your_hugging_face_id=\"Dan1212121212\"\n",
        "tokenizer.save_pretrained(f'{your_hugging_face_id}/parsig_tokenizer', push_to_hub=True)\n",
        "tokenizer.save_pretrained('tokenizer')"
      ]
    },
    {
      "cell_type": "code",
      "execution_count": 8,
      "metadata": {
        "id": "O7RO26qK_WbR"
      },
      "outputs": [],
      "source": [
        "class Custom_Dataset(Dataset):\n",
        "    def __init__(self, tokenizer, data, max_length):\n",
        "        self.tokenizer = tokenizer\n",
        "        self.corpus = data\n",
        "        self.corpus_lines = len(data)\n",
        "        self.max_length = max_length\n",
        "        self.preprocessed_data=None\n",
        "\n",
        "    def __len__(self):\n",
        "        return self.corpus_lines\n",
        "\n",
        "    def __getitem__(self, index):\n",
        "        return self.preprocessed_data[index]\n",
        "\n",
        "\n",
        "    def random_word(self, token_ids):\n",
        "\n",
        "        # remove cls and sep token\n",
        "        token_ids=token_ids[1:-1]\n",
        "        output_label = []\n",
        "        output = []\n",
        "\n",
        "        # 15% of the tokens would be replaced\n",
        "        for i, token_id in enumerate(token_ids):\n",
        "            prob = random.random()\n",
        "\n",
        "            if prob < 0.15:\n",
        "              prob /= 0.15\n",
        "              # 80% chance change token to mask token\n",
        "              if prob < 0.8:\n",
        "                  output.append(self.tokenizer.vocab['[MASK]'])\n",
        "\n",
        "              # 10% chance change token to random token\n",
        "              elif prob < 0.9:\n",
        "                  output.append(random.randrange(self.tokenizer.vocab_size))\n",
        "\n",
        "              # 10% chance change token to current token\n",
        "              else:\n",
        "                  output.append(token_id)\n",
        "              output_label.append(token_id)\n",
        "            else:\n",
        "              output.append(token_id)\n",
        "              output_label.append(-100)\n",
        "\n",
        "\n",
        "        # flattening\n",
        "        output = list(itertools.chain(*[[x] if not isinstance(x, list) else x for x in output]))\n",
        "        output_label = list(itertools.chain(*[[x] if not isinstance(x, list) else x for x in output_label]))\n",
        "        assert len(output) == len(output_label)\n",
        "        return output, output_label\n",
        "\n",
        "    def get_corpus_line(self, index):\n",
        "        return self.corpus[index]\n",
        "\n",
        "\n",
        "    def preprocess_function(self):\n",
        "        preprocessed_data=[]\n",
        "\n",
        "        for i in tqdm(range(self.corpus_lines)):\n",
        "            # get sample at index\n",
        "          data = self.get_corpus_line(i)\n",
        "\n",
        "          # Step 2: replace 15% of tokens randomly\n",
        "          text_token_ids, text_labels = self.random_word(data['input_ids'])\n",
        "\n",
        "          # Step 3: Adding CLS and SEP tokens to the start and end of sentences\n",
        "          input_ids = [self.tokenizer.vocab['[CLS]']] + text_token_ids + [self.tokenizer.vocab['[SEP]']]\n",
        "          labels = [-100] + text_labels + [-100]\n",
        "\n",
        "          # Step 4: Truncate at max_length\n",
        "          input_ids = (input_ids)[:self.max_length]\n",
        "          segment_ids = ([1 for _ in range(len(input_ids))])[:self.max_length]\n",
        "          labels = (labels)[:self.max_length]\n",
        "\n",
        "          # Step 5: pad ids and labels\n",
        "          padding = [self.tokenizer.vocab['[PAD]'] for _ in range(self.max_length - len(input_ids))]\n",
        "          label_padding = [-100 for _ in range(self.max_length - len(input_ids))]\n",
        "          input_ids.extend(padding), segment_ids.extend(padding), labels.extend(label_padding)\n",
        "\n",
        "          output = {\"input_ids\": input_ids,\n",
        "                    \"labels\": labels,\n",
        "                    \"segment_ids\": segment_ids}\n",
        "\n",
        "          output={key: torch.tensor(value) for key, value in output.items()}\n",
        "          preprocessed_data.append(output)\n",
        "\n",
        "        self.preprocessed_data=preprocessed_data\n",
        "        return preprocessed_data"
      ]
    },
    {
      "cell_type": "markdown",
      "metadata": {
        "id": "9KFiR4mqd1_4"
      },
      "source": [
        "Loading Dataset"
      ]
    },
    {
      "cell_type": "code",
      "execution_count": null,
      "metadata": {
        "colab": {
          "base_uri": "https://localhost:8080/",
          "height": 423
        },
        "id": "x3mnNPPceKGv",
        "outputId": "b04e3a29-2a35-48aa-ef08-604861a98436"
      },
      "outputs": [
        {
          "data": {
            "text/html": [
              "<div>\n",
              "<style scoped>\n",
              "    .dataframe tbody tr th:only-of-type {\n",
              "        vertical-align: middle;\n",
              "    }\n",
              "\n",
              "    .dataframe tbody tr th {\n",
              "        vertical-align: top;\n",
              "    }\n",
              "\n",
              "    .dataframe thead th {\n",
              "        text-align: right;\n",
              "    }\n",
              "</style>\n",
              "<table border=\"1\" class=\"dataframe\">\n",
              "  <thead>\n",
              "    <tr style=\"text-align: right;\">\n",
              "      <th></th>\n",
              "      <th>text</th>\n",
              "    </tr>\n",
              "  </thead>\n",
              "  <tbody>\n",
              "    <tr>\n",
              "      <th>0</th>\n",
              "      <td>ud baγōbaxt ān ī did-iz baxšēnd</td>\n",
              "    </tr>\n",
              "    <tr>\n",
              "      <th>1</th>\n",
              "      <td>ud ka mīrēnd ahlaw hēnd</td>\n",
              "    </tr>\n",
              "    <tr>\n",
              "      <th>2</th>\n",
              "      <td>ud ōy ī pēm-xwarišn mardōm tan-drusttar ud zōr...</td>\n",
              "    </tr>\n",
              "    <tr>\n",
              "      <th>3</th>\n",
              "      <td>kū pādixšāyān rāy tis-ē ham-pursagīh ī abāg dā...</td>\n",
              "    </tr>\n",
              "    <tr>\n",
              "      <th>4</th>\n",
              "      <td>pad ǰōrdā ham-dādestān būd hēnd kū ān and gyāg...</td>\n",
              "    </tr>\n",
              "    <tr>\n",
              "      <th>...</th>\n",
              "      <td>...</td>\n",
              "    </tr>\n",
              "    <tr>\n",
              "      <th>3404</th>\n",
              "      <td>ud pad wīst-sālag hāxtēd kawīg ī kundā pus</td>\n",
              "    </tr>\n",
              "    <tr>\n",
              "      <th>3405</th>\n",
              "      <td>čē guft ēstēd</td>\n",
              "    </tr>\n",
              "    <tr>\n",
              "      <th>3406</th>\n",
              "      <td>čē ōy ī bēš-burdār rāmišn ī gētīg ud mēnōg wan...</td>\n",
              "    </tr>\n",
              "    <tr>\n",
              "      <th>3407</th>\n",
              "      <td>ud šašom kē pad čašm ī yazadān ud uzwān ī wehā...</td>\n",
              "    </tr>\n",
              "    <tr>\n",
              "      <th>3408</th>\n",
              "      <td>bistag ī gurgānīg ka pad sōr-ābag brēzēnd ud n...</td>\n",
              "    </tr>\n",
              "  </tbody>\n",
              "</table>\n",
              "<p>3409 rows × 1 columns</p>\n",
              "</div>"
            ],
            "text/plain": [
              "                                                   text\n",
              "0                       ud baγōbaxt ān ī did-iz baxšēnd\n",
              "1                               ud ka mīrēnd ahlaw hēnd\n",
              "2     ud ōy ī pēm-xwarišn mardōm tan-drusttar ud zōr...\n",
              "3     kū pādixšāyān rāy tis-ē ham-pursagīh ī abāg dā...\n",
              "4     pad ǰōrdā ham-dādestān būd hēnd kū ān and gyāg...\n",
              "...                                                 ...\n",
              "3404         ud pad wīst-sālag hāxtēd kawīg ī kundā pus\n",
              "3405                                      čē guft ēstēd\n",
              "3406  čē ōy ī bēš-burdār rāmišn ī gētīg ud mēnōg wan...\n",
              "3407  ud šašom kē pad čašm ī yazadān ud uzwān ī wehā...\n",
              "3408  bistag ī gurgānīg ka pad sōr-ābag brēzēnd ud n...\n",
              "\n",
              "[3409 rows x 1 columns]"
            ]
          },
          "execution_count": 8,
          "metadata": {},
          "output_type": "execute_result"
        }
      ],
      "source": [
        "with open('./data/Parsi_Mianeh_Corpus.txt', 'r', encoding='utf-8') as f:\n",
        "  text = f.read()\n",
        "sentences = text.split('\\n')[:-1]\n",
        "corpus_df=pd.DataFrame(data=sentences, columns=[\"text\"])\n",
        "corpus_df"
      ]
    },
    {
      "cell_type": "code",
      "execution_count": null,
      "metadata": {
        "colab": {
          "base_uri": "https://localhost:8080/"
        },
        "id": "YioyZlLJ8Dsp",
        "outputId": "4dd8cb7b-f4b9-4e57-eb5f-5a720f4554e9"
      },
      "outputs": [
        {
          "data": {
            "text/plain": [
              "DatasetDict({\n",
              "    train: Dataset({\n",
              "        features: ['text'],\n",
              "        num_rows: 3409\n",
              "    })\n",
              "})"
            ]
          },
          "execution_count": 28,
          "metadata": {},
          "output_type": "execute_result"
        }
      ],
      "source": [
        "from datasets import DatasetDict, Dataset\n",
        "\n",
        "dataset = DatasetDict({'train': Dataset.from_pandas(corpus_df)})\n",
        "dataset"
      ]
    },
    {
      "cell_type": "code",
      "execution_count": null,
      "metadata": {
        "colab": {
          "base_uri": "https://localhost:8080/",
          "height": 158,
          "referenced_widgets": [
            "ad773999b7f34bb29d420809b87f1705",
            "62b02137b1cd4bb4b9b14c587e75cac1",
            "a598399f227648a78d184c2d5b630127",
            "eb37042534e8488db32138469e074d03",
            "bc6d1d38dc234bf59bf4d0d6e804b1d4",
            "9b02a02e3fdb4cfbb5eed859419bb6bc",
            "ec6b2501a11a4b0d947841d00cb49ebd",
            "7e1649bb301a4c42849349c6565e7729",
            "b7ba3141fc87413ebf35b3ac82c57414",
            "c7aa1fbb00ce44eb855b82447f1949d7",
            "c5dd77e096b5494093982cf6c6f1cd3e",
            "4759edb4d61041a38c73670b373a1262"
          ]
        },
        "id": "6wCfK91R8BOR",
        "outputId": "77029fc5-9b59-4dd2-c11e-1ed3028ed2b8"
      },
      "outputs": [
        {
          "data": {
            "application/vnd.jupyter.widget-view+json": {
              "model_id": "4759edb4d61041a38c73670b373a1262",
              "version_major": 2,
              "version_minor": 0
            },
            "text/plain": [
              "Map:   0%|          | 0/3409 [00:00<?, ? examples/s]"
            ]
          },
          "metadata": {},
          "output_type": "display_data"
        },
        {
          "data": {
            "text/plain": [
              "DatasetDict({\n",
              "    train: Dataset({\n",
              "        features: ['text', 'input_ids', 'attention_mask'],\n",
              "        num_rows: 3409\n",
              "    })\n",
              "})"
            ]
          },
          "execution_count": 29,
          "metadata": {},
          "output_type": "execute_result"
        }
      ],
      "source": [
        "max_input_length = 512\n",
        "max_target_length = 64\n",
        "\n",
        "def tokenize_preprocess_function(examples):\n",
        "    model_inputs = tokenizer(examples[\"text\"], max_length=max_input_length, truncation=True)\n",
        "    return model_inputs\n",
        "\n",
        "tokenized_datasets = dataset.map(tokenize_preprocess_function, batched=False)\n",
        "tokenized_datasets"
      ]
    },
    {
      "cell_type": "markdown",
      "metadata": {
        "id": "FR7ae7qDBq7Q"
      },
      "source": [
        "Preprocess your dataset once and Save it"
      ]
    },
    {
      "cell_type": "code",
      "execution_count": null,
      "metadata": {
        "id": "cqLlvKziNQ_t",
        "outputId": "eca36f18-6f88-4354-cf89-f9b69a7140b4"
      },
      "outputs": [
        {
          "name": "stderr",
          "output_type": "stream",
          "text": [
            "100%|██████████| 3409/3409 [07:14<00:00,  7.85it/s]\n"
          ]
        }
      ],
      "source": [
        "MAX_LEN=100\n",
        "\n",
        "train_dataset = Custom_Dataset(tokenizer, tokenized_datasets['train'], max_length=MAX_LEN)\n",
        "preprocessed_data=train_dataset.preprocess_function()"
      ]
    },
    {
      "cell_type": "code",
      "execution_count": null,
      "metadata": {
        "id": "GV-RTomB8zX2"
      },
      "outputs": [],
      "source": [
        "with open('./data/preprocessed_data.pkl', 'wb') as file:\n",
        "  pickle.dump(preprocessed_data, file)"
      ]
    },
    {
      "cell_type": "markdown",
      "metadata": {
        "id": "cAGqONxv-Jfj"
      },
      "source": [
        "<font color=yellow>shared link of preprocessed Data</font> </br>\n",
        "<font color=greeen>add the shortcut to your drive first</font></br>\n",
        "https://drive.google.com/file/d/1ktCRq0J6QDzrW4T-Obx8m7u6GLU7JTq1/view"
      ]
    },
    {
      "cell_type": "code",
      "execution_count": 9,
      "metadata": {
        "colab": {
          "base_uri": "https://localhost:8080/"
        },
        "id": "fWnU8dTp-Ek4",
        "outputId": "b6bc3efa-637d-4af8-97bb-2d7a754f08a2"
      },
      "outputs": [
        {
          "name": "stdout",
          "output_type": "stream",
          "text": [
            "3409\n"
          ]
        }
      ],
      "source": [
        "MAX_LEN=100\n",
        "path=\"./data/preprocessed_data.pkl\"\n",
        "with open(path, 'rb') as file:\n",
        "    preprocessed_data = pickle.load(file)\n",
        "\n",
        "print(len(preprocessed_data))"
      ]
    },
    {
      "cell_type": "code",
      "execution_count": 10,
      "metadata": {
        "colab": {
          "base_uri": "https://localhost:8080/"
        },
        "id": "Ky11prQr759h",
        "outputId": "73f5149e-d8c3-45c8-ddbf-209b914119b9"
      },
      "outputs": [
        {
          "data": {
            "text/plain": [
              "{'input_ids': tensor([[  1, 122, 291,  ...,   0,   0,   0],\n",
              "         [  1,  54,  65,  ...,   0,   0,   0],\n",
              "         [  1, 189,  59,  ...,   0,   0,   0],\n",
              "         ...,\n",
              "         [  1,  54,   3,  ...,   0,   0,   0],\n",
              "         [  1,  54,  62,  ...,   0,   0,   0],\n",
              "         [  1, 175, 255,  ...,   0,   0,   0]]),\n",
              " 'labels': tensor([[-100, -100, -100,  ..., -100, -100, -100],\n",
              "         [-100, -100, -100,  ..., -100, -100, -100],\n",
              "         [-100, -100, -100,  ..., -100, -100, -100],\n",
              "         ...,\n",
              "         [-100, -100,   94,  ..., -100, -100, -100],\n",
              "         [-100, -100, -100,  ..., -100, -100, -100],\n",
              "         [-100, -100, -100,  ..., -100, -100, -100]]),\n",
              " 'segment_ids': tensor([[1, 1, 1,  ..., 0, 0, 0],\n",
              "         [1, 1, 1,  ..., 0, 0, 0],\n",
              "         [1, 1, 1,  ..., 0, 0, 0],\n",
              "         ...,\n",
              "         [1, 1, 1,  ..., 0, 0, 0],\n",
              "         [1, 1, 1,  ..., 0, 0, 0],\n",
              "         [1, 1, 1,  ..., 0, 0, 0]])}"
            ]
          },
          "execution_count": 10,
          "metadata": {},
          "output_type": "execute_result"
        }
      ],
      "source": [
        "BATCH_SIZE=128\n",
        "\n",
        "train_loader = DataLoader(preprocessed_data, batch_size=BATCH_SIZE, shuffle=True, pin_memory=True)\n",
        "sample_data = next(iter(train_loader))\n",
        "sample_data\n",
        "# print(train_data[random.randrange(len(train_dataset))])"
      ]
    },
    {
      "cell_type": "markdown",
      "metadata": {
        "id": "VpVv_m6lv8vB"
      },
      "source": [
        "## 1-2-Embeddings"
      ]
    },
    {
      "cell_type": "markdown",
      "metadata": {
        "id": "vDICblxKdAR_"
      },
      "source": [
        "Positional Embedding"
      ]
    },
    {
      "cell_type": "code",
      "execution_count": 11,
      "metadata": {
        "id": "K0Vtsv8r4dym"
      },
      "outputs": [],
      "source": [
        "class PositionalEmbedding(torch.nn.Module):\n",
        "    \"Implement the PE function.\"\n",
        "\n",
        "    def __init__(self, d_model, max_len, device=\"cpu\"):\n",
        "        super(PositionalEmbedding, self).__init__()\n",
        "        position = torch.arange(0, max_len).unsqueeze(1).float()\n",
        "        div_term = torch.exp(torch.arange(0, d_model, 2).float() * -(torch.log(torch.tensor(10000.0)) / d_model))\n",
        "        pe = torch.zeros(max_len, d_model).to(device)\n",
        "        pe[:, 0::2] = torch.sin(position * div_term)\n",
        "        pe[:, 1::2] = torch.cos(position * div_term)\n",
        "        pe = pe.unsqueeze(0)  # Add batch dimension\n",
        "\n",
        "        self.register_buffer('pe', pe)\n",
        "\n",
        "    def forward(self, x):\n",
        "        \"\"\"\n",
        "        :params x: (batch_size, max_len)\n",
        "        :output shape: (batch_size, max_len, d_model)\n",
        "        \"\"\"\n",
        "        return self.pe[:, :x.size(1)].detach()"
      ]
    },
    {
      "cell_type": "markdown",
      "metadata": {
        "id": "2EcbtKPfdA-P"
      },
      "source": [
        "Token Embedding"
      ]
    },
    {
      "cell_type": "code",
      "execution_count": 12,
      "metadata": {
        "id": "cFdZHrAu7mcA"
      },
      "outputs": [],
      "source": [
        "import torch.nn as nn\n",
        "\n",
        "class Embedding(torch.nn.Module):\n",
        "    \"\"\"\n",
        "    Embedding which is consisted with below features\n",
        "        1. TokenEmbedding : normal embedding matrix\n",
        "        2. PositionalEmbedding : adding positional information using sin, cos\n",
        "        2. SegmentEmbedding : adding sentence segment info, (sent_A:1, sent_B:2)\n",
        "        sum of all these features are output of Embedding\n",
        "    \"\"\"\n",
        "\n",
        "    def __init__(self, vocab_size, embed_size, seq_len, dropout=0.1, device=\"cpu\"):\n",
        "        super().__init__()\n",
        "        self.token_embedding = nn.Embedding(vocab_size, embed_size)\n",
        "        self.positional_embedding = PositionalEmbedding(embed_size, seq_len)\n",
        "        self.segment_embedding = nn.Embedding(3, embed_size, padding_idx=0)\n",
        "        self.dropout = nn.Dropout(p=dropout)\n",
        "\n",
        "    def forward(self, sequence, segment_id):\n",
        "      \"\"\"\n",
        "        :params sequence: (batch_size, max_len)\n",
        "        :param segment_id: (batch_size, max_len)\n",
        "        :output shape: (batch_size, max_len, d_model)\n",
        "        \"\"\"\n",
        "      token_embedded = self.token_embedding(sequence)\n",
        "      positional_embedded = self.positional_embedding(sequence)\n",
        "      segment_embedded = self.segment_embedding(segment_id)\n",
        "      x = token_embedded + positional_embedded + segment_embedded\n",
        "      return self.dropout(x)"
      ]
    },
    {
      "cell_type": "markdown",
      "metadata": {
        "id": "G73cmtcE1c9A"
      },
      "source": [
        "## 1-3-Attention Module"
      ]
    },
    {
      "cell_type": "markdown",
      "metadata": {
        "id": "52h9ZGB27tTw"
      },
      "source": [
        "Multi Head Attention"
      ]
    },
    {
      "cell_type": "code",
      "execution_count": 13,
      "metadata": {
        "id": "Z05fhi-TexWw"
      },
      "outputs": [],
      "source": [
        "class ScaledDotProductAttention(torch.nn.Module):\n",
        "    def __init__(self):\n",
        "        super(ScaledDotProductAttention, self).__init__()\n",
        "\n",
        "    def forward(self, Q, K, V, attn_mask, k_dim):\n",
        "        scores = torch.matmul(Q, K.transpose(-1, -2)) / np.sqrt(k_dim)\n",
        "        scores = scores.masked_fill(attn_mask == True, -1e9) # Fill padding elements with extremely low score\n",
        "        attn = torch.nn.Softmax(dim=-1)(scores)\n",
        "        context = torch.matmul(attn, V)\n",
        "        return context, attn"
      ]
    },
    {
      "cell_type": "code",
      "execution_count": 14,
      "metadata": {
        "id": "t_1RlEOfgsm4"
      },
      "outputs": [],
      "source": [
        "class MultiHeadedAttention(torch.nn.Module):\n",
        "\n",
        "    def __init__(self, heads, d_model, dropout=0.1):\n",
        "        super(MultiHeadedAttention, self).__init__()\n",
        "        assert d_model % heads == 0\n",
        "\n",
        "        self.d_model = d_model\n",
        "        self.heads = heads\n",
        "        self.head_dim = d_model // heads\n",
        "        self.dropout = dropout\n",
        "\n",
        "        self.query_linear = torch.nn.Linear(d_model, d_model)\n",
        "        self.key_linear = torch.nn.Linear(d_model, d_model)\n",
        "        self.value_linear = torch.nn.Linear(d_model, d_model)\n",
        "\n",
        "        self.scaled_dot_product_attention = ScaledDotProductAttention()\n",
        "        self.output_linear = torch.nn.Linear(d_model, d_model)\n",
        "        self.dropout = torch.nn.Dropout(p=dropout)\n",
        "\n",
        "    def forward(self, query, key, value, mask):\n",
        "        \"\"\"\n",
        "        :params query, key, value of shape: (batch_size, max_len, d_model)\n",
        "        :param mask: pad and non-pad token masks shape: (batch_size, 1, 1, max_words)\n",
        "        :output shape: (batch_size, max_len, d_model)\n",
        "        \"\"\"\n",
        "        Q = self.query_linear(query)\n",
        "        K = self.key_linear(key)\n",
        "        V = self.value_linear(value)\n",
        "\n",
        "        # print(\"1\", Q.shape[0] == V.shape[0] == K.shape[0])\n",
        "        # print(\"2\", Q.shape[1] == V.shape[1] == K.shape[1])\n",
        "\n",
        "        batch_size = Q.shape[0]\n",
        "        seq_len = V.shape[1]\n",
        "\n",
        "        Q = Q.view(batch_size, self.heads, seq_len, self.head_dim)\n",
        "        V = V.view(batch_size, self.heads, seq_len, self.head_dim)\n",
        "        K = K.view(batch_size, self.heads, seq_len, self.head_dim)\n",
        "\n",
        "        context, self.attention_score = self.scaled_dot_product_attention(Q, K, V, mask, self.head_dim)\n",
        "\n",
        "        context = context.view(context.shape[0], context.shape[-2], self.d_model)\n",
        "        output = self.output_linear(context)\n",
        "\n",
        "        return self.dropout(output)"
      ]
    },
    {
      "cell_type": "markdown",
      "metadata": {
        "id": "r22vwGSW1qxZ"
      },
      "source": [
        "## 1-4-Encoder Module"
      ]
    },
    {
      "cell_type": "code",
      "execution_count": 15,
      "metadata": {
        "id": "F-WoxQU2gu7M"
      },
      "outputs": [],
      "source": [
        "class PositionwiseFeedForward(torch.nn.Module):\n",
        "    # Implements FFN equation\n",
        "    def __init__(self, d_model, middle_dim, dropout=0.1):\n",
        "        super(PositionwiseFeedForward, self).__init__()\n",
        "        self.linear1 = nn.Linear(d_model, middle_dim)\n",
        "        self.dropout = nn.Dropout(p=dropout)\n",
        "        self.linear2 = nn.Linear(middle_dim, d_model)\n",
        "\n",
        "    def forward(self, x):\n",
        "        \"\"\"\n",
        "        :param x: (batch_size, max_len, d_model)\n",
        "        :output shape: (batch_size, max_len, d_model)\n",
        "        \"\"\"\n",
        "        out = self.linear2(self.dropout(F.relu(self.linear1(x))))\n",
        "        return out + x"
      ]
    },
    {
      "cell_type": "code",
      "execution_count": 16,
      "metadata": {
        "id": "ppWNkeCu7mZW"
      },
      "outputs": [],
      "source": [
        "class EncoderLayer(torch.nn.Module):\n",
        "    def __init__(self, d_model=768, heads=12, feed_forward_hidden=768 * 4, dropout=0.1):\n",
        "        super(EncoderLayer, self).__init__()\n",
        "        self.multihead_attention = MultiHeadedAttention(heads, d_model, dropout=dropout)\n",
        "        self.positionwise_feedforward = PositionwiseFeedForward(d_model, feed_forward_hidden, dropout=dropout)\n",
        "        self.dropout = nn.Dropout(p=dropout)\n",
        "        self.layer_norm1 = nn.LayerNorm(d_model)\n",
        "        self.layer_norm2 = nn.LayerNorm(d_model)\n",
        "\n",
        "    def forward(self, embeddings, mask):\n",
        "        \"\"\":param embeddings: input embeddings (batch_size, max_len, d_model)\n",
        "           :param mask: pad and non-pad token masks (batch_size, 1, 1, max_len)\n",
        "           :output shape: (batch_size, max_len, d_model)\n",
        "        \"\"\"\n",
        "        attn_output = self.multihead_attention(embeddings, embeddings, embeddings, mask)\n",
        "        x = embeddings + self.dropout(attn_output)\n",
        "        x = self.layer_norm1(x)\n",
        "        ff_output = self.positionwise_feedforward(x)\n",
        "        output = x + self.dropout(ff_output)\n",
        "        output = self.layer_norm2(output)\n",
        "        return output"
      ]
    },
    {
      "cell_type": "markdown",
      "metadata": {
        "id": "3FMHUw0874c8"
      },
      "source": [
        "## 1-5-Final model"
      ]
    },
    {
      "cell_type": "code",
      "execution_count": 17,
      "metadata": {
        "id": "7kOdc5pDfEa4"
      },
      "outputs": [],
      "source": [
        "def get_attn_pad_mask(seq_a, seq_b):\n",
        "    batch_size, len_a = seq_a.size()\n",
        "    batch_size, len_b = seq_b.size()\n",
        "    pad_attn_mask = seq_b.data.eq(0).unsqueeze(1) # one is for masking pad tokens True\n",
        "    return pad_attn_mask.expand(batch_size, len_a, len_b).unsqueeze(1)  # batch_size x 1 x len_a x len_b"
      ]
    },
    {
      "cell_type": "code",
      "execution_count": 18,
      "metadata": {
        "id": "FsblQwrJ7mWd"
      },
      "outputs": [],
      "source": [
        "class Masked_Language_Model(torch.nn.Module):\n",
        "    def __init__(self, vocab_size, seq_len, d_model=768, n_layers=12, heads=12, dropout=0.1, device=\"cpu\"):\n",
        "        \"\"\"\n",
        "        :param vocab_size: vocab_size of total words\n",
        "        :param seq_len: maximum sequence length\n",
        "        :param d_model: model hidden size\n",
        "        :param n_layers: numbers of Encoder Transformer blocks(layers)\n",
        "        :param heads: number of attention heads\n",
        "        :param dropout: dropout rate\n",
        "        \"\"\"\n",
        "        super().__init__()\n",
        "        self.d_model = d_model\n",
        "        self.n_layers = n_layers\n",
        "        self.heads = heads\n",
        "        self.dropout = nn.Dropout(p=dropout)\n",
        "        self.embedding = Embedding(vocab_size, d_model, seq_len, dropout, device)\n",
        "        self.encoder_layers = nn.ModuleList([EncoderLayer() for _ in range(n_layers)])\n",
        "        self.fc = nn.Linear(d_model, vocab_size)\n",
        "\n",
        "    def forward(self, x, segment_info):\n",
        "        \"\"\":param x: (batch_size, max_len)\n",
        "           :param segment_info: (batch_size, max_len)\n",
        "           :output shape: (batch_size, max_len, vocab_size)\n",
        "        \"\"\"\n",
        "        embeddings = self.embedding(x, segment_info)\n",
        "        mask = get_attn_pad_mask(x, x)\n",
        "        for layer in self.encoder_layers:\n",
        "            embeddings = layer(embeddings, mask)\n",
        "        out = self.fc(embeddings)\n",
        "        return out"
      ]
    },
    {
      "cell_type": "markdown",
      "metadata": {
        "id": "NxTNofhRNi84"
      },
      "source": [
        "## 1-6-Trainer and LR_scheduler"
      ]
    },
    {
      "cell_type": "code",
      "execution_count": 19,
      "metadata": {
        "id": "mXDDVm1bAkPV"
      },
      "outputs": [],
      "source": [
        "class Learning_Rate_Scheduler():\n",
        "    '''A simple wrapper class for learning rate scheduling'''\n",
        "    def __init__(self, optimizer, d_model, n_warmup_steps):\n",
        "        self._optimizer = optimizer\n",
        "        self.n_warmup_steps = n_warmup_steps\n",
        "        self.n_current_steps = 0\n",
        "        self.init_lr = np.power(d_model, -0.5)\n",
        "\n",
        "    def step_and_update_lr(self):\n",
        "        \"Step with the inner optimizer\"\n",
        "        self._update_learning_rate()\n",
        "        self._optimizer.step()\n",
        "\n",
        "    def zero_grad(self):\n",
        "        \"Zero out the gradients by the inner optimizer\"\n",
        "        self._optimizer.zero_grad()\n",
        "\n",
        "    def _get_lr_scale(self):\n",
        "        return np.min([\n",
        "            np.power(self.n_current_steps, -0.5),\n",
        "            np.power(self.n_warmup_steps, -1.5) * self.n_current_steps])\n",
        "\n",
        "    def _update_learning_rate(self):\n",
        "        ''' Learning rate scheduling per step '''\n",
        "\n",
        "        self.n_current_steps += 1\n",
        "        lr = self.init_lr * self._get_lr_scale()\n",
        "\n",
        "        for param_group in self._optimizer.param_groups:\n",
        "            param_group['lr'] = lr"
      ]
    },
    {
      "cell_type": "code",
      "execution_count": 20,
      "metadata": {
        "id": "4YZZGpJS8c0Y"
      },
      "outputs": [],
      "source": [
        "import torch.nn.functional as F\n",
        "\n",
        "class Trainer:\n",
        "    def __init__(\n",
        "        self,\n",
        "        model,\n",
        "        train_dataloader,\n",
        "        num_epochs,\n",
        "        test_dataloader=None,\n",
        "        lr= 1e-4,\n",
        "        weight_decay=0.08,\n",
        "        betas=(0.9, 0.999),\n",
        "        warmup_steps=10000,\n",
        "        device='cuda'\n",
        "        ):\n",
        "\n",
        "        self.device = device\n",
        "        self.model = model\n",
        "        self.train_data = train_dataloader\n",
        "        self.test_data = test_dataloader\n",
        "\n",
        "\n",
        "        \"\"\" Defining optimizer and Learning Rate scheduler \"\"\"\n",
        "        self.optimizer = Adam(self.model.parameters(), lr=lr, betas=betas, weight_decay=weight_decay)\n",
        "        self.lr_scheduler = Learning_Rate_Scheduler(\n",
        "            self.optimizer, self.model.d_model, n_warmup_steps=warmup_steps\n",
        "            )\n",
        "\n",
        "        \"\"\" Using CrossEntropy Loss function for predicting the masked_token \"\"\"\n",
        "        self.criterion = torch.nn.CrossEntropyLoss(ignore_index=-100)\n",
        "\n",
        "        print(\"Total Parameters:\", sum([p.nelement() for p in self.model.parameters()]))\n",
        "\n",
        "\n",
        "\n",
        "    def Fit(self, train_loader, num_epochs, path_to_save):\n",
        "\n",
        "      self.train_losses = []\n",
        "      lrs=[]\n",
        "\n",
        "      for epoch in range(num_epochs):\n",
        "        train_per_epoch_loss=0\n",
        "        train_data_total = 0\n",
        "\n",
        "        with tqdm(train_loader, unit=\"batch\") as batches:\n",
        "          for data in batches:\n",
        "            batches.set_description(f\"Epoch {epoch + 1}\")\n",
        "\n",
        "            # 0. batch_data will be sent into the device(GPU or cpu)\n",
        "            data = {key: value.to(self.device) for key, value in data.items()}\n",
        "\n",
        "            # 1. forward phase\n",
        "            logits = self.model(data[\"input_ids\"], data[\"segment_ids\"])\n",
        "\n",
        "            # 2. calculate Loss only for MASKed tokens\n",
        "            \"\"\" Attention! non-masked token ids are set to -100 \"\"\"\n",
        "            loss = self.criterion(logits.view(-1, logits.size(-1)), data[\"labels\"].view(-1))\n",
        "\n",
        "            # 3. backward and optimization\n",
        "            self.optimizer.zero_grad()\n",
        "            loss.backward()\n",
        "            self.optimizer.step()\n",
        "            self.lr_scheduler.step_and_update_lr()\n",
        "\n",
        "            lrs.append(self.optimizer.param_groups[0][\"lr\"])\n",
        "            train_data_total += len(data[\"labels\"])\n",
        "            train_per_epoch_loss += loss.item()\n",
        "            batches.set_postfix(train_loss = (train_per_epoch_loss/len(train_loader))) # update loss per batch of data\n",
        "\n",
        "        self.train_losses.append(train_per_epoch_loss/len(train_loader))\n",
        "\n",
        "        if epoch%10==0:\n",
        "          PATH=f\"{path_to_save}mlm_{num_epochs}Eps_{epoch}\"\n",
        "\n",
        "          torch.save({\n",
        "                      'epoch': epoch,\n",
        "                      'model_state_dict': self.model.state_dict(),\n",
        "                      'optimizer_state_dict': self.optimizer.state_dict(),\n",
        "                      'loss': self.train_losses[-1],\n",
        "                      }, PATH)\n",
        "\n",
        "      self.history={\n",
        "        'train_losses':self.train_losses,\n",
        "        'optimizer':self.optimizer,\n",
        "        'learning_rates':lrs\n",
        "      }\n",
        "      return self.history"
      ]
    },
    {
      "cell_type": "markdown",
      "metadata": {
        "id": "u2gjb2p1Ux7g"
      },
      "source": [
        "## 1-7-Training the model"
      ]
    },
    {
      "cell_type": "code",
      "execution_count": 21,
      "metadata": {
        "colab": {
          "base_uri": "https://localhost:8080/"
        },
        "id": "Lj_D9a9_8dlQ",
        "outputId": "e7b205b9-7f72-4455-ef66-c1c18b01db99"
      },
      "outputs": [
        {
          "name": "stdout",
          "output_type": "stream",
          "text": [
            "Total Parameters: 53105633\n"
          ]
        },
        {
          "name": "stderr",
          "output_type": "stream",
          "text": [
            "Epoch 1: 100%|██████████| 27/27 [00:26<00:00,  1.00batch/s, train_loss=7.6]\n",
            "Epoch 2: 100%|██████████| 27/27 [00:26<00:00,  1.01batch/s, train_loss=7.5]\n",
            "Epoch 3: 100%|██████████| 27/27 [00:27<00:00,  1.01s/batch, train_loss=7.45]\n",
            "Epoch 4: 100%|██████████| 27/27 [00:27<00:00,  1.01s/batch, train_loss=7.39]\n",
            "Epoch 5: 100%|██████████| 27/27 [00:26<00:00,  1.00batch/s, train_loss=7.32]\n",
            "Epoch 6: 100%|██████████| 27/27 [00:27<00:00,  1.00s/batch, train_loss=7.25]\n",
            "Epoch 7: 100%|██████████| 27/27 [00:27<00:00,  1.01s/batch, train_loss=7.16]\n",
            "Epoch 8: 100%|██████████| 27/27 [00:27<00:00,  1.01s/batch, train_loss=7.07]\n",
            "Epoch 9: 100%|██████████| 27/27 [00:27<00:00,  1.00s/batch, train_loss=6.99]\n",
            "Epoch 10: 100%|██████████| 27/27 [00:27<00:00,  1.00s/batch, train_loss=6.9]\n",
            "Epoch 11: 100%|██████████| 27/27 [00:27<00:00,  1.00s/batch, train_loss=6.81]\n",
            "Epoch 12: 100%|██████████| 27/27 [00:27<00:00,  1.01s/batch, train_loss=6.72]\n",
            "Epoch 13: 100%|██████████| 27/27 [00:27<00:00,  1.02s/batch, train_loss=6.64]\n",
            "Epoch 14: 100%|██████████| 27/27 [00:27<00:00,  1.00s/batch, train_loss=6.58]\n",
            "Epoch 15: 100%|██████████| 27/27 [00:27<00:00,  1.00s/batch, train_loss=6.52]\n",
            "Epoch 16: 100%|██████████| 27/27 [00:27<00:00,  1.01s/batch, train_loss=6.46]\n",
            "Epoch 17: 100%|██████████| 27/27 [00:27<00:00,  1.01s/batch, train_loss=6.41]\n",
            "Epoch 18: 100%|██████████| 27/27 [00:27<00:00,  1.00s/batch, train_loss=6.36]\n",
            "Epoch 19: 100%|██████████| 27/27 [00:27<00:00,  1.00s/batch, train_loss=6.33]\n",
            "Epoch 20: 100%|██████████| 27/27 [00:27<00:00,  1.01s/batch, train_loss=6.29]\n",
            "Epoch 21: 100%|██████████| 27/27 [00:27<00:00,  1.01s/batch, train_loss=6.28]\n",
            "Epoch 22: 100%|██████████| 27/27 [00:27<00:00,  1.01s/batch, train_loss=6.25]\n",
            "Epoch 23: 100%|██████████| 27/27 [00:27<00:00,  1.01s/batch, train_loss=6.23]\n",
            "Epoch 24: 100%|██████████| 27/27 [00:27<00:00,  1.00s/batch, train_loss=6.2]\n",
            "Epoch 25: 100%|██████████| 27/27 [00:27<00:00,  1.00s/batch, train_loss=6.19]\n",
            "Epoch 26: 100%|██████████| 27/27 [00:27<00:00,  1.01s/batch, train_loss=6.16]\n",
            "Epoch 27: 100%|██████████| 27/27 [00:27<00:00,  1.01s/batch, train_loss=6.15]\n",
            "Epoch 28: 100%|██████████| 27/27 [00:27<00:00,  1.01s/batch, train_loss=6.14]\n",
            "Epoch 29: 100%|██████████| 27/27 [00:27<00:00,  1.01s/batch, train_loss=6.12]\n",
            "Epoch 30: 100%|██████████| 27/27 [00:27<00:00,  1.00s/batch, train_loss=6.11]\n",
            "Epoch 31: 100%|██████████| 27/27 [00:27<00:00,  1.01s/batch, train_loss=6.1]\n",
            "Epoch 32: 100%|██████████| 27/27 [00:27<00:00,  1.01s/batch, train_loss=6.08]\n",
            "Epoch 33: 100%|██████████| 27/27 [00:27<00:00,  1.01s/batch, train_loss=6.08]\n",
            "Epoch 34: 100%|██████████| 27/27 [00:27<00:00,  1.00s/batch, train_loss=6.06]\n",
            "Epoch 35: 100%|██████████| 27/27 [00:27<00:00,  1.00s/batch, train_loss=6.06]\n",
            "Epoch 36: 100%|██████████| 27/27 [00:27<00:00,  1.01s/batch, train_loss=6.05]\n",
            "Epoch 37: 100%|██████████| 27/27 [00:27<00:00,  1.00s/batch, train_loss=6.04]\n",
            "Epoch 38: 100%|██████████| 27/27 [00:27<00:00,  1.00s/batch, train_loss=6.03]\n",
            "Epoch 39: 100%|██████████| 27/27 [00:27<00:00,  1.01s/batch, train_loss=6.03]\n",
            "Epoch 40: 100%|██████████| 27/27 [00:27<00:00,  1.01s/batch, train_loss=6.02]\n",
            "Epoch 41: 100%|██████████| 27/27 [00:27<00:00,  1.01s/batch, train_loss=6.02]\n",
            "Epoch 42: 100%|██████████| 27/27 [00:27<00:00,  1.01s/batch, train_loss=6.02]\n",
            "Epoch 43: 100%|██████████| 27/27 [00:27<00:00,  1.01s/batch, train_loss=6.01]\n",
            "Epoch 44: 100%|██████████| 27/27 [00:27<00:00,  1.00s/batch, train_loss=6]\n",
            "Epoch 45: 100%|██████████| 27/27 [00:27<00:00,  1.00s/batch, train_loss=6]\n",
            "Epoch 46: 100%|██████████| 27/27 [00:27<00:00,  1.00s/batch, train_loss=5.99]\n",
            "Epoch 47: 100%|██████████| 27/27 [00:27<00:00,  1.01s/batch, train_loss=5.99]\n",
            "Epoch 48: 100%|██████████| 27/27 [00:27<00:00,  1.01s/batch, train_loss=5.99]\n",
            "Epoch 49: 100%|██████████| 27/27 [00:27<00:00,  1.01s/batch, train_loss=5.98]\n",
            "Epoch 50: 100%|██████████| 27/27 [00:27<00:00,  1.00s/batch, train_loss=5.98]\n",
            "Epoch 51: 100%|██████████| 27/27 [00:27<00:00,  1.00s/batch, train_loss=5.98]\n",
            "Epoch 52: 100%|██████████| 27/27 [00:27<00:00,  1.01s/batch, train_loss=5.97]\n",
            "Epoch 53: 100%|██████████| 27/27 [00:27<00:00,  1.01s/batch, train_loss=5.97]\n",
            "Epoch 54: 100%|██████████| 27/27 [00:27<00:00,  1.00s/batch, train_loss=5.97]\n",
            "Epoch 55: 100%|██████████| 27/27 [00:27<00:00,  1.00s/batch, train_loss=5.97]\n",
            "Epoch 56: 100%|██████████| 27/27 [00:27<00:00,  1.00s/batch, train_loss=5.97]\n",
            "Epoch 57: 100%|██████████| 27/27 [00:27<00:00,  1.00s/batch, train_loss=5.97]\n",
            "Epoch 58: 100%|██████████| 27/27 [00:27<00:00,  1.00s/batch, train_loss=5.97]\n",
            "Epoch 59: 100%|██████████| 27/27 [00:27<00:00,  1.00s/batch, train_loss=5.97]\n",
            "Epoch 60: 100%|██████████| 27/27 [00:27<00:00,  1.00s/batch, train_loss=5.97]\n"
          ]
        }
      ],
      "source": [
        "device = torch.device(\"cuda:0\" if torch.cuda.is_available() else \"cpu\")\n",
        "path_to_save_checkpoints=\"./data/model\"\n",
        "\n",
        "num_epochs = 60\n",
        "BATCH_SIZE=128\n",
        "train_loader = DataLoader(preprocessed_data, batch_size=BATCH_SIZE, shuffle=True, pin_memory=True)\n",
        "\n",
        "\n",
        "model = Masked_Language_Model(\n",
        "  vocab_size=tokenizer.vocab_size,\n",
        "  seq_len=MAX_LEN,\n",
        "  d_model=768,\n",
        "  n_layers=6,\n",
        "  heads=12,\n",
        "  dropout=0.1,\n",
        "  device=device\n",
        ")\n",
        "model=model.to(device)\n",
        "\n",
        "trainer = Trainer(model, train_loader, num_epochs, lr= 1e-3, weight_decay=0.08, betas=(0.9, 0.999), device=device)\n",
        "history=trainer.Fit(train_loader, num_epochs, path_to_save_checkpoints)"
      ]
    },
    {
      "cell_type": "markdown",
      "metadata": {
        "id": "bs3x2Jwb9HA3"
      },
      "source": [
        "Plot Training Loss"
      ]
    },
    {
      "cell_type": "code",
      "execution_count": 22,
      "metadata": {
        "colab": {
          "base_uri": "https://localhost:8080/",
          "height": 487
        },
        "id": "W7-y6Wt69E8S",
        "outputId": "8290ea23-0b30-4d13-8b0c-c1c8db74c96d"
      },
      "outputs": [
        {
          "data": {
            "image/png": "[encoded data removed]",
            "text/plain": [
              "<Figure size 700x500 with 1 Axes>"
            ]
          },
          "metadata": {},
          "output_type": "display_data"
        }
      ],
      "source": [
        "plt.subplots(figsize=(7, 5))\n",
        "sns.set_style(\"dark\")\n",
        "sns.lineplot(data=np.asarray(history['train_losses']),label=\"Train Loss\").set(title=\"loss change during training\", xlabel=\"epoch\", ylabel=\"loss\")\n",
        "plt.legend()\n",
        "plt.show()"
      ]
    },
    {
      "cell_type": "markdown",
      "metadata": {
        "id": "ewYp_Z474-Lh"
      },
      "source": [
        "# 2-Implement MLM with Hugging_Face: <font color=yellow>Total Points:30</font>"
      ]
    },
    {
      "cell_type": "markdown",
      "metadata": {
        "id": "pPYggFvgMhJ7"
      },
      "source": [
        "<h3><font color=lightblue>In this part you will train a RoBERTa MLM using Hugging Face library</font></h3>"
      ]
    },
    {
      "cell_type": "markdown",
      "metadata": {
        "id": "_hZXSIbK64Sm"
      },
      "source": [
        "<h4>you will need a token with <font color=greeen>WRITE</font> permission</h4>"
      ]
    },
    {
      "cell_type": "code",
      "execution_count": 23,
      "metadata": {
        "colab": {
          "base_uri": "https://localhost:8080/",
          "height": 145,
          "referenced_widgets": [
            "aec5975127fd4df4a3aca6811f2851b1",
            "7c1f4d13f1c64891983b4693ddd223a1",
            "969f491211b24714b606cf6de59793fb",
            "9f19e4f0dea746648203e0e1fa059b21",
            "ab93f8b2b23a4624b02d68c991ee8413",
            "9e22382a0338425eaf67c108fd0ac26e",
            "c22f4fdbfdba44eea964a6e977d63447",
            "dee9fe4bd5a843549eed2e3aa9a3f188",
            "fa89aceb4af6420ab67a1efd2fb9ef3a",
            "570dd4b277944ebbb248d8c3031ee8bb",
            "fc95c69cba614dcd8495a929ade5e506",
            "d47238b9e9b9442abe55fdaeae863bd3",
            "e2ec703c9a074bddb92197ebf616730b",
            "38747144667749099891544e8e7ef1d9",
            "eb2801055ce84bcd951f76f0f7ba27f4",
            "850c815544294135befec67bf0e27597",
            "074aed4122b34c8cb20928339f886278",
            "437d37455aea4d5ca029d01297b32d3d",
            "12f37c8eb6824ca9bad35acb1f2b061a",
            "f09a45523aec4d51b95dc1b3237baae3",
            "278e048e90f44f389a753bb33cef39a0",
            "bbb6c75214e0456d8ca9c9c420d9b04f",
            "642d65c1681c43bf964754ac528a744c",
            "79eabb35aa20449a8d49c4e03aa9649f",
            "ffb8f20264124ba1bb5e874fb1743613",
            "f5d8c31aac00494cb1bcaf2203843abb",
            "f904bfbc0c8a4b86ba2f699f03787bfb",
            "80cf166196aa4e27a0c5f7119d5469bb",
            "87e6477fb28a43ba88d879858fa9625a",
            "49f5f30841b14cc48bd1101e9b831fb7",
            "86d4eed4140347318d79c712f3af126c",
            "042324eb6f8247f7912aca1b71825682"
          ]
        },
        "id": "AKv_43yzcMDz",
        "outputId": "824de850-91ad-4cf6-928b-46aed94191c4"
      },
      "outputs": [
        {
          "data": {
            "application/vnd.jupyter.widget-view+json": {
              "model_id": "aec5975127fd4df4a3aca6811f2851b1",
              "version_major": 2,
              "version_minor": 0
            },
            "text/plain": [
              "VBox(children=(HTML(value='<center> <img\\nsrc=https://huggingface.co/front/assets/huggingface_logo-noborder.sv…"
            ]
          },
          "metadata": {},
          "output_type": "display_data"
        }
      ],
      "source": [
        "#logging in to hugging face\n",
        "notebook_login()"
      ]
    },
    {
      "cell_type": "markdown",
      "metadata": {
        "id": "0DkOJRfkG4NN"
      },
      "source": [
        "## 2-1-Load, Train and Save the Tokenizer on Dataset texts"
      ]
    },
    {
      "cell_type": "code",
      "execution_count": 25,
      "metadata": {
        "id": "9jDvD1pbSTE4"
      },
      "outputs": [],
      "source": [
        "#load dataset file and clean it\n",
        "with open('./data/Parsi_Mianeh_Corpus.txt', 'r') as f:\n",
        "  corpus = f.read()\n",
        "corpus = re.sub('٭', '', corpus)\n",
        "corpus = re.sub('\\xa0', '', corpus)\n",
        "corpus = re.sub('#', '', corpus)"
      ]
    },
    {
      "cell_type": "code",
      "execution_count": 26,
      "metadata": {
        "id": "IBo_1z8gXP7t"
      },
      "outputs": [],
      "source": [
        "#train tokenizer from scratch with byte pair level\n",
        "spl_tokens = [\"[UNK]\", \"[SEP]\", \"[MASK]\", \"[CLS]\", \"[PAD]\"]\n",
        "temp_post_processor = tokenizers.processors.TemplateProcessing(\n",
        "    single=\"[CLS] $A [SEP]\",\n",
        "    pair=\"[CLS] $A [SEP] $B:1 [SEP]:1\",\n",
        "    special_tokens=[\n",
        "        (\"[CLS]\", spl_tokens.index(\"[CLS]\")),\n",
        "        (\"[SEP]\", spl_tokens.index(\"[SEP]\")),\n",
        "    ],\n",
        ")\n",
        "\n",
        "tokenizer = tokenizers.Tokenizer(tokenizers.models.BPE(unk_token = spl_tokens[0], mask_token=spl_tokens[2]))\n",
        "tokenizer_trainer = tokenizers.trainers.BpeTrainer(special_tokens = spl_tokens)\n",
        "tokenizer.pre_tokenizer = tokenizers.pre_tokenizers.Whitespace()\n",
        "tokenizer.post_processor=temp_post_processor\n",
        "\n",
        "paths = [\"./data/Parsi_Mianeh_Corpus.txt\"]\n",
        "tokenizer.train(paths, tokenizer_trainer)\n",
        "tokenizer.save('tokenizer.json')"
      ]
    },
    {
      "cell_type": "code",
      "execution_count": 27,
      "metadata": {
        "colab": {
          "base_uri": "https://localhost:8080/"
        },
        "id": "1hk7Nv_fv1wk",
        "outputId": "e8c4c6bd-9cbb-4e86-b0da-d555cb532306"
      },
      "outputs": [
        {
          "name": "stdout",
          "output_type": "stream",
          "text": [
            "6881\n"
          ]
        }
      ],
      "source": [
        "#get vocab size\n",
        "vocab_size = tokenizer.get_vocab_size()\n",
        "print(vocab_size)"
      ]
    },
    {
      "cell_type": "code",
      "execution_count": 28,
      "metadata": {
        "colab": {
          "base_uri": "https://localhost:8080/"
        },
        "id": "pxfX3cf7s1ps",
        "outputId": "ee6e4871-ebdb-4297-9ccd-f1293e0628e7"
      },
      "outputs": [
        {
          "name": "stderr",
          "output_type": "stream",
          "text": [
            "The tokenizer class you load from this checkpoint is not the same type as the class this function is called from. It may result in unexpected tokenization. \n",
            "The tokenizer class you load from this checkpoint is 'PreTrainedTokenizerFast'. \n",
            "The class this function is called from is 'RobertaTokenizerFast'.\n"
          ]
        },
        {
          "data": {
            "text/plain": [
              "('tokenizer/tokenizer_config.json',\n",
              " 'tokenizer/special_tokens_map.json',\n",
              " 'tokenizer/vocab.json',\n",
              " 'tokenizer/merges.txt',\n",
              " 'tokenizer/added_tokens.json',\n",
              " 'tokenizer/tokenizer.json')"
            ]
          },
          "execution_count": 28,
          "metadata": {},
          "output_type": "execute_result"
        }
      ],
      "source": [
        "#saved fast tokenizer to file and convert it to roberta tokenizer\n",
        "fast_tokenizer = transformers.PreTrainedTokenizerFast(tokenizer_file='tokenizer.json')\n",
        "fast_tokenizer.save_pretrained('fast_tokenizer')\n",
        "\n",
        "tok = transformers.RobertaTokenizerFast.from_pretrained('fast_tokenizer')\n",
        "tok.unk_token_id = 0\n",
        "tok.sep_token_id = 1\n",
        "tok.mask_token_id = 2\n",
        "tok.cls_token_id = 3\n",
        "tok.pad_token_id = 4\n",
        "\n",
        "your_hugging_face_id=\"Dan1212121212\"\n",
        "tok.save_pretrained(f'{your_hugging_face_id}/parsig_pos', push_to_hub=True)\n",
        "tok.save_pretrained(f'{your_hugging_face_id}/parsig_tokenizer', push_to_hub=True)\n",
        "tok.save_pretrained('tokenizer')"
      ]
    },
    {
      "cell_type": "markdown",
      "metadata": {
        "id": "ZTXSKuHPHCHU"
      },
      "source": [
        "## 2-2-Data preparation"
      ]
    },
    {
      "cell_type": "code",
      "execution_count": 29,
      "metadata": {
        "id": "lYxsLPWxgpZ-"
      },
      "outputs": [],
      "source": [
        "#define Custom Dataset class for our model\n",
        "class CustomDataset(torch.utils.data.Dataset):\n",
        "    def __init__(self, df, tokenizer):\n",
        "        # or use the RobertaTokenizer from `transformers` directly.\n",
        "        self.examples = []\n",
        "        # For every value in the dataframe\n",
        "        for example in df.values:\n",
        "            x=tokenizer.encode_plus(example, max_length = 100, truncation=True, padding=True)\n",
        "            self.examples += [{\"input_ids\":x.input_ids, \"attention_mask\": x.attention_mask}]\n",
        "\n",
        "    def __len__(self):\n",
        "        return len(self.examples)\n",
        "\n",
        "    def __getitem__(self, i):\n",
        "        # We’ll pad at the batch level.\n",
        "        return {key: torch.tensor(value) for key, value in self.examples[i].items()}"
      ]
    },
    {
      "cell_type": "code",
      "execution_count": 31,
      "metadata": {
        "colab": {
          "base_uri": "https://localhost:8080/"
        },
        "id": "Hnr33GyoGrFN",
        "outputId": "7351ce05-e0c6-4a0c-f9cd-56c266f9682c"
      },
      "outputs": [
        {
          "name": "stderr",
          "output_type": "stream",
          "text": [
            "Special tokens have been added in the vocabulary, make sure the associated word embeddings are fine-tuned or trained.\n"
          ]
        }
      ],
      "source": [
        "#load tokenizer from trained model\n",
        "tokenizer = transformers.AutoTokenizer.from_pretrained('tokenizer', padding_side='right', max_length=100)\n",
        "\n",
        "#read files again for train model\n",
        "with open('./data/Parsi_Mianeh_Corpus.txt', 'r') as f:\n",
        "  fin_snt = f.read()\n",
        "fin_snt = fin_snt.split('\\n')[:-1]\n",
        "\n",
        "\n",
        "# Create the train and evaluation dataset\n",
        "train_data, eval_data = train_test_split(fin_snt, train_size=0.85)\n",
        "train_df = pd.DataFrame({'text': train_data})\n",
        "eval_df = pd.DataFrame({'text': eval_data})\n",
        "\n",
        "train_dataset = CustomDataset(train_df['text'], tokenizer)\n",
        "eval_dataset = CustomDataset(eval_df['text'], tokenizer)"
      ]
    },
    {
      "cell_type": "markdown",
      "metadata": {
        "id": "hqT3fZAEIArI"
      },
      "source": [
        "## 2-3-Define model and its Config"
      ]
    },
    {
      "cell_type": "code",
      "execution_count": 32,
      "metadata": {
        "id": "VYxQQUaker61"
      },
      "outputs": [],
      "source": [
        "#generate config for train Roberta masked language model\n",
        "from transformers import RobertaForMaskedLM\n",
        "from transformers import RobertaConfig\n",
        "\n",
        "\"\"\" Define appropriate config and instantiate the model  \"\"\"\n",
        "config = RobertaConfig()\n",
        "model = RobertaForMaskedLM(config=config)"
      ]
    },
    {
      "cell_type": "code",
      "execution_count": 33,
      "metadata": {
        "id": "nTQ6YP5SGsj0"
      },
      "outputs": [],
      "source": [
        "from transformers import DataCollatorForLanguageModeling\n",
        "\"\"\" Define datacollator for masked language modeling and set the appropriate parameters  \"\"\"\n",
        "data_collator = DataCollatorForLanguageModeling(\n",
        "    tokenizer=tokenizer,\n",
        "    mlm=True,\n",
        "    mlm_probability=0.15,\n",
        ")"
      ]
    },
    {
      "cell_type": "markdown",
      "metadata": {
        "id": "4LSOT5pGIJft"
      },
      "source": [
        "## 2-4-Set training arguments and define a Trainer"
      ]
    },
    {
      "cell_type": "code",
      "execution_count": 34,
      "metadata": {
        "id": "YSutZcOVMgo0"
      },
      "outputs": [],
      "source": [
        "from transformers import Trainer, TrainingArguments, EarlyStoppingCallback\n",
        "\n",
        "\"\"\" Define training arguments and trainer  \"\"\"\n",
        "\"\"\" Use EarlyStopping CallBack \"\"\"\n",
        "\n",
        "NUM_EPOCHS=200\n",
        "BATCH_SIZE=64\n",
        "learning_rate=1e-4\n",
        "checkpoints_output_dir=\"./data/MLM\"\n",
        "\n",
        "early_stopping_callBack = EarlyStoppingCallback(\n",
        "    early_stopping_patience=5,\n",
        "    early_stopping_threshold=0.005\n",
        ")\n",
        "\n",
        "training_args = TrainingArguments(\n",
        "    output_dir=checkpoints_output_dir,\n",
        "    overwrite_output_dir=True,\n",
        "    num_train_epochs=NUM_EPOCHS,\n",
        "    per_device_train_batch_size=BATCH_SIZE,\n",
        "    learning_rate=learning_rate,\n",
        "    save_total_limit=2,\n",
        "    save_steps=500,\n",
        "    logging_dir=\"./logs\",\n",
        "    logging_steps=100,\n",
        "    evaluation_strategy=\"steps\",\n",
        "    eval_steps=500,\n",
        "    load_best_model_at_end=True,\n",
        "    metric_for_best_model=\"eval_loss\"\n",
        ")\n",
        "\n",
        "trainer = Trainer(\n",
        "    model=model,\n",
        "    args=training_args,\n",
        "    data_collator=data_collator,\n",
        "    train_dataset=train_dataset,\n",
        "    eval_dataset = eval_dataset,\n",
        "    callbacks=[early_stopping_callBack]\n",
        ")"
      ]
    },
    {
      "cell_type": "markdown",
      "metadata": {
        "id": "GsV1xR1OOvgb"
      },
      "source": [
        "## 2-5-Training the model"
      ]
    },
    {
      "cell_type": "markdown",
      "metadata": {
        "id": "BkwZbgpUUEdT"
      },
      "source": [
        "<h4><font color=hotpink>Perplexity before Training</font></h4>"
      ]
    },
    {
      "cell_type": "markdown",
      "metadata": {
        "id": "vz7wAw1N5F23"
      },
      "source": [
        "\n",
        "*   <font color=lightblue>In information theory, perplexity is a measurement of how well a probability distribution or probability model predicts a sample. </font>\n",
        "*   <font color=lightblue>A low perplexity indicates the probability distribution is good at predicting the sample.</font>\n",
        "*   <font color=lightblue>The perplexity of a language model measures the degree of uncertainty of a LM when it generates a new token, averaged over very long sequences</font>\n",
        "\n",
        "<font color=lightpink>We will calculate perplexity before and after training, in order to see how well the model is doing:</font>"
      ]
    },
    {
      "cell_type": "code",
      "execution_count": 35,
      "metadata": {
        "colab": {
          "base_uri": "https://localhost:8080/",
          "height": 92
        },
        "id": "7wHH6egbN4Oq",
        "outputId": "19f5e57c-f162-4d5b-a963-8f9fb3824903"
      },
      "outputs": [
        {
          "name": "stderr",
          "output_type": "stream",
          "text": [
            "You're using a RobertaTokenizerFast tokenizer. Please note that with a fast tokenizer, using the `__call__` method is faster than using a method to encode the text followed by a call to the `pad` method to get a padded encoding.\n"
          ]
        },
        {
          "data": {
            "text/html": [
              "\n",
              "    <div>\n",
              "      \n",
              "      <progress value='64' max='64' style='width:300px; height:20px; vertical-align: middle;'></progress>\n",
              "      [64/64 00:02]\n",
              "    </div>\n",
              "    "
            ],
            "text/plain": [
              "<IPython.core.display.HTML object>"
            ]
          },
          "metadata": {},
          "output_type": "display_data"
        },
        {
          "name": "stdout",
          "output_type": "stream",
          "text": [
            ">>> Perplexity: 61800.74\n"
          ]
        }
      ],
      "source": [
        "import math\n",
        "\n",
        "eval_results = trainer.evaluate()\n",
        "print(f\">>> Perplexity: {math.exp(eval_results['eval_loss']):.2f}\")"
      ]
    },
    {
      "cell_type": "markdown",
      "metadata": {
        "id": "dO2PUiyNKc_T"
      },
      "source": [
        "**Train the model and Save it**"
      ]
    },
    {
      "cell_type": "code",
      "execution_count": 36,
      "metadata": {
        "colab": {
          "base_uri": "https://localhost:8080/",
          "height": 429
        },
        "id": "kTcDnOd4Kbky",
        "outputId": "700626d2-fbf5-4336-daf5-301dbd4ab85f"
      },
      "outputs": [
        {
          "data": {
            "text/html": [
              "\n",
              "    <div>\n",
              "      \n",
              "      <progress value='4500' max='9200' style='width:300px; height:20px; vertical-align: middle;'></progress>\n",
              "      [4500/9200 1:31:05 < 1:35:11, 0.82 it/s, Epoch 97/200]\n",
              "    </div>\n",
              "    <table border=\"1\" class=\"dataframe\">\n",
              "  <thead>\n",
              " <tr style=\"text-align: left;\">\n",
              "      <th>Step</th>\n",
              "      <th>Training Loss</th>\n",
              "      <th>Validation Loss</th>\n",
              "    </tr>\n",
              "  </thead>\n",
              "  <tbody>\n",
              "    <tr>\n",
              "      <td>500</td>\n",
              "      <td>6.037200</td>\n",
              "      <td>6.302769</td>\n",
              "    </tr>\n",
              "    <tr>\n",
              "      <td>1000</td>\n",
              "      <td>6.025700</td>\n",
              "      <td>6.237445</td>\n",
              "    </tr>\n",
              "    <tr>\n",
              "      <td>1500</td>\n",
              "      <td>6.008400</td>\n",
              "      <td>6.293730</td>\n",
              "    </tr>\n",
              "    <tr>\n",
              "      <td>2000</td>\n",
              "      <td>5.978400</td>\n",
              "      <td>6.183561</td>\n",
              "    </tr>\n",
              "    <tr>\n",
              "      <td>2500</td>\n",
              "      <td>5.973800</td>\n",
              "      <td>6.518391</td>\n",
              "    </tr>\n",
              "    <tr>\n",
              "      <td>3000</td>\n",
              "      <td>5.979500</td>\n",
              "      <td>6.228194</td>\n",
              "    </tr>\n",
              "    <tr>\n",
              "      <td>3500</td>\n",
              "      <td>5.972600</td>\n",
              "      <td>6.392089</td>\n",
              "    </tr>\n",
              "    <tr>\n",
              "      <td>4000</td>\n",
              "      <td>5.974400</td>\n",
              "      <td>6.251509</td>\n",
              "    </tr>\n",
              "    <tr>\n",
              "      <td>4500</td>\n",
              "      <td>5.969400</td>\n",
              "      <td>6.449364</td>\n",
              "    </tr>\n",
              "  </tbody>\n",
              "</table><p>"
            ],
            "text/plain": [
              "<IPython.core.display.HTML object>"
            ]
          },
          "metadata": {},
          "output_type": "display_data"
        },
        {
          "data": {
            "text/html": [
              "\n",
              "    <div>\n",
              "      \n",
              "      <progress value='128' max='64' style='width:300px; height:20px; vertical-align: middle;'></progress>\n",
              "      [64/64 09:57]\n",
              "    </div>\n",
              "    "
            ],
            "text/plain": [
              "<IPython.core.display.HTML object>"
            ]
          },
          "metadata": {},
          "output_type": "display_data"
        },
        {
          "name": "stderr",
          "output_type": "stream",
          "text": [
            "There were missing keys in the checkpoint model loaded: ['lm_head.decoder.weight', 'lm_head.decoder.bias'].\n"
          ]
        },
        {
          "data": {
            "text/plain": [
              "TrainOutput(global_step=4500, training_loss=6.025305257161459, metrics={'train_runtime': 5467.0061, 'train_samples_per_second': 105.981, 'train_steps_per_second': 1.683, 'total_flos': 1.226417275956015e+16, 'train_loss': 6.025305257161459, 'epoch': 97.83})"
            ]
          },
          "execution_count": 36,
          "metadata": {},
          "output_type": "execute_result"
        }
      ],
      "source": [
        "# Train the model\n",
        "trainer.train()"
      ]
    },
    {
      "cell_type": "code",
      "execution_count": 37,
      "metadata": {
        "id": "Q4u_mUlr5XO1"
      },
      "outputs": [],
      "source": [
        "path_to_save_model=\"./data/model2\"\n",
        "trainer.save_model(f\"{path_to_save_model}/model.pk\")"
      ]
    },
    {
      "cell_type": "code",
      "execution_count": 38,
      "metadata": {
        "colab": {
          "base_uri": "https://localhost:8080/"
        },
        "id": "Tt8LiD6M0khP",
        "outputId": "9f91bb03-f8fa-4613-ad96-d59351db4a14"
      },
      "outputs": [
        {
          "data": {
            "text/plain": [
              "('./data/model2/tokenizer.pk/tokenizer_config.json',\n",
              " './data/model2/tokenizer.pk/special_tokens_map.json',\n",
              " './data/model2/tokenizer.pk/vocab.json',\n",
              " './data/model2/tokenizer.pk/merges.txt',\n",
              " './data/model2/tokenizer.pk/added_tokens.json',\n",
              " './data/model2/tokenizer.pk/tokenizer.json')"
            ]
          },
          "execution_count": 38,
          "metadata": {},
          "output_type": "execute_result"
        }
      ],
      "source": [
        "tokenizer.save_pretrained(f'{path_to_save_model}/tokenizer.pk')"
      ]
    },
    {
      "cell_type": "code",
      "execution_count": 39,
      "metadata": {
        "colab": {
          "base_uri": "https://localhost:8080/",
          "height": 132,
          "referenced_widgets": [
            "bc1397bd66bb419982b9ea6cacdf8937",
            "ee563af2f4b944cdb49f7577941c18a7",
            "b35c6594298743348c67bbbb90643313",
            "469247f9a20841e4b1520ee2ff7ad653",
            "37c729a023fb42fc81cb84a85b4adac3",
            "12b2589992d7459aabd1ae023c9acc80",
            "ede236c240bf4b53979439b48fbf7883",
            "c1f7433049a34a14b7a984c3b706e239",
            "b18f1d5f0ef44e799b6b89c45132ad24",
            "1464e5afa5b045bcb2de74a44773b360",
            "f193f12757c14604a0deb970853038be",
            "b8a4e2b047a54118acb3c632d620854c",
            "f4af77f877794962a1a68c0e185d196e",
            "11b21b29d3aa49da98fcb8618acf9ce4",
            "66eba6cc9e40425495f1abfdd8bcfc3a",
            "b6d757c8ce4e425b871694e24832a0d0",
            "67f3b2659ccb44bd996376b9ba10fa0c",
            "4e1ec022dd214327915320c16ec99530",
            "1115c415296d4582bc542ab11c30efaf",
            "cacceca245684c71bbb71f94a1d653ae",
            "7c4d6c927e91486d949a75d9bbcc7ccf",
            "0ddb369194184a5198a528f5d0aa651b",
            "c438bee4ae6a4b4a9a1d99df5f59a491",
            "ed1602171c604863b7af2ad8c8348d3c",
            "476d083722ff4be18b68580ef6be49c6",
            "cdf600d2c7f042d2a83c47906ef21416",
            "e294cb8e38944c67a22dc0af393c757a",
            "341cef0cee0a4ba3b5f8646edee9ee8c",
            "5b7372320c9a4fef92d5a0bdaaffb94f",
            "22762a9a5371444c9331882f7986990e",
            "56bc5b7846534a64a840ad6fa99d3bb1",
            "230e3fd312ca46f1a22fbc4c182d7e22",
            "f36e18ca6d1045f3905a8c07c2006385"
          ]
        },
        "id": "ysSlQ27Q5axO",
        "outputId": "52db4e09-d3cc-4972-a709-196c34d9fbff"
      },
      "outputs": [
        {
          "data": {
            "application/vnd.jupyter.widget-view+json": {
              "model_id": "bc1397bd66bb419982b9ea6cacdf8937",
              "version_major": 2,
              "version_minor": 0
            },
            "text/plain": [
              "Upload 2 LFS files:   0%|          | 0/2 [00:00<?, ?it/s]"
            ]
          },
          "metadata": {},
          "output_type": "display_data"
        },
        {
          "data": {
            "application/vnd.jupyter.widget-view+json": {
              "model_id": "b8a4e2b047a54118acb3c632d620854c",
              "version_major": 2,
              "version_minor": 0
            },
            "text/plain": [
              "model.safetensors:   0%|          | 0.00/499M [00:00<?, ?B/s]"
            ]
          },
          "metadata": {},
          "output_type": "display_data"
        },
        {
          "data": {
            "application/vnd.jupyter.widget-view+json": {
              "model_id": "c438bee4ae6a4b4a9a1d99df5f59a491",
              "version_major": 2,
              "version_minor": 0
            },
            "text/plain": [
              "training_args.bin:   0%|          | 0.00/4.54k [00:00<?, ?B/s]"
            ]
          },
          "metadata": {},
          "output_type": "display_data"
        },
        {
          "data": {
            "application/vnd.google.colaboratory.intrinsic+json": {
              "type": "string"
            },
            "text/plain": [
              "'https://huggingface.co/Dan1212121212/MLM/tree/main/'"
            ]
          },
          "execution_count": 39,
          "metadata": {},
          "output_type": "execute_result"
        }
      ],
      "source": [
        "trainer.push_to_hub()"
      ]
    },
    {
      "cell_type": "code",
      "execution_count": 40,
      "metadata": {
        "colab": {
          "base_uri": "https://localhost:8080/"
        },
        "id": "18iY2gzC0k2h",
        "outputId": "164a51a1-f3a3-4d2c-fc53-06acba9bd1e5"
      },
      "outputs": [
        {
          "data": {
            "text/plain": [
              "('Dan1212121212/mlm_tokenizer/tokenizer_config.json',\n",
              " 'Dan1212121212/mlm_tokenizer/special_tokens_map.json',\n",
              " 'Dan1212121212/mlm_tokenizer/vocab.json',\n",
              " 'Dan1212121212/mlm_tokenizer/merges.txt',\n",
              " 'Dan1212121212/mlm_tokenizer/added_tokens.json',\n",
              " 'Dan1212121212/mlm_tokenizer/tokenizer.json')"
            ]
          },
          "execution_count": 40,
          "metadata": {},
          "output_type": "execute_result"
        }
      ],
      "source": [
        "tokenizer.save_pretrained(f'{your_hugging_face_id}/mlm_tokenizer', push_to_hub=True)"
      ]
    },
    {
      "cell_type": "markdown",
      "metadata": {
        "id": "c2mBruvxURGS"
      },
      "source": [
        "<h4><font color=hotpink>Perplexity after Training</font></h4>"
      ]
    },
    {
      "cell_type": "code",
      "execution_count": 41,
      "metadata": {
        "colab": {
          "base_uri": "https://localhost:8080/",
          "height": 54
        },
        "id": "iMYApW8UN7gO",
        "outputId": "d7457bf1-e815-45c0-a419-e07a4ecc830e"
      },
      "outputs": [
        {
          "data": {
            "text/html": [
              "\n",
              "    <div>\n",
              "      \n",
              "      <progress value='64' max='64' style='width:300px; height:20px; vertical-align: middle;'></progress>\n",
              "      [64/64 00:02]\n",
              "    </div>\n",
              "    "
            ],
            "text/plain": [
              "<IPython.core.display.HTML object>"
            ]
          },
          "metadata": {},
          "output_type": "display_data"
        },
        {
          "name": "stdout",
          "output_type": "stream",
          "text": [
            ">>> Perplexity: 506.99\n"
          ]
        }
      ],
      "source": [
        "eval_results = trainer.evaluate()\n",
        "print(f\">>> Perplexity: {math.exp(eval_results['eval_loss']):.2f}\")"
      ]
    },
    {
      "cell_type": "code",
      "execution_count": 42,
      "metadata": {
        "colab": {
          "base_uri": "https://localhost:8080/"
        },
        "id": "ugmqLiks46Mf",
        "outputId": "270800d5-8cb0-440a-ef0a-5c3a606193e2"
      },
      "outputs": [
        {
          "name": "stdout",
          "output_type": "stream",
          "text": [
            ">>> hamāg - zōhr pus ī wāspuhr ī šāhān - ī dāmān pahlomtom andar gēhān abāyišnīgtom\n",
            ">>> hamāg - zōhr pus ī wāspuhr ī šāhān ī ī dāmān pahlomtom andar gēhān abāyišnīgtom\n",
            ">>> hamāg - zōhr pus ī wāspuhr ī šāhān ud ī dāmān pahlomtom andar gēhān abāyišnīgtom\n",
            ">>> hamāg - zōhr pus ī wāspuhr ī šāhān pad ī dāmān pahlomtom andar gēhān abāyišnīgtom\n",
            ">>> hamāg - zōhr pus ī wāspuhr ī šāhān ō ī dāmān pahlomtom andar gēhān abāyišnīgtom\n"
          ]
        }
      ],
      "source": [
        "from transformers import pipeline\n",
        "\n",
        "model=model.to(\"cpu\")\n",
        "mask_filler = pipeline('fill-mask', model=model, tokenizer=tokenizer)\n",
        "\n",
        "masked_query=\"hamāg-zōhr pus ī wāspuhr ī šāhān [MASK] ī dāmān pahlomtom andar gēhān abāyišnīgtom\"\n",
        "preds=mask_filler(masked_query)\n",
        "\n",
        "for pred in preds:\n",
        "    print(f\">>> {pred['sequence']}\")"
      ]
    }
  ],
  "metadata": {
    "accelerator": "GPU",
    "colab": {
      "collapsed_sections": [
        "detIdW4eVJsV",
        "_6C7a70U5E5x",
        "FoiUphZzvzX-",
        "VpVv_m6lv8vB",
        "G73cmtcE1c9A",
        "r22vwGSW1qxZ",
        "3FMHUw0874c8",
        "NxTNofhRNi84",
        "u2gjb2p1Ux7g",
        "ewYp_Z474-Lh",
        "0DkOJRfkG4NN",
        "ZTXSKuHPHCHU",
        "hqT3fZAEIArI",
        "4LSOT5pGIJft",
        "GsV1xR1OOvgb"
      ],
      "gpuType": "T4",
      "provenance": []
    },
    "kernelspec": {
      "display_name": "Python 3",
      "name": "python3"
    },
    "language_info": {
      "codemirror_mode": {
        "name": "ipython",
        "version": 3
      },
      "file_extension": ".py",
      "mimetype": "text/x-python",
      "name": "python",
      "nbconvert_exporter": "python",
      "pygments_lexer": "ipython3",
      "version": "3.11.3"
    },
    "widgets": {
      "application/vnd.jupyter.widget-state+json": {
        "042324eb6f8247f7912aca1b71825682": {
          "model_module": "@jupyter-widgets/controls",
          "model_module_version": "1.5.0",
          "model_name": "DescriptionStyleModel",
          "state": {
            "_model_module": "@jupyter-widgets/controls",
            "_model_module_version": "1.5.0",
            "_model_name": "DescriptionStyleModel",
            "_view_count": null,
            "_view_module": "@jupyter-widgets/base",
            "_view_module_version": "1.2.0",
            "_view_name": "StyleView",
            "description_width": ""
          }
        },
        "074aed4122b34c8cb20928339f886278": {
          "model_module": "@jupyter-widgets/controls",
          "model_module_version": "1.5.0",
          "model_name": "DescriptionStyleModel",
          "state": {
            "_model_module": "@jupyter-widgets/controls",
            "_model_module_version": "1.5.0",
            "_model_name": "DescriptionStyleModel",
            "_view_count": null,
            "_view_module": "@jupyter-widgets/base",
            "_view_module_version": "1.2.0",
            "_view_name": "StyleView",
            "description_width": ""
          }
        },
        "0ddb369194184a5198a528f5d0aa651b": {
          "model_module": "@jupyter-widgets/controls",
          "model_module_version": "1.5.0",
          "model_name": "DescriptionStyleModel",
          "state": {
            "_model_module": "@jupyter-widgets/controls",
            "_model_module_version": "1.5.0",
            "_model_name": "DescriptionStyleModel",
            "_view_count": null,
            "_view_module": "@jupyter-widgets/base",
            "_view_module_version": "1.2.0",
            "_view_name": "StyleView",
            "description_width": ""
          }
        },
        "100005202dbb459ea94aa7ce85ef0d86": {
          "model_module": "@jupyter-widgets/controls",
          "model_module_version": "1.5.0",
          "model_name": "DescriptionStyleModel",
          "state": {
            "_model_module": "@jupyter-widgets/controls",
            "_model_module_version": "1.5.0",
            "_model_name": "DescriptionStyleModel",
            "_view_count": null,
            "_view_module": "@jupyter-widgets/base",
            "_view_module_version": "1.2.0",
            "_view_name": "StyleView",
            "description_width": ""
          }
        },
        "1115c415296d4582bc542ab11c30efaf": {
          "model_module": "@jupyter-widgets/base",
          "model_module_version": "1.2.0",
          "model_name": "LayoutModel",
          "state": {
            "_model_module": "@jupyter-widgets/base",
            "_model_module_version": "1.2.0",
            "_model_name": "LayoutModel",
            "_view_count": null,
            "_view_module": "@jupyter-widgets/base",
            "_view_module_version": "1.2.0",
            "_view_name": "LayoutView",
            "align_content": null,
            "align_items": null,
            "align_self": null,
            "border": null,
            "bottom": null,
            "display": null,
            "flex": null,
            "flex_flow": null,
            "grid_area": null,
            "grid_auto_columns": null,
            "grid_auto_flow": null,
            "grid_auto_rows": null,
            "grid_column": null,
            "grid_gap": null,
            "grid_row": null,
            "grid_template_areas": null,
            "grid_template_columns": null,
            "grid_template_rows": null,
            "height": null,
            "justify_content": null,
            "justify_items": null,
            "left": null,
            "margin": null,
            "max_height": null,
            "max_width": null,
            "min_height": null,
            "min_width": null,
            "object_fit": null,
            "object_position": null,
            "order": null,
            "overflow": null,
            "overflow_x": null,
            "overflow_y": null,
            "padding": null,
            "right": null,
            "top": null,
            "visibility": null,
            "width": null
          }
        },
        "11b21b29d3aa49da98fcb8618acf9ce4": {
          "model_module": "@jupyter-widgets/controls",
          "model_module_version": "1.5.0",
          "model_name": "FloatProgressModel",
          "state": {
            "_dom_classes": [],
            "_model_module": "@jupyter-widgets/controls",
            "_model_module_version": "1.5.0",
            "_model_name": "FloatProgressModel",
            "_view_count": null,
            "_view_module": "@jupyter-widgets/controls",
            "_view_module_version": "1.5.0",
            "_view_name": "ProgressView",
            "bar_style": "success",
            "description": "",
            "description_tooltip": null,
            "layout": "IPY_MODEL_1115c415296d4582bc542ab11c30efaf",
            "max": 498810876,
            "min": 0,
            "orientation": "horizontal",
            "style": "IPY_MODEL_cacceca245684c71bbb71f94a1d653ae",
            "value": 498810876
          }
        },
        "12b2589992d7459aabd1ae023c9acc80": {
          "model_module": "@jupyter-widgets/base",
          "model_module_version": "1.2.0",
          "model_name": "LayoutModel",
          "state": {
            "_model_module": "@jupyter-widgets/base",
            "_model_module_version": "1.2.0",
            "_model_name": "LayoutModel",
            "_view_count": null,
            "_view_module": "@jupyter-widgets/base",
            "_view_module_version": "1.2.0",
            "_view_name": "LayoutView",
            "align_content": null,
            "align_items": null,
            "align_self": null,
            "border": null,
            "bottom": null,
            "display": null,
            "flex": null,
            "flex_flow": null,
            "grid_area": null,
            "grid_auto_columns": null,
            "grid_auto_flow": null,
            "grid_auto_rows": null,
            "grid_column": null,
            "grid_gap": null,
            "grid_row": null,
            "grid_template_areas": null,
            "grid_template_columns": null,
            "grid_template_rows": null,
            "height": null,
            "justify_content": null,
            "justify_items": null,
            "left": null,
            "margin": null,
            "max_height": null,
            "max_width": null,
            "min_height": null,
            "min_width": null,
            "object_fit": null,
            "object_position": null,
            "order": null,
            "overflow": null,
            "overflow_x": null,
            "overflow_y": null,
            "padding": null,
            "right": null,
            "top": null,
            "visibility": null,
            "width": null
          }
        },
        "12f37c8eb6824ca9bad35acb1f2b061a": {
          "model_module": "@jupyter-widgets/base",
          "model_module_version": "1.2.0",
          "model_name": "LayoutModel",
          "state": {
            "_model_module": "@jupyter-widgets/base",
            "_model_module_version": "1.2.0",
            "_model_name": "LayoutModel",
            "_view_count": null,
            "_view_module": "@jupyter-widgets/base",
            "_view_module_version": "1.2.0",
            "_view_name": "LayoutView",
            "align_content": null,
            "align_items": null,
            "align_self": null,
            "border": null,
            "bottom": null,
            "display": null,
            "flex": null,
            "flex_flow": null,
            "grid_area": null,
            "grid_auto_columns": null,
            "grid_auto_flow": null,
            "grid_auto_rows": null,
            "grid_column": null,
            "grid_gap": null,
            "grid_row": null,
            "grid_template_areas": null,
            "grid_template_columns": null,
            "grid_template_rows": null,
            "height": null,
            "justify_content": null,
            "justify_items": null,
            "left": null,
            "margin": null,
            "max_height": null,
            "max_width": null,
            "min_height": null,
            "min_width": null,
            "object_fit": null,
            "object_position": null,
            "order": null,
            "overflow": null,
            "overflow_x": null,
            "overflow_y": null,
            "padding": null,
            "right": null,
            "top": null,
            "visibility": null,
            "width": null
          }
        },
        "135d5252a3ed49b681692396dd2dba81": {
          "model_module": "@jupyter-widgets/controls",
          "model_module_version": "1.5.0",
          "model_name": "DescriptionStyleModel",
          "state": {
            "_model_module": "@jupyter-widgets/controls",
            "_model_module_version": "1.5.0",
            "_model_name": "DescriptionStyleModel",
            "_view_count": null,
            "_view_module": "@jupyter-widgets/base",
            "_view_module_version": "1.2.0",
            "_view_name": "StyleView",
            "description_width": ""
          }
        },
        "1464e5afa5b045bcb2de74a44773b360": {
          "model_module": "@jupyter-widgets/base",
          "model_module_version": "1.2.0",
          "model_name": "LayoutModel",
          "state": {
            "_model_module": "@jupyter-widgets/base",
            "_model_module_version": "1.2.0",
            "_model_name": "LayoutModel",
            "_view_count": null,
            "_view_module": "@jupyter-widgets/base",
            "_view_module_version": "1.2.0",
            "_view_name": "LayoutView",
            "align_content": null,
            "align_items": null,
            "align_self": null,
            "border": null,
            "bottom": null,
            "display": null,
            "flex": null,
            "flex_flow": null,
            "grid_area": null,
            "grid_auto_columns": null,
            "grid_auto_flow": null,
            "grid_auto_rows": null,
            "grid_column": null,
            "grid_gap": null,
            "grid_row": null,
            "grid_template_areas": null,
            "grid_template_columns": null,
            "grid_template_rows": null,
            "height": null,
            "justify_content": null,
            "justify_items": null,
            "left": null,
            "margin": null,
            "max_height": null,
            "max_width": null,
            "min_height": null,
            "min_width": null,
            "object_fit": null,
            "object_position": null,
            "order": null,
            "overflow": null,
            "overflow_x": null,
            "overflow_y": null,
            "padding": null,
            "right": null,
            "top": null,
            "visibility": null,
            "width": null
          }
        },
        "1ab6a067bd854b4e8a09c24505ef11da": {
          "model_module": "@jupyter-widgets/controls",
          "model_module_version": "1.5.0",
          "model_name": "DescriptionStyleModel",
          "state": {
            "_model_module": "@jupyter-widgets/controls",
            "_model_module_version": "1.5.0",
            "_model_name": "DescriptionStyleModel",
            "_view_count": null,
            "_view_module": "@jupyter-widgets/base",
            "_view_module_version": "1.2.0",
            "_view_name": "StyleView",
            "description_width": ""
          }
        },
        "1cbecc047dbe4029a1668bbc9f298d6f": {
          "model_module": "@jupyter-widgets/controls",
          "model_module_version": "1.5.0",
          "model_name": "PasswordModel",
          "state": {
            "_dom_classes": [],
            "_model_module": "@jupyter-widgets/controls",
            "_model_module_version": "1.5.0",
            "_model_name": "PasswordModel",
            "_view_count": null,
            "_view_module": "@jupyter-widgets/controls",
            "_view_module_version": "1.5.0",
            "_view_name": "PasswordView",
            "continuous_update": true,
            "description": "Token:",
            "description_tooltip": null,
            "disabled": false,
            "layout": "IPY_MODEL_d9423daff0964ec1b80cbc409b98a60a",
            "placeholder": "​",
            "style": "IPY_MODEL_4082c9cf8b2d471da17025ab7b96d0c1",
            "value": ""
          }
        },
        "219c92a27fbf47f4b6c6a542d84fc56d": {
          "model_module": "@jupyter-widgets/controls",
          "model_module_version": "1.5.0",
          "model_name": "VBoxModel",
          "state": {
            "_dom_classes": [],
            "_model_module": "@jupyter-widgets/controls",
            "_model_module_version": "1.5.0",
            "_model_name": "VBoxModel",
            "_view_count": null,
            "_view_module": "@jupyter-widgets/controls",
            "_view_module_version": "1.5.0",
            "_view_name": "VBoxView",
            "box_style": "",
            "children": [
              "IPY_MODEL_dcbcb838980c41f9b2a650fd36bd2ed0",
              "IPY_MODEL_8691b24dd3b9498eb95c6ca98f36f6f9",
              "IPY_MODEL_8235a5b896a5435580c40b7f8d896532",
              "IPY_MODEL_bb60a2da8d9d4ae4b126054ab68106d7"
            ],
            "layout": "IPY_MODEL_5b67adebc5f0415599052e132e30bd28"
          }
        },
        "22762a9a5371444c9331882f7986990e": {
          "model_module": "@jupyter-widgets/base",
          "model_module_version": "1.2.0",
          "model_name": "LayoutModel",
          "state": {
            "_model_module": "@jupyter-widgets/base",
            "_model_module_version": "1.2.0",
            "_model_name": "LayoutModel",
            "_view_count": null,
            "_view_module": "@jupyter-widgets/base",
            "_view_module_version": "1.2.0",
            "_view_name": "LayoutView",
            "align_content": null,
            "align_items": null,
            "align_self": null,
            "border": null,
            "bottom": null,
            "display": null,
            "flex": null,
            "flex_flow": null,
            "grid_area": null,
            "grid_auto_columns": null,
            "grid_auto_flow": null,
            "grid_auto_rows": null,
            "grid_column": null,
            "grid_gap": null,
            "grid_row": null,
            "grid_template_areas": null,
            "grid_template_columns": null,
            "grid_template_rows": null,
            "height": null,
            "justify_content": null,
            "justify_items": null,
            "left": null,
            "margin": null,
            "max_height": null,
            "max_width": null,
            "min_height": null,
            "min_width": null,
            "object_fit": null,
            "object_position": null,
            "order": null,
            "overflow": null,
            "overflow_x": null,
            "overflow_y": null,
            "padding": null,
            "right": null,
            "top": null,
            "visibility": null,
            "width": null
          }
        },
        "230e3fd312ca46f1a22fbc4c182d7e22": {
          "model_module": "@jupyter-widgets/base",
          "model_module_version": "1.2.0",
          "model_name": "LayoutModel",
          "state": {
            "_model_module": "@jupyter-widgets/base",
            "_model_module_version": "1.2.0",
            "_model_name": "LayoutModel",
            "_view_count": null,
            "_view_module": "@jupyter-widgets/base",
            "_view_module_version": "1.2.0",
            "_view_name": "LayoutView",
            "align_content": null,
            "align_items": null,
            "align_self": null,
            "border": null,
            "bottom": null,
            "display": null,
            "flex": null,
            "flex_flow": null,
            "grid_area": null,
            "grid_auto_columns": null,
            "grid_auto_flow": null,
            "grid_auto_rows": null,
            "grid_column": null,
            "grid_gap": null,
            "grid_row": null,
            "grid_template_areas": null,
            "grid_template_columns": null,
            "grid_template_rows": null,
            "height": null,
            "justify_content": null,
            "justify_items": null,
            "left": null,
            "margin": null,
            "max_height": null,
            "max_width": null,
            "min_height": null,
            "min_width": null,
            "object_fit": null,
            "object_position": null,
            "order": null,
            "overflow": null,
            "overflow_x": null,
            "overflow_y": null,
            "padding": null,
            "right": null,
            "top": null,
            "visibility": null,
            "width": null
          }
        },
        "278e048e90f44f389a753bb33cef39a0": {
          "model_module": "@jupyter-widgets/controls",
          "model_module_version": "1.5.0",
          "model_name": "LabelModel",
          "state": {
            "_dom_classes": [],
            "_model_module": "@jupyter-widgets/controls",
            "_model_module_version": "1.5.0",
            "_model_name": "LabelModel",
            "_view_count": null,
            "_view_module": "@jupyter-widgets/controls",
            "_view_module_version": "1.5.0",
            "_view_name": "LabelView",
            "description": "",
            "description_tooltip": null,
            "layout": "IPY_MODEL_ffb8f20264124ba1bb5e874fb1743613",
            "placeholder": "​",
            "style": "IPY_MODEL_f5d8c31aac00494cb1bcaf2203843abb",
            "value": "Token is valid (permission: write)."
          }
        },
        "2ae318fe3100481d9a262bfb000aa75c": {
          "model_module": "@jupyter-widgets/controls",
          "model_module_version": "1.5.0",
          "model_name": "DescriptionStyleModel",
          "state": {
            "_model_module": "@jupyter-widgets/controls",
            "_model_module_version": "1.5.0",
            "_model_name": "DescriptionStyleModel",
            "_view_count": null,
            "_view_module": "@jupyter-widgets/base",
            "_view_module_version": "1.2.0",
            "_view_name": "StyleView",
            "description_width": ""
          }
        },
        "341cef0cee0a4ba3b5f8646edee9ee8c": {
          "model_module": "@jupyter-widgets/base",
          "model_module_version": "1.2.0",
          "model_name": "LayoutModel",
          "state": {
            "_model_module": "@jupyter-widgets/base",
            "_model_module_version": "1.2.0",
            "_model_name": "LayoutModel",
            "_view_count": null,
            "_view_module": "@jupyter-widgets/base",
            "_view_module_version": "1.2.0",
            "_view_name": "LayoutView",
            "align_content": null,
            "align_items": null,
            "align_self": null,
            "border": null,
            "bottom": null,
            "display": null,
            "flex": null,
            "flex_flow": null,
            "grid_area": null,
            "grid_auto_columns": null,
            "grid_auto_flow": null,
            "grid_auto_rows": null,
            "grid_column": null,
            "grid_gap": null,
            "grid_row": null,
            "grid_template_areas": null,
            "grid_template_columns": null,
            "grid_template_rows": null,
            "height": null,
            "justify_content": null,
            "justify_items": null,
            "left": null,
            "margin": null,
            "max_height": null,
            "max_width": null,
            "min_height": null,
            "min_width": null,
            "object_fit": null,
            "object_position": null,
            "order": null,
            "overflow": null,
            "overflow_x": null,
            "overflow_y": null,
            "padding": null,
            "right": null,
            "top": null,
            "visibility": null,
            "width": null
          }
        },
        "37c729a023fb42fc81cb84a85b4adac3": {
          "model_module": "@jupyter-widgets/base",
          "model_module_version": "1.2.0",
          "model_name": "LayoutModel",
          "state": {
            "_model_module": "@jupyter-widgets/base",
            "_model_module_version": "1.2.0",
            "_model_name": "LayoutModel",
            "_view_count": null,
            "_view_module": "@jupyter-widgets/base",
            "_view_module_version": "1.2.0",
            "_view_name": "LayoutView",
            "align_content": null,
            "align_items": null,
            "align_self": null,
            "border": null,
            "bottom": null,
            "display": null,
            "flex": null,
            "flex_flow": null,
            "grid_area": null,
            "grid_auto_columns": null,
            "grid_auto_flow": null,
            "grid_auto_rows": null,
            "grid_column": null,
            "grid_gap": null,
            "grid_row": null,
            "grid_template_areas": null,
            "grid_template_columns": null,
            "grid_template_rows": null,
            "height": null,
            "justify_content": null,
            "justify_items": null,
            "left": null,
            "margin": null,
            "max_height": null,
            "max_width": null,
            "min_height": null,
            "min_width": null,
            "object_fit": null,
            "object_position": null,
            "order": null,
            "overflow": null,
            "overflow_x": null,
            "overflow_y": null,
            "padding": null,
            "right": null,
            "top": null,
            "visibility": null,
            "width": null
          }
        },
        "38747144667749099891544e8e7ef1d9": {
          "model_module": "@jupyter-widgets/base",
          "model_module_version": "1.2.0",
          "model_name": "LayoutModel",
          "state": {
            "_model_module": "@jupyter-widgets/base",
            "_model_module_version": "1.2.0",
            "_model_name": "LayoutModel",
            "_view_count": null,
            "_view_module": "@jupyter-widgets/base",
            "_view_module_version": "1.2.0",
            "_view_name": "LayoutView",
            "align_content": null,
            "align_items": null,
            "align_self": null,
            "border": null,
            "bottom": null,
            "display": null,
            "flex": null,
            "flex_flow": null,
            "grid_area": null,
            "grid_auto_columns": null,
            "grid_auto_flow": null,
            "grid_auto_rows": null,
            "grid_column": null,
            "grid_gap": null,
            "grid_row": null,
            "grid_template_areas": null,
            "grid_template_columns": null,
            "grid_template_rows": null,
            "height": null,
            "justify_content": null,
            "justify_items": null,
            "left": null,
            "margin": null,
            "max_height": null,
            "max_width": null,
            "min_height": null,
            "min_width": null,
            "object_fit": null,
            "object_position": null,
            "order": null,
            "overflow": null,
            "overflow_x": null,
            "overflow_y": null,
            "padding": null,
            "right": null,
            "top": null,
            "visibility": null,
            "width": null
          }
        },
        "3cc42b592a1a46a1bae9f0ab2b60a157": {
          "model_module": "@jupyter-widgets/base",
          "model_module_version": "1.2.0",
          "model_name": "LayoutModel",
          "state": {
            "_model_module": "@jupyter-widgets/base",
            "_model_module_version": "1.2.0",
            "_model_name": "LayoutModel",
            "_view_count": null,
            "_view_module": "@jupyter-widgets/base",
            "_view_module_version": "1.2.0",
            "_view_name": "LayoutView",
            "align_content": null,
            "align_items": null,
            "align_self": null,
            "border": null,
            "bottom": null,
            "display": null,
            "flex": null,
            "flex_flow": null,
            "grid_area": null,
            "grid_auto_columns": null,
            "grid_auto_flow": null,
            "grid_auto_rows": null,
            "grid_column": null,
            "grid_gap": null,
            "grid_row": null,
            "grid_template_areas": null,
            "grid_template_columns": null,
            "grid_template_rows": null,
            "height": null,
            "justify_content": null,
            "justify_items": null,
            "left": null,
            "margin": null,
            "max_height": null,
            "max_width": null,
            "min_height": null,
            "min_width": null,
            "object_fit": null,
            "object_position": null,
            "order": null,
            "overflow": null,
            "overflow_x": null,
            "overflow_y": null,
            "padding": null,
            "right": null,
            "top": null,
            "visibility": null,
            "width": null
          }
        },
        "4082c9cf8b2d471da17025ab7b96d0c1": {
          "model_module": "@jupyter-widgets/controls",
          "model_module_version": "1.5.0",
          "model_name": "DescriptionStyleModel",
          "state": {
            "_model_module": "@jupyter-widgets/controls",
            "_model_module_version": "1.5.0",
            "_model_name": "DescriptionStyleModel",
            "_view_count": null,
            "_view_module": "@jupyter-widgets/base",
            "_view_module_version": "1.2.0",
            "_view_name": "StyleView",
            "description_width": ""
          }
        },
        "437d37455aea4d5ca029d01297b32d3d": {
          "model_module": "@jupyter-widgets/controls",
          "model_module_version": "1.5.0",
          "model_name": "LabelModel",
          "state": {
            "_dom_classes": [],
            "_model_module": "@jupyter-widgets/controls",
            "_model_module_version": "1.5.0",
            "_model_name": "LabelModel",
            "_view_count": null,
            "_view_module": "@jupyter-widgets/controls",
            "_view_module_version": "1.5.0",
            "_view_name": "LabelView",
            "description": "",
            "description_tooltip": null,
            "layout": "IPY_MODEL_12f37c8eb6824ca9bad35acb1f2b061a",
            "placeholder": "​",
            "style": "IPY_MODEL_f09a45523aec4d51b95dc1b3237baae3",
            "value": "Connecting..."
          }
        },
        "469247f9a20841e4b1520ee2ff7ad653": {
          "model_module": "@jupyter-widgets/controls",
          "model_module_version": "1.5.0",
          "model_name": "HTMLModel",
          "state": {
            "_dom_classes": [],
            "_model_module": "@jupyter-widgets/controls",
            "_model_module_version": "1.5.0",
            "_model_name": "HTMLModel",
            "_view_count": null,
            "_view_module": "@jupyter-widgets/controls",
            "_view_module_version": "1.5.0",
            "_view_name": "HTMLView",
            "description": "",
            "description_tooltip": null,
            "layout": "IPY_MODEL_1464e5afa5b045bcb2de74a44773b360",
            "placeholder": "​",
            "style": "IPY_MODEL_f193f12757c14604a0deb970853038be",
            "value": " 2/2 [00:46&lt;00:00, 46.36s/it]"
          }
        },
        "476d083722ff4be18b68580ef6be49c6": {
          "model_module": "@jupyter-widgets/controls",
          "model_module_version": "1.5.0",
          "model_name": "FloatProgressModel",
          "state": {
            "_dom_classes": [],
            "_model_module": "@jupyter-widgets/controls",
            "_model_module_version": "1.5.0",
            "_model_name": "FloatProgressModel",
            "_view_count": null,
            "_view_module": "@jupyter-widgets/controls",
            "_view_module_version": "1.5.0",
            "_view_name": "ProgressView",
            "bar_style": "success",
            "description": "",
            "description_tooltip": null,
            "layout": "IPY_MODEL_22762a9a5371444c9331882f7986990e",
            "max": 4536,
            "min": 0,
            "orientation": "horizontal",
            "style": "IPY_MODEL_56bc5b7846534a64a840ad6fa99d3bb1",
            "value": 4536
          }
        },
        "49f5f30841b14cc48bd1101e9b831fb7": {
          "model_module": "@jupyter-widgets/controls",
          "model_module_version": "1.5.0",
          "model_name": "DescriptionStyleModel",
          "state": {
            "_model_module": "@jupyter-widgets/controls",
            "_model_module_version": "1.5.0",
            "_model_name": "DescriptionStyleModel",
            "_view_count": null,
            "_view_module": "@jupyter-widgets/base",
            "_view_module_version": "1.2.0",
            "_view_name": "StyleView",
            "description_width": ""
          }
        },
        "4afd90e61bda4fcc9c77d30776237323": {
          "model_module": "@jupyter-widgets/base",
          "model_module_version": "1.2.0",
          "model_name": "LayoutModel",
          "state": {
            "_model_module": "@jupyter-widgets/base",
            "_model_module_version": "1.2.0",
            "_model_name": "LayoutModel",
            "_view_count": null,
            "_view_module": "@jupyter-widgets/base",
            "_view_module_version": "1.2.0",
            "_view_name": "LayoutView",
            "align_content": null,
            "align_items": null,
            "align_self": null,
            "border": null,
            "bottom": null,
            "display": null,
            "flex": null,
            "flex_flow": null,
            "grid_area": null,
            "grid_auto_columns": null,
            "grid_auto_flow": null,
            "grid_auto_rows": null,
            "grid_column": null,
            "grid_gap": null,
            "grid_row": null,
            "grid_template_areas": null,
            "grid_template_columns": null,
            "grid_template_rows": null,
            "height": null,
            "justify_content": null,
            "justify_items": null,
            "left": null,
            "margin": null,
            "max_height": null,
            "max_width": null,
            "min_height": null,
            "min_width": null,
            "object_fit": null,
            "object_position": null,
            "order": null,
            "overflow": null,
            "overflow_x": null,
            "overflow_y": null,
            "padding": null,
            "right": null,
            "top": null,
            "visibility": null,
            "width": null
          }
        },
        "4e1ec022dd214327915320c16ec99530": {
          "model_module": "@jupyter-widgets/controls",
          "model_module_version": "1.5.0",
          "model_name": "DescriptionStyleModel",
          "state": {
            "_model_module": "@jupyter-widgets/controls",
            "_model_module_version": "1.5.0",
            "_model_name": "DescriptionStyleModel",
            "_view_count": null,
            "_view_module": "@jupyter-widgets/base",
            "_view_module_version": "1.2.0",
            "_view_name": "StyleView",
            "description_width": ""
          }
        },
        "53770711eb9343b791d61fb0ba6f09f8": {
          "model_module": "@jupyter-widgets/controls",
          "model_module_version": "1.5.0",
          "model_name": "CheckboxModel",
          "state": {
            "_dom_classes": [],
            "_model_module": "@jupyter-widgets/controls",
            "_model_module_version": "1.5.0",
            "_model_name": "CheckboxModel",
            "_view_count": null,
            "_view_module": "@jupyter-widgets/controls",
            "_view_module_version": "1.5.0",
            "_view_name": "CheckboxView",
            "description": "Add token as git credential?",
            "description_tooltip": null,
            "disabled": false,
            "indent": true,
            "layout": "IPY_MODEL_8a1f3522b93c487bb84945bd479ad69d",
            "style": "IPY_MODEL_8ce7af50116440ab8c9ce016b49a79a7",
            "value": true
          }
        },
        "56bc5b7846534a64a840ad6fa99d3bb1": {
          "model_module": "@jupyter-widgets/controls",
          "model_module_version": "1.5.0",
          "model_name": "ProgressStyleModel",
          "state": {
            "_model_module": "@jupyter-widgets/controls",
            "_model_module_version": "1.5.0",
            "_model_name": "ProgressStyleModel",
            "_view_count": null,
            "_view_module": "@jupyter-widgets/base",
            "_view_module_version": "1.2.0",
            "_view_name": "StyleView",
            "bar_color": null,
            "description_width": ""
          }
        },
        "570dd4b277944ebbb248d8c3031ee8bb": {
          "model_module": "@jupyter-widgets/base",
          "model_module_version": "1.2.0",
          "model_name": "LayoutModel",
          "state": {
            "_model_module": "@jupyter-widgets/base",
            "_model_module_version": "1.2.0",
            "_model_name": "LayoutModel",
            "_view_count": null,
            "_view_module": "@jupyter-widgets/base",
            "_view_module_version": "1.2.0",
            "_view_name": "LayoutView",
            "align_content": null,
            "align_items": null,
            "align_self": null,
            "border": null,
            "bottom": null,
            "display": null,
            "flex": null,
            "flex_flow": null,
            "grid_area": null,
            "grid_auto_columns": null,
            "grid_auto_flow": null,
            "grid_auto_rows": null,
            "grid_column": null,
            "grid_gap": null,
            "grid_row": null,
            "grid_template_areas": null,
            "grid_template_columns": null,
            "grid_template_rows": null,
            "height": null,
            "justify_content": null,
            "justify_items": null,
            "left": null,
            "margin": null,
            "max_height": null,
            "max_width": null,
            "min_height": null,
            "min_width": null,
            "object_fit": null,
            "object_position": null,
            "order": null,
            "overflow": null,
            "overflow_x": null,
            "overflow_y": null,
            "padding": null,
            "right": null,
            "top": null,
            "visibility": null,
            "width": null
          }
        },
        "5b67adebc5f0415599052e132e30bd28": {
          "model_module": "@jupyter-widgets/base",
          "model_module_version": "1.2.0",
          "model_name": "LayoutModel",
          "state": {
            "_model_module": "@jupyter-widgets/base",
            "_model_module_version": "1.2.0",
            "_model_name": "LayoutModel",
            "_view_count": null,
            "_view_module": "@jupyter-widgets/base",
            "_view_module_version": "1.2.0",
            "_view_name": "LayoutView",
            "align_content": null,
            "align_items": "center",
            "align_self": null,
            "border": null,
            "bottom": null,
            "display": "flex",
            "flex": null,
            "flex_flow": "column",
            "grid_area": null,
            "grid_auto_columns": null,
            "grid_auto_flow": null,
            "grid_auto_rows": null,
            "grid_column": null,
            "grid_gap": null,
            "grid_row": null,
            "grid_template_areas": null,
            "grid_template_columns": null,
            "grid_template_rows": null,
            "height": null,
            "justify_content": null,
            "justify_items": null,
            "left": null,
            "margin": null,
            "max_height": null,
            "max_width": null,
            "min_height": null,
            "min_width": null,
            "object_fit": null,
            "object_position": null,
            "order": null,
            "overflow": null,
            "overflow_x": null,
            "overflow_y": null,
            "padding": null,
            "right": null,
            "top": null,
            "visibility": null,
            "width": "50%"
          }
        },
        "5b7372320c9a4fef92d5a0bdaaffb94f": {
          "model_module": "@jupyter-widgets/controls",
          "model_module_version": "1.5.0",
          "model_name": "DescriptionStyleModel",
          "state": {
            "_model_module": "@jupyter-widgets/controls",
            "_model_module_version": "1.5.0",
            "_model_name": "DescriptionStyleModel",
            "_view_count": null,
            "_view_module": "@jupyter-widgets/base",
            "_view_module_version": "1.2.0",
            "_view_name": "StyleView",
            "description_width": ""
          }
        },
        "62b02137b1cd4bb4b9b14c587e75cac1": {
          "model_module": "@jupyter-widgets/controls",
          "model_module_version": "1.5.0",
          "model_name": "HTMLModel",
          "state": {
            "_dom_classes": [],
            "_model_module": "@jupyter-widgets/controls",
            "_model_module_version": "1.5.0",
            "_model_name": "HTMLModel",
            "_view_count": null,
            "_view_module": "@jupyter-widgets/controls",
            "_view_module_version": "1.5.0",
            "_view_name": "HTMLView",
            "description": "",
            "description_tooltip": null,
            "layout": "IPY_MODEL_9b02a02e3fdb4cfbb5eed859419bb6bc",
            "placeholder": "​",
            "style": "IPY_MODEL_ec6b2501a11a4b0d947841d00cb49ebd",
            "value": "Map: 100%"
          }
        },
        "642d65c1681c43bf964754ac528a744c": {
          "model_module": "@jupyter-widgets/controls",
          "model_module_version": "1.5.0",
          "model_name": "LabelModel",
          "state": {
            "_dom_classes": [],
            "_model_module": "@jupyter-widgets/controls",
            "_model_module_version": "1.5.0",
            "_model_name": "LabelModel",
            "_view_count": null,
            "_view_module": "@jupyter-widgets/controls",
            "_view_module_version": "1.5.0",
            "_view_name": "LabelView",
            "description": "",
            "description_tooltip": null,
            "layout": "IPY_MODEL_87e6477fb28a43ba88d879858fa9625a",
            "placeholder": "​",
            "style": "IPY_MODEL_49f5f30841b14cc48bd1101e9b831fb7",
            "value": "Your token has been saved to /root/.cache/huggingface/token"
          }
        },
        "66eba6cc9e40425495f1abfdd8bcfc3a": {
          "model_module": "@jupyter-widgets/controls",
          "model_module_version": "1.5.0",
          "model_name": "HTMLModel",
          "state": {
            "_dom_classes": [],
            "_model_module": "@jupyter-widgets/controls",
            "_model_module_version": "1.5.0",
            "_model_name": "HTMLModel",
            "_view_count": null,
            "_view_module": "@jupyter-widgets/controls",
            "_view_module_version": "1.5.0",
            "_view_name": "HTMLView",
            "description": "",
            "description_tooltip": null,
            "layout": "IPY_MODEL_7c4d6c927e91486d949a75d9bbcc7ccf",
            "placeholder": "​",
            "style": "IPY_MODEL_0ddb369194184a5198a528f5d0aa651b",
            "value": " 499M/499M [00:45&lt;00:00, 1.52MB/s]"
          }
        },
        "67f3b2659ccb44bd996376b9ba10fa0c": {
          "model_module": "@jupyter-widgets/base",
          "model_module_version": "1.2.0",
          "model_name": "LayoutModel",
          "state": {
            "_model_module": "@jupyter-widgets/base",
            "_model_module_version": "1.2.0",
            "_model_name": "LayoutModel",
            "_view_count": null,
            "_view_module": "@jupyter-widgets/base",
            "_view_module_version": "1.2.0",
            "_view_name": "LayoutView",
            "align_content": null,
            "align_items": null,
            "align_self": null,
            "border": null,
            "bottom": null,
            "display": null,
            "flex": null,
            "flex_flow": null,
            "grid_area": null,
            "grid_auto_columns": null,
            "grid_auto_flow": null,
            "grid_auto_rows": null,
            "grid_column": null,
            "grid_gap": null,
            "grid_row": null,
            "grid_template_areas": null,
            "grid_template_columns": null,
            "grid_template_rows": null,
            "height": null,
            "justify_content": null,
            "justify_items": null,
            "left": null,
            "margin": null,
            "max_height": null,
            "max_width": null,
            "min_height": null,
            "min_width": null,
            "object_fit": null,
            "object_position": null,
            "order": null,
            "overflow": null,
            "overflow_x": null,
            "overflow_y": null,
            "padding": null,
            "right": null,
            "top": null,
            "visibility": null,
            "width": null
          }
        },
        "6ebfd39b03c0487d90fcf778aad02b1e": {
          "model_module": "@jupyter-widgets/base",
          "model_module_version": "1.2.0",
          "model_name": "LayoutModel",
          "state": {
            "_model_module": "@jupyter-widgets/base",
            "_model_module_version": "1.2.0",
            "_model_name": "LayoutModel",
            "_view_count": null,
            "_view_module": "@jupyter-widgets/base",
            "_view_module_version": "1.2.0",
            "_view_name": "LayoutView",
            "align_content": null,
            "align_items": null,
            "align_self": null,
            "border": null,
            "bottom": null,
            "display": null,
            "flex": null,
            "flex_flow": null,
            "grid_area": null,
            "grid_auto_columns": null,
            "grid_auto_flow": null,
            "grid_auto_rows": null,
            "grid_column": null,
            "grid_gap": null,
            "grid_row": null,
            "grid_template_areas": null,
            "grid_template_columns": null,
            "grid_template_rows": null,
            "height": null,
            "justify_content": null,
            "justify_items": null,
            "left": null,
            "margin": null,
            "max_height": null,
            "max_width": null,
            "min_height": null,
            "min_width": null,
            "object_fit": null,
            "object_position": null,
            "order": null,
            "overflow": null,
            "overflow_x": null,
            "overflow_y": null,
            "padding": null,
            "right": null,
            "top": null,
            "visibility": null,
            "width": null
          }
        },
        "74772bae1b574a0f87a65ab50d4c9a0b": {
          "model_module": "@jupyter-widgets/controls",
          "model_module_version": "1.5.0",
          "model_name": "DescriptionStyleModel",
          "state": {
            "_model_module": "@jupyter-widgets/controls",
            "_model_module_version": "1.5.0",
            "_model_name": "DescriptionStyleModel",
            "_view_count": null,
            "_view_module": "@jupyter-widgets/base",
            "_view_module_version": "1.2.0",
            "_view_name": "StyleView",
            "description_width": ""
          }
        },
        "79eabb35aa20449a8d49c4e03aa9649f": {
          "model_module": "@jupyter-widgets/controls",
          "model_module_version": "1.5.0",
          "model_name": "LabelModel",
          "state": {
            "_dom_classes": [],
            "_model_module": "@jupyter-widgets/controls",
            "_model_module_version": "1.5.0",
            "_model_name": "LabelModel",
            "_view_count": null,
            "_view_module": "@jupyter-widgets/controls",
            "_view_module_version": "1.5.0",
            "_view_name": "LabelView",
            "description": "",
            "description_tooltip": null,
            "layout": "IPY_MODEL_86d4eed4140347318d79c712f3af126c",
            "placeholder": "​",
            "style": "IPY_MODEL_042324eb6f8247f7912aca1b71825682",
            "value": "Login successful"
          }
        },
        "7c1f4d13f1c64891983b4693ddd223a1": {
          "model_module": "@jupyter-widgets/controls",
          "model_module_version": "1.5.0",
          "model_name": "HTMLModel",
          "state": {
            "_dom_classes": [],
            "_model_module": "@jupyter-widgets/controls",
            "_model_module_version": "1.5.0",
            "_model_name": "HTMLModel",
            "_view_count": null,
            "_view_module": "@jupyter-widgets/controls",
            "_view_module_version": "1.5.0",
            "_view_name": "HTMLView",
            "description": "",
            "description_tooltip": null,
            "layout": "IPY_MODEL_dee9fe4bd5a843549eed2e3aa9a3f188",
            "placeholder": "​",
            "style": "IPY_MODEL_fa89aceb4af6420ab67a1efd2fb9ef3a",
            "value": "<center> <img\nsrc=https://huggingface.co/front/assets/huggingface_logo-noborder.svg\nalt='Hugging Face'> <br> Copy a token from <a\nhref=\"https://huggingface.co/settings/tokens\" target=\"_blank\">your Hugging Face\ntokens page</a> and paste it below. <br> Immediately click login after copying\nyour token or it might be stored in plain text in this notebook file. </center>"
          }
        },
        "7c4d6c927e91486d949a75d9bbcc7ccf": {
          "model_module": "@jupyter-widgets/base",
          "model_module_version": "1.2.0",
          "model_name": "LayoutModel",
          "state": {
            "_model_module": "@jupyter-widgets/base",
            "_model_module_version": "1.2.0",
            "_model_name": "LayoutModel",
            "_view_count": null,
            "_view_module": "@jupyter-widgets/base",
            "_view_module_version": "1.2.0",
            "_view_name": "LayoutView",
            "align_content": null,
            "align_items": null,
            "align_self": null,
            "border": null,
            "bottom": null,
            "display": null,
            "flex": null,
            "flex_flow": null,
            "grid_area": null,
            "grid_auto_columns": null,
            "grid_auto_flow": null,
            "grid_auto_rows": null,
            "grid_column": null,
            "grid_gap": null,
            "grid_row": null,
            "grid_template_areas": null,
            "grid_template_columns": null,
            "grid_template_rows": null,
            "height": null,
            "justify_content": null,
            "justify_items": null,
            "left": null,
            "margin": null,
            "max_height": null,
            "max_width": null,
            "min_height": null,
            "min_width": null,
            "object_fit": null,
            "object_position": null,
            "order": null,
            "overflow": null,
            "overflow_x": null,
            "overflow_y": null,
            "padding": null,
            "right": null,
            "top": null,
            "visibility": null,
            "width": null
          }
        },
        "7e1649bb301a4c42849349c6565e7729": {
          "model_module": "@jupyter-widgets/base",
          "model_module_version": "1.2.0",
          "model_name": "LayoutModel",
          "state": {
            "_model_module": "@jupyter-widgets/base",
            "_model_module_version": "1.2.0",
            "_model_name": "LayoutModel",
            "_view_count": null,
            "_view_module": "@jupyter-widgets/base",
            "_view_module_version": "1.2.0",
            "_view_name": "LayoutView",
            "align_content": null,
            "align_items": null,
            "align_self": null,
            "border": null,
            "bottom": null,
            "display": null,
            "flex": null,
            "flex_flow": null,
            "grid_area": null,
            "grid_auto_columns": null,
            "grid_auto_flow": null,
            "grid_auto_rows": null,
            "grid_column": null,
            "grid_gap": null,
            "grid_row": null,
            "grid_template_areas": null,
            "grid_template_columns": null,
            "grid_template_rows": null,
            "height": null,
            "justify_content": null,
            "justify_items": null,
            "left": null,
            "margin": null,
            "max_height": null,
            "max_width": null,
            "min_height": null,
            "min_width": null,
            "object_fit": null,
            "object_position": null,
            "order": null,
            "overflow": null,
            "overflow_x": null,
            "overflow_y": null,
            "padding": null,
            "right": null,
            "top": null,
            "visibility": null,
            "width": null
          }
        },
        "80cf166196aa4e27a0c5f7119d5469bb": {
          "model_module": "@jupyter-widgets/controls",
          "model_module_version": "1.5.0",
          "model_name": "DescriptionStyleModel",
          "state": {
            "_model_module": "@jupyter-widgets/controls",
            "_model_module_version": "1.5.0",
            "_model_name": "DescriptionStyleModel",
            "_view_count": null,
            "_view_module": "@jupyter-widgets/base",
            "_view_module_version": "1.2.0",
            "_view_name": "StyleView",
            "description_width": ""
          }
        },
        "8235a5b896a5435580c40b7f8d896532": {
          "model_module": "@jupyter-widgets/controls",
          "model_module_version": "1.5.0",
          "model_name": "LabelModel",
          "state": {
            "_dom_classes": [],
            "_model_module": "@jupyter-widgets/controls",
            "_model_module_version": "1.5.0",
            "_model_name": "LabelModel",
            "_view_count": null,
            "_view_module": "@jupyter-widgets/controls",
            "_view_module_version": "1.5.0",
            "_view_name": "LabelView",
            "description": "",
            "description_tooltip": null,
            "layout": "IPY_MODEL_83eb2206e7474442aca49a1adfb099a4",
            "placeholder": "​",
            "style": "IPY_MODEL_1ab6a067bd854b4e8a09c24505ef11da",
            "value": "Your token has been saved to /root/.cache/huggingface/token"
          }
        },
        "83eb2206e7474442aca49a1adfb099a4": {
          "model_module": "@jupyter-widgets/base",
          "model_module_version": "1.2.0",
          "model_name": "LayoutModel",
          "state": {
            "_model_module": "@jupyter-widgets/base",
            "_model_module_version": "1.2.0",
            "_model_name": "LayoutModel",
            "_view_count": null,
            "_view_module": "@jupyter-widgets/base",
            "_view_module_version": "1.2.0",
            "_view_name": "LayoutView",
            "align_content": null,
            "align_items": null,
            "align_self": null,
            "border": null,
            "bottom": null,
            "display": null,
            "flex": null,
            "flex_flow": null,
            "grid_area": null,
            "grid_auto_columns": null,
            "grid_auto_flow": null,
            "grid_auto_rows": null,
            "grid_column": null,
            "grid_gap": null,
            "grid_row": null,
            "grid_template_areas": null,
            "grid_template_columns": null,
            "grid_template_rows": null,
            "height": null,
            "justify_content": null,
            "justify_items": null,
            "left": null,
            "margin": null,
            "max_height": null,
            "max_width": null,
            "min_height": null,
            "min_width": null,
            "object_fit": null,
            "object_position": null,
            "order": null,
            "overflow": null,
            "overflow_x": null,
            "overflow_y": null,
            "padding": null,
            "right": null,
            "top": null,
            "visibility": null,
            "width": null
          }
        },
        "850c815544294135befec67bf0e27597": {
          "model_module": "@jupyter-widgets/base",
          "model_module_version": "1.2.0",
          "model_name": "LayoutModel",
          "state": {
            "_model_module": "@jupyter-widgets/base",
            "_model_module_version": "1.2.0",
            "_model_name": "LayoutModel",
            "_view_count": null,
            "_view_module": "@jupyter-widgets/base",
            "_view_module_version": "1.2.0",
            "_view_name": "LayoutView",
            "align_content": null,
            "align_items": null,
            "align_self": null,
            "border": null,
            "bottom": null,
            "display": null,
            "flex": null,
            "flex_flow": null,
            "grid_area": null,
            "grid_auto_columns": null,
            "grid_auto_flow": null,
            "grid_auto_rows": null,
            "grid_column": null,
            "grid_gap": null,
            "grid_row": null,
            "grid_template_areas": null,
            "grid_template_columns": null,
            "grid_template_rows": null,
            "height": null,
            "justify_content": null,
            "justify_items": null,
            "left": null,
            "margin": null,
            "max_height": null,
            "max_width": null,
            "min_height": null,
            "min_width": null,
            "object_fit": null,
            "object_position": null,
            "order": null,
            "overflow": null,
            "overflow_x": null,
            "overflow_y": null,
            "padding": null,
            "right": null,
            "top": null,
            "visibility": null,
            "width": null
          }
        },
        "8691b24dd3b9498eb95c6ca98f36f6f9": {
          "model_module": "@jupyter-widgets/controls",
          "model_module_version": "1.5.0",
          "model_name": "LabelModel",
          "state": {
            "_dom_classes": [],
            "_model_module": "@jupyter-widgets/controls",
            "_model_module_version": "1.5.0",
            "_model_name": "LabelModel",
            "_view_count": null,
            "_view_module": "@jupyter-widgets/controls",
            "_view_module_version": "1.5.0",
            "_view_name": "LabelView",
            "description": "",
            "description_tooltip": null,
            "layout": "IPY_MODEL_8c26447481044196b7e40f633fdc502a",
            "placeholder": "​",
            "style": "IPY_MODEL_74772bae1b574a0f87a65ab50d4c9a0b",
            "value": "Your token has been saved in your configured git credential helpers (store)."
          }
        },
        "86d4eed4140347318d79c712f3af126c": {
          "model_module": "@jupyter-widgets/base",
          "model_module_version": "1.2.0",
          "model_name": "LayoutModel",
          "state": {
            "_model_module": "@jupyter-widgets/base",
            "_model_module_version": "1.2.0",
            "_model_name": "LayoutModel",
            "_view_count": null,
            "_view_module": "@jupyter-widgets/base",
            "_view_module_version": "1.2.0",
            "_view_name": "LayoutView",
            "align_content": null,
            "align_items": null,
            "align_self": null,
            "border": null,
            "bottom": null,
            "display": null,
            "flex": null,
            "flex_flow": null,
            "grid_area": null,
            "grid_auto_columns": null,
            "grid_auto_flow": null,
            "grid_auto_rows": null,
            "grid_column": null,
            "grid_gap": null,
            "grid_row": null,
            "grid_template_areas": null,
            "grid_template_columns": null,
            "grid_template_rows": null,
            "height": null,
            "justify_content": null,
            "justify_items": null,
            "left": null,
            "margin": null,
            "max_height": null,
            "max_width": null,
            "min_height": null,
            "min_width": null,
            "object_fit": null,
            "object_position": null,
            "order": null,
            "overflow": null,
            "overflow_x": null,
            "overflow_y": null,
            "padding": null,
            "right": null,
            "top": null,
            "visibility": null,
            "width": null
          }
        },
        "87e6477fb28a43ba88d879858fa9625a": {
          "model_module": "@jupyter-widgets/base",
          "model_module_version": "1.2.0",
          "model_name": "LayoutModel",
          "state": {
            "_model_module": "@jupyter-widgets/base",
            "_model_module_version": "1.2.0",
            "_model_name": "LayoutModel",
            "_view_count": null,
            "_view_module": "@jupyter-widgets/base",
            "_view_module_version": "1.2.0",
            "_view_name": "LayoutView",
            "align_content": null,
            "align_items": null,
            "align_self": null,
            "border": null,
            "bottom": null,
            "display": null,
            "flex": null,
            "flex_flow": null,
            "grid_area": null,
            "grid_auto_columns": null,
            "grid_auto_flow": null,
            "grid_auto_rows": null,
            "grid_column": null,
            "grid_gap": null,
            "grid_row": null,
            "grid_template_areas": null,
            "grid_template_columns": null,
            "grid_template_rows": null,
            "height": null,
            "justify_content": null,
            "justify_items": null,
            "left": null,
            "margin": null,
            "max_height": null,
            "max_width": null,
            "min_height": null,
            "min_width": null,
            "object_fit": null,
            "object_position": null,
            "order": null,
            "overflow": null,
            "overflow_x": null,
            "overflow_y": null,
            "padding": null,
            "right": null,
            "top": null,
            "visibility": null,
            "width": null
          }
        },
        "8a1f3522b93c487bb84945bd479ad69d": {
          "model_module": "@jupyter-widgets/base",
          "model_module_version": "1.2.0",
          "model_name": "LayoutModel",
          "state": {
            "_model_module": "@jupyter-widgets/base",
            "_model_module_version": "1.2.0",
            "_model_name": "LayoutModel",
            "_view_count": null,
            "_view_module": "@jupyter-widgets/base",
            "_view_module_version": "1.2.0",
            "_view_name": "LayoutView",
            "align_content": null,
            "align_items": null,
            "align_self": null,
            "border": null,
            "bottom": null,
            "display": null,
            "flex": null,
            "flex_flow": null,
            "grid_area": null,
            "grid_auto_columns": null,
            "grid_auto_flow": null,
            "grid_auto_rows": null,
            "grid_column": null,
            "grid_gap": null,
            "grid_row": null,
            "grid_template_areas": null,
            "grid_template_columns": null,
            "grid_template_rows": null,
            "height": null,
            "justify_content": null,
            "justify_items": null,
            "left": null,
            "margin": null,
            "max_height": null,
            "max_width": null,
            "min_height": null,
            "min_width": null,
            "object_fit": null,
            "object_position": null,
            "order": null,
            "overflow": null,
            "overflow_x": null,
            "overflow_y": null,
            "padding": null,
            "right": null,
            "top": null,
            "visibility": null,
            "width": null
          }
        },
        "8c26447481044196b7e40f633fdc502a": {
          "model_module": "@jupyter-widgets/base",
          "model_module_version": "1.2.0",
          "model_name": "LayoutModel",
          "state": {
            "_model_module": "@jupyter-widgets/base",
            "_model_module_version": "1.2.0",
            "_model_name": "LayoutModel",
            "_view_count": null,
            "_view_module": "@jupyter-widgets/base",
            "_view_module_version": "1.2.0",
            "_view_name": "LayoutView",
            "align_content": null,
            "align_items": null,
            "align_self": null,
            "border": null,
            "bottom": null,
            "display": null,
            "flex": null,
            "flex_flow": null,
            "grid_area": null,
            "grid_auto_columns": null,
            "grid_auto_flow": null,
            "grid_auto_rows": null,
            "grid_column": null,
            "grid_gap": null,
            "grid_row": null,
            "grid_template_areas": null,
            "grid_template_columns": null,
            "grid_template_rows": null,
            "height": null,
            "justify_content": null,
            "justify_items": null,
            "left": null,
            "margin": null,
            "max_height": null,
            "max_width": null,
            "min_height": null,
            "min_width": null,
            "object_fit": null,
            "object_position": null,
            "order": null,
            "overflow": null,
            "overflow_x": null,
            "overflow_y": null,
            "padding": null,
            "right": null,
            "top": null,
            "visibility": null,
            "width": null
          }
        },
        "8ce7af50116440ab8c9ce016b49a79a7": {
          "model_module": "@jupyter-widgets/controls",
          "model_module_version": "1.5.0",
          "model_name": "DescriptionStyleModel",
          "state": {
            "_model_module": "@jupyter-widgets/controls",
            "_model_module_version": "1.5.0",
            "_model_name": "DescriptionStyleModel",
            "_view_count": null,
            "_view_module": "@jupyter-widgets/base",
            "_view_module_version": "1.2.0",
            "_view_name": "StyleView",
            "description_width": ""
          }
        },
        "955bca6ac9644b56a2f268d7a72442cf": {
          "model_module": "@jupyter-widgets/base",
          "model_module_version": "1.2.0",
          "model_name": "LayoutModel",
          "state": {
            "_model_module": "@jupyter-widgets/base",
            "_model_module_version": "1.2.0",
            "_model_name": "LayoutModel",
            "_view_count": null,
            "_view_module": "@jupyter-widgets/base",
            "_view_module_version": "1.2.0",
            "_view_name": "LayoutView",
            "align_content": null,
            "align_items": null,
            "align_self": null,
            "border": null,
            "bottom": null,
            "display": null,
            "flex": null,
            "flex_flow": null,
            "grid_area": null,
            "grid_auto_columns": null,
            "grid_auto_flow": null,
            "grid_auto_rows": null,
            "grid_column": null,
            "grid_gap": null,
            "grid_row": null,
            "grid_template_areas": null,
            "grid_template_columns": null,
            "grid_template_rows": null,
            "height": null,
            "justify_content": null,
            "justify_items": null,
            "left": null,
            "margin": null,
            "max_height": null,
            "max_width": null,
            "min_height": null,
            "min_width": null,
            "object_fit": null,
            "object_position": null,
            "order": null,
            "overflow": null,
            "overflow_x": null,
            "overflow_y": null,
            "padding": null,
            "right": null,
            "top": null,
            "visibility": null,
            "width": null
          }
        },
        "969f491211b24714b606cf6de59793fb": {
          "model_module": "@jupyter-widgets/controls",
          "model_module_version": "1.5.0",
          "model_name": "PasswordModel",
          "state": {
            "_dom_classes": [],
            "_model_module": "@jupyter-widgets/controls",
            "_model_module_version": "1.5.0",
            "_model_name": "PasswordModel",
            "_view_count": null,
            "_view_module": "@jupyter-widgets/controls",
            "_view_module_version": "1.5.0",
            "_view_name": "PasswordView",
            "continuous_update": true,
            "description": "Token:",
            "description_tooltip": null,
            "disabled": false,
            "layout": "IPY_MODEL_570dd4b277944ebbb248d8c3031ee8bb",
            "placeholder": "​",
            "style": "IPY_MODEL_fc95c69cba614dcd8495a929ade5e506",
            "value": ""
          }
        },
        "972143d45d124883994debcec67caa62": {
          "model_module": "@jupyter-widgets/base",
          "model_module_version": "1.2.0",
          "model_name": "LayoutModel",
          "state": {
            "_model_module": "@jupyter-widgets/base",
            "_model_module_version": "1.2.0",
            "_model_name": "LayoutModel",
            "_view_count": null,
            "_view_module": "@jupyter-widgets/base",
            "_view_module_version": "1.2.0",
            "_view_name": "LayoutView",
            "align_content": null,
            "align_items": null,
            "align_self": null,
            "border": null,
            "bottom": null,
            "display": null,
            "flex": null,
            "flex_flow": null,
            "grid_area": null,
            "grid_auto_columns": null,
            "grid_auto_flow": null,
            "grid_auto_rows": null,
            "grid_column": null,
            "grid_gap": null,
            "grid_row": null,
            "grid_template_areas": null,
            "grid_template_columns": null,
            "grid_template_rows": null,
            "height": null,
            "justify_content": null,
            "justify_items": null,
            "left": null,
            "margin": null,
            "max_height": null,
            "max_width": null,
            "min_height": null,
            "min_width": null,
            "object_fit": null,
            "object_position": null,
            "order": null,
            "overflow": null,
            "overflow_x": null,
            "overflow_y": null,
            "padding": null,
            "right": null,
            "top": null,
            "visibility": null,
            "width": null
          }
        },
        "9b02a02e3fdb4cfbb5eed859419bb6bc": {
          "model_module": "@jupyter-widgets/base",
          "model_module_version": "1.2.0",
          "model_name": "LayoutModel",
          "state": {
            "_model_module": "@jupyter-widgets/base",
            "_model_module_version": "1.2.0",
            "_model_name": "LayoutModel",
            "_view_count": null,
            "_view_module": "@jupyter-widgets/base",
            "_view_module_version": "1.2.0",
            "_view_name": "LayoutView",
            "align_content": null,
            "align_items": null,
            "align_self": null,
            "border": null,
            "bottom": null,
            "display": null,
            "flex": null,
            "flex_flow": null,
            "grid_area": null,
            "grid_auto_columns": null,
            "grid_auto_flow": null,
            "grid_auto_rows": null,
            "grid_column": null,
            "grid_gap": null,
            "grid_row": null,
            "grid_template_areas": null,
            "grid_template_columns": null,
            "grid_template_rows": null,
            "height": null,
            "justify_content": null,
            "justify_items": null,
            "left": null,
            "margin": null,
            "max_height": null,
            "max_width": null,
            "min_height": null,
            "min_width": null,
            "object_fit": null,
            "object_position": null,
            "order": null,
            "overflow": null,
            "overflow_x": null,
            "overflow_y": null,
            "padding": null,
            "right": null,
            "top": null,
            "visibility": null,
            "width": null
          }
        },
        "9b0cedf6b5304370a41834306bcf5286": {
          "model_module": "@jupyter-widgets/controls",
          "model_module_version": "1.5.0",
          "model_name": "ButtonStyleModel",
          "state": {
            "_model_module": "@jupyter-widgets/controls",
            "_model_module_version": "1.5.0",
            "_model_name": "ButtonStyleModel",
            "_view_count": null,
            "_view_module": "@jupyter-widgets/base",
            "_view_module_version": "1.2.0",
            "_view_name": "StyleView",
            "button_color": null,
            "font_weight": ""
          }
        },
        "9e22382a0338425eaf67c108fd0ac26e": {
          "model_module": "@jupyter-widgets/controls",
          "model_module_version": "1.5.0",
          "model_name": "HTMLModel",
          "state": {
            "_dom_classes": [],
            "_model_module": "@jupyter-widgets/controls",
            "_model_module_version": "1.5.0",
            "_model_name": "HTMLModel",
            "_view_count": null,
            "_view_module": "@jupyter-widgets/controls",
            "_view_module_version": "1.5.0",
            "_view_name": "HTMLView",
            "description": "",
            "description_tooltip": null,
            "layout": "IPY_MODEL_850c815544294135befec67bf0e27597",
            "placeholder": "​",
            "style": "IPY_MODEL_074aed4122b34c8cb20928339f886278",
            "value": "\n<b>Pro Tip:</b> If you don't already have one, you can create a dedicated\n'notebooks' token with 'write' access, that you can then easily reuse for all\nnotebooks. </center>"
          }
        },
        "9f19e4f0dea746648203e0e1fa059b21": {
          "model_module": "@jupyter-widgets/controls",
          "model_module_version": "1.5.0",
          "model_name": "CheckboxModel",
          "state": {
            "_dom_classes": [],
            "_model_module": "@jupyter-widgets/controls",
            "_model_module_version": "1.5.0",
            "_model_name": "CheckboxModel",
            "_view_count": null,
            "_view_module": "@jupyter-widgets/controls",
            "_view_module_version": "1.5.0",
            "_view_name": "CheckboxView",
            "description": "Add token as git credential?",
            "description_tooltip": null,
            "disabled": false,
            "indent": true,
            "layout": "IPY_MODEL_d47238b9e9b9442abe55fdaeae863bd3",
            "style": "IPY_MODEL_e2ec703c9a074bddb92197ebf616730b",
            "value": true
          }
        },
        "a598399f227648a78d184c2d5b630127": {
          "model_module": "@jupyter-widgets/controls",
          "model_module_version": "1.5.0",
          "model_name": "FloatProgressModel",
          "state": {
            "_dom_classes": [],
            "_model_module": "@jupyter-widgets/controls",
            "_model_module_version": "1.5.0",
            "_model_name": "FloatProgressModel",
            "_view_count": null,
            "_view_module": "@jupyter-widgets/controls",
            "_view_module_version": "1.5.0",
            "_view_name": "ProgressView",
            "bar_style": "success",
            "description": "",
            "description_tooltip": null,
            "layout": "IPY_MODEL_7e1649bb301a4c42849349c6565e7729",
            "max": 3409,
            "min": 0,
            "orientation": "horizontal",
            "style": "IPY_MODEL_b7ba3141fc87413ebf35b3ac82c57414",
            "value": 3409
          }
        },
        "aa9701f841f8459784960c8390564f91": {
          "model_module": "@jupyter-widgets/controls",
          "model_module_version": "1.5.0",
          "model_name": "HTMLModel",
          "state": {
            "_dom_classes": [],
            "_model_module": "@jupyter-widgets/controls",
            "_model_module_version": "1.5.0",
            "_model_name": "HTMLModel",
            "_view_count": null,
            "_view_module": "@jupyter-widgets/controls",
            "_view_module_version": "1.5.0",
            "_view_name": "HTMLView",
            "description": "",
            "description_tooltip": null,
            "layout": "IPY_MODEL_955bca6ac9644b56a2f268d7a72442cf",
            "placeholder": "​",
            "style": "IPY_MODEL_135d5252a3ed49b681692396dd2dba81",
            "value": "\n<b>Pro Tip:</b> If you don't already have one, you can create a dedicated\n'notebooks' token with 'write' access, that you can then easily reuse for all\nnotebooks. </center>"
          }
        },
        "ab93f8b2b23a4624b02d68c991ee8413": {
          "model_module": "@jupyter-widgets/controls",
          "model_module_version": "1.5.0",
          "model_name": "ButtonModel",
          "state": {
            "_dom_classes": [],
            "_model_module": "@jupyter-widgets/controls",
            "_model_module_version": "1.5.0",
            "_model_name": "ButtonModel",
            "_view_count": null,
            "_view_module": "@jupyter-widgets/controls",
            "_view_module_version": "1.5.0",
            "_view_name": "ButtonView",
            "button_style": "",
            "description": "Login",
            "disabled": false,
            "icon": "",
            "layout": "IPY_MODEL_38747144667749099891544e8e7ef1d9",
            "style": "IPY_MODEL_eb2801055ce84bcd951f76f0f7ba27f4",
            "tooltip": ""
          }
        },
        "acf1a30795f24666b08c9583b7efed02": {
          "model_module": "@jupyter-widgets/base",
          "model_module_version": "1.2.0",
          "model_name": "LayoutModel",
          "state": {
            "_model_module": "@jupyter-widgets/base",
            "_model_module_version": "1.2.0",
            "_model_name": "LayoutModel",
            "_view_count": null,
            "_view_module": "@jupyter-widgets/base",
            "_view_module_version": "1.2.0",
            "_view_name": "LayoutView",
            "align_content": null,
            "align_items": null,
            "align_self": null,
            "border": null,
            "bottom": null,
            "display": null,
            "flex": null,
            "flex_flow": null,
            "grid_area": null,
            "grid_auto_columns": null,
            "grid_auto_flow": null,
            "grid_auto_rows": null,
            "grid_column": null,
            "grid_gap": null,
            "grid_row": null,
            "grid_template_areas": null,
            "grid_template_columns": null,
            "grid_template_rows": null,
            "height": null,
            "justify_content": null,
            "justify_items": null,
            "left": null,
            "margin": null,
            "max_height": null,
            "max_width": null,
            "min_height": null,
            "min_width": null,
            "object_fit": null,
            "object_position": null,
            "order": null,
            "overflow": null,
            "overflow_x": null,
            "overflow_y": null,
            "padding": null,
            "right": null,
            "top": null,
            "visibility": null,
            "width": null
          }
        },
        "ad773999b7f34bb29d420809b87f1705": {
          "model_module": "@jupyter-widgets/controls",
          "model_module_version": "1.5.0",
          "model_name": "HBoxModel",
          "state": {
            "_dom_classes": [],
            "_model_module": "@jupyter-widgets/controls",
            "_model_module_version": "1.5.0",
            "_model_name": "HBoxModel",
            "_view_count": null,
            "_view_module": "@jupyter-widgets/controls",
            "_view_module_version": "1.5.0",
            "_view_name": "HBoxView",
            "box_style": "",
            "children": [
              "IPY_MODEL_62b02137b1cd4bb4b9b14c587e75cac1",
              "IPY_MODEL_a598399f227648a78d184c2d5b630127",
              "IPY_MODEL_eb37042534e8488db32138469e074d03"
            ],
            "layout": "IPY_MODEL_bc6d1d38dc234bf59bf4d0d6e804b1d4"
          }
        },
        "aec5975127fd4df4a3aca6811f2851b1": {
          "model_module": "@jupyter-widgets/controls",
          "model_module_version": "1.5.0",
          "model_name": "VBoxModel",
          "state": {
            "_dom_classes": [],
            "_model_module": "@jupyter-widgets/controls",
            "_model_module_version": "1.5.0",
            "_model_name": "VBoxModel",
            "_view_count": null,
            "_view_module": "@jupyter-widgets/controls",
            "_view_module_version": "1.5.0",
            "_view_name": "VBoxView",
            "box_style": "",
            "children": [
              "IPY_MODEL_278e048e90f44f389a753bb33cef39a0",
              "IPY_MODEL_bbb6c75214e0456d8ca9c9c420d9b04f",
              "IPY_MODEL_642d65c1681c43bf964754ac528a744c",
              "IPY_MODEL_79eabb35aa20449a8d49c4e03aa9649f"
            ],
            "layout": "IPY_MODEL_c22f4fdbfdba44eea964a6e977d63447"
          }
        },
        "b18f1d5f0ef44e799b6b89c45132ad24": {
          "model_module": "@jupyter-widgets/controls",
          "model_module_version": "1.5.0",
          "model_name": "ProgressStyleModel",
          "state": {
            "_model_module": "@jupyter-widgets/controls",
            "_model_module_version": "1.5.0",
            "_model_name": "ProgressStyleModel",
            "_view_count": null,
            "_view_module": "@jupyter-widgets/base",
            "_view_module_version": "1.2.0",
            "_view_name": "StyleView",
            "bar_color": null,
            "description_width": ""
          }
        },
        "b35c6594298743348c67bbbb90643313": {
          "model_module": "@jupyter-widgets/controls",
          "model_module_version": "1.5.0",
          "model_name": "FloatProgressModel",
          "state": {
            "_dom_classes": [],
            "_model_module": "@jupyter-widgets/controls",
            "_model_module_version": "1.5.0",
            "_model_name": "FloatProgressModel",
            "_view_count": null,
            "_view_module": "@jupyter-widgets/controls",
            "_view_module_version": "1.5.0",
            "_view_name": "ProgressView",
            "bar_style": "success",
            "description": "",
            "description_tooltip": null,
            "layout": "IPY_MODEL_c1f7433049a34a14b7a984c3b706e239",
            "max": 2,
            "min": 0,
            "orientation": "horizontal",
            "style": "IPY_MODEL_b18f1d5f0ef44e799b6b89c45132ad24",
            "value": 2
          }
        },
        "b6d757c8ce4e425b871694e24832a0d0": {
          "model_module": "@jupyter-widgets/base",
          "model_module_version": "1.2.0",
          "model_name": "LayoutModel",
          "state": {
            "_model_module": "@jupyter-widgets/base",
            "_model_module_version": "1.2.0",
            "_model_name": "LayoutModel",
            "_view_count": null,
            "_view_module": "@jupyter-widgets/base",
            "_view_module_version": "1.2.0",
            "_view_name": "LayoutView",
            "align_content": null,
            "align_items": null,
            "align_self": null,
            "border": null,
            "bottom": null,
            "display": null,
            "flex": null,
            "flex_flow": null,
            "grid_area": null,
            "grid_auto_columns": null,
            "grid_auto_flow": null,
            "grid_auto_rows": null,
            "grid_column": null,
            "grid_gap": null,
            "grid_row": null,
            "grid_template_areas": null,
            "grid_template_columns": null,
            "grid_template_rows": null,
            "height": null,
            "justify_content": null,
            "justify_items": null,
            "left": null,
            "margin": null,
            "max_height": null,
            "max_width": null,
            "min_height": null,
            "min_width": null,
            "object_fit": null,
            "object_position": null,
            "order": null,
            "overflow": null,
            "overflow_x": null,
            "overflow_y": null,
            "padding": null,
            "right": null,
            "top": null,
            "visibility": null,
            "width": null
          }
        },
        "b7ba3141fc87413ebf35b3ac82c57414": {
          "model_module": "@jupyter-widgets/controls",
          "model_module_version": "1.5.0",
          "model_name": "ProgressStyleModel",
          "state": {
            "_model_module": "@jupyter-widgets/controls",
            "_model_module_version": "1.5.0",
            "_model_name": "ProgressStyleModel",
            "_view_count": null,
            "_view_module": "@jupyter-widgets/base",
            "_view_module_version": "1.2.0",
            "_view_name": "StyleView",
            "bar_color": null,
            "description_width": ""
          }
        },
        "b8a4e2b047a54118acb3c632d620854c": {
          "model_module": "@jupyter-widgets/controls",
          "model_module_version": "1.5.0",
          "model_name": "HBoxModel",
          "state": {
            "_dom_classes": [],
            "_model_module": "@jupyter-widgets/controls",
            "_model_module_version": "1.5.0",
            "_model_name": "HBoxModel",
            "_view_count": null,
            "_view_module": "@jupyter-widgets/controls",
            "_view_module_version": "1.5.0",
            "_view_name": "HBoxView",
            "box_style": "",
            "children": [
              "IPY_MODEL_f4af77f877794962a1a68c0e185d196e",
              "IPY_MODEL_11b21b29d3aa49da98fcb8618acf9ce4",
              "IPY_MODEL_66eba6cc9e40425495f1abfdd8bcfc3a"
            ],
            "layout": "IPY_MODEL_b6d757c8ce4e425b871694e24832a0d0"
          }
        },
        "bb60a2da8d9d4ae4b126054ab68106d7": {
          "model_module": "@jupyter-widgets/controls",
          "model_module_version": "1.5.0",
          "model_name": "LabelModel",
          "state": {
            "_dom_classes": [],
            "_model_module": "@jupyter-widgets/controls",
            "_model_module_version": "1.5.0",
            "_model_name": "LabelModel",
            "_view_count": null,
            "_view_module": "@jupyter-widgets/controls",
            "_view_module_version": "1.5.0",
            "_view_name": "LabelView",
            "description": "",
            "description_tooltip": null,
            "layout": "IPY_MODEL_972143d45d124883994debcec67caa62",
            "placeholder": "​",
            "style": "IPY_MODEL_2ae318fe3100481d9a262bfb000aa75c",
            "value": "Login successful"
          }
        },
        "bbb6c75214e0456d8ca9c9c420d9b04f": {
          "model_module": "@jupyter-widgets/controls",
          "model_module_version": "1.5.0",
          "model_name": "LabelModel",
          "state": {
            "_dom_classes": [],
            "_model_module": "@jupyter-widgets/controls",
            "_model_module_version": "1.5.0",
            "_model_name": "LabelModel",
            "_view_count": null,
            "_view_module": "@jupyter-widgets/controls",
            "_view_module_version": "1.5.0",
            "_view_name": "LabelView",
            "description": "",
            "description_tooltip": null,
            "layout": "IPY_MODEL_f904bfbc0c8a4b86ba2f699f03787bfb",
            "placeholder": "​",
            "style": "IPY_MODEL_80cf166196aa4e27a0c5f7119d5469bb",
            "value": "Your token has been saved in your configured git credential helpers (store)."
          }
        },
        "bc1397bd66bb419982b9ea6cacdf8937": {
          "model_module": "@jupyter-widgets/controls",
          "model_module_version": "1.5.0",
          "model_name": "HBoxModel",
          "state": {
            "_dom_classes": [],
            "_model_module": "@jupyter-widgets/controls",
            "_model_module_version": "1.5.0",
            "_model_name": "HBoxModel",
            "_view_count": null,
            "_view_module": "@jupyter-widgets/controls",
            "_view_module_version": "1.5.0",
            "_view_name": "HBoxView",
            "box_style": "",
            "children": [
              "IPY_MODEL_ee563af2f4b944cdb49f7577941c18a7",
              "IPY_MODEL_b35c6594298743348c67bbbb90643313",
              "IPY_MODEL_469247f9a20841e4b1520ee2ff7ad653"
            ],
            "layout": "IPY_MODEL_37c729a023fb42fc81cb84a85b4adac3"
          }
        },
        "bc6d1d38dc234bf59bf4d0d6e804b1d4": {
          "model_module": "@jupyter-widgets/base",
          "model_module_version": "1.2.0",
          "model_name": "LayoutModel",
          "state": {
            "_model_module": "@jupyter-widgets/base",
            "_model_module_version": "1.2.0",
            "_model_name": "LayoutModel",
            "_view_count": null,
            "_view_module": "@jupyter-widgets/base",
            "_view_module_version": "1.2.0",
            "_view_name": "LayoutView",
            "align_content": null,
            "align_items": null,
            "align_self": null,
            "border": null,
            "bottom": null,
            "display": null,
            "flex": null,
            "flex_flow": null,
            "grid_area": null,
            "grid_auto_columns": null,
            "grid_auto_flow": null,
            "grid_auto_rows": null,
            "grid_column": null,
            "grid_gap": null,
            "grid_row": null,
            "grid_template_areas": null,
            "grid_template_columns": null,
            "grid_template_rows": null,
            "height": null,
            "justify_content": null,
            "justify_items": null,
            "left": null,
            "margin": null,
            "max_height": null,
            "max_width": null,
            "min_height": null,
            "min_width": null,
            "object_fit": null,
            "object_position": null,
            "order": null,
            "overflow": null,
            "overflow_x": null,
            "overflow_y": null,
            "padding": null,
            "right": null,
            "top": null,
            "visibility": null,
            "width": null
          }
        },
        "be692e482c044f229c0bbafa16dae602": {
          "model_module": "@jupyter-widgets/controls",
          "model_module_version": "1.5.0",
          "model_name": "LabelModel",
          "state": {
            "_dom_classes": [],
            "_model_module": "@jupyter-widgets/controls",
            "_model_module_version": "1.5.0",
            "_model_name": "LabelModel",
            "_view_count": null,
            "_view_module": "@jupyter-widgets/controls",
            "_view_module_version": "1.5.0",
            "_view_name": "LabelView",
            "description": "",
            "description_tooltip": null,
            "layout": "IPY_MODEL_4afd90e61bda4fcc9c77d30776237323",
            "placeholder": "​",
            "style": "IPY_MODEL_de960cd8532a433ab500b26dd99b4988",
            "value": "Connecting..."
          }
        },
        "bf86c7f449ac4a3c99e240696b6c505a": {
          "model_module": "@jupyter-widgets/controls",
          "model_module_version": "1.5.0",
          "model_name": "HTMLModel",
          "state": {
            "_dom_classes": [],
            "_model_module": "@jupyter-widgets/controls",
            "_model_module_version": "1.5.0",
            "_model_name": "HTMLModel",
            "_view_count": null,
            "_view_module": "@jupyter-widgets/controls",
            "_view_module_version": "1.5.0",
            "_view_name": "HTMLView",
            "description": "",
            "description_tooltip": null,
            "layout": "IPY_MODEL_acf1a30795f24666b08c9583b7efed02",
            "placeholder": "​",
            "style": "IPY_MODEL_100005202dbb459ea94aa7ce85ef0d86",
            "value": "<center> <img\nsrc=https://huggingface.co/front/assets/huggingface_logo-noborder.svg\nalt='Hugging Face'> <br> Copy a token from <a\nhref=\"https://huggingface.co/settings/tokens\" target=\"_blank\">your Hugging Face\ntokens page</a> and paste it below. <br> Immediately click login after copying\nyour token or it might be stored in plain text in this notebook file. </center>"
          }
        },
        "c1f7433049a34a14b7a984c3b706e239": {
          "model_module": "@jupyter-widgets/base",
          "model_module_version": "1.2.0",
          "model_name": "LayoutModel",
          "state": {
            "_model_module": "@jupyter-widgets/base",
            "_model_module_version": "1.2.0",
            "_model_name": "LayoutModel",
            "_view_count": null,
            "_view_module": "@jupyter-widgets/base",
            "_view_module_version": "1.2.0",
            "_view_name": "LayoutView",
            "align_content": null,
            "align_items": null,
            "align_self": null,
            "border": null,
            "bottom": null,
            "display": null,
            "flex": null,
            "flex_flow": null,
            "grid_area": null,
            "grid_auto_columns": null,
            "grid_auto_flow": null,
            "grid_auto_rows": null,
            "grid_column": null,
            "grid_gap": null,
            "grid_row": null,
            "grid_template_areas": null,
            "grid_template_columns": null,
            "grid_template_rows": null,
            "height": null,
            "justify_content": null,
            "justify_items": null,
            "left": null,
            "margin": null,
            "max_height": null,
            "max_width": null,
            "min_height": null,
            "min_width": null,
            "object_fit": null,
            "object_position": null,
            "order": null,
            "overflow": null,
            "overflow_x": null,
            "overflow_y": null,
            "padding": null,
            "right": null,
            "top": null,
            "visibility": null,
            "width": null
          }
        },
        "c22f4fdbfdba44eea964a6e977d63447": {
          "model_module": "@jupyter-widgets/base",
          "model_module_version": "1.2.0",
          "model_name": "LayoutModel",
          "state": {
            "_model_module": "@jupyter-widgets/base",
            "_model_module_version": "1.2.0",
            "_model_name": "LayoutModel",
            "_view_count": null,
            "_view_module": "@jupyter-widgets/base",
            "_view_module_version": "1.2.0",
            "_view_name": "LayoutView",
            "align_content": null,
            "align_items": "center",
            "align_self": null,
            "border": null,
            "bottom": null,
            "display": "flex",
            "flex": null,
            "flex_flow": "column",
            "grid_area": null,
            "grid_auto_columns": null,
            "grid_auto_flow": null,
            "grid_auto_rows": null,
            "grid_column": null,
            "grid_gap": null,
            "grid_row": null,
            "grid_template_areas": null,
            "grid_template_columns": null,
            "grid_template_rows": null,
            "height": null,
            "justify_content": null,
            "justify_items": null,
            "left": null,
            "margin": null,
            "max_height": null,
            "max_width": null,
            "min_height": null,
            "min_width": null,
            "object_fit": null,
            "object_position": null,
            "order": null,
            "overflow": null,
            "overflow_x": null,
            "overflow_y": null,
            "padding": null,
            "right": null,
            "top": null,
            "visibility": null,
            "width": "50%"
          }
        },
        "c438bee4ae6a4b4a9a1d99df5f59a491": {
          "model_module": "@jupyter-widgets/controls",
          "model_module_version": "1.5.0",
          "model_name": "HBoxModel",
          "state": {
            "_dom_classes": [],
            "_model_module": "@jupyter-widgets/controls",
            "_model_module_version": "1.5.0",
            "_model_name": "HBoxModel",
            "_view_count": null,
            "_view_module": "@jupyter-widgets/controls",
            "_view_module_version": "1.5.0",
            "_view_name": "HBoxView",
            "box_style": "",
            "children": [
              "IPY_MODEL_ed1602171c604863b7af2ad8c8348d3c",
              "IPY_MODEL_476d083722ff4be18b68580ef6be49c6",
              "IPY_MODEL_cdf600d2c7f042d2a83c47906ef21416"
            ],
            "layout": "IPY_MODEL_e294cb8e38944c67a22dc0af393c757a"
          }
        },
        "c5287f4b30a54c07993239c4b7797401": {
          "model_module": "@jupyter-widgets/controls",
          "model_module_version": "1.5.0",
          "model_name": "ButtonModel",
          "state": {
            "_dom_classes": [],
            "_model_module": "@jupyter-widgets/controls",
            "_model_module_version": "1.5.0",
            "_model_name": "ButtonModel",
            "_view_count": null,
            "_view_module": "@jupyter-widgets/controls",
            "_view_module_version": "1.5.0",
            "_view_name": "ButtonView",
            "button_style": "",
            "description": "Login",
            "disabled": false,
            "icon": "",
            "layout": "IPY_MODEL_6ebfd39b03c0487d90fcf778aad02b1e",
            "style": "IPY_MODEL_9b0cedf6b5304370a41834306bcf5286",
            "tooltip": ""
          }
        },
        "c5dd77e096b5494093982cf6c6f1cd3e": {
          "model_module": "@jupyter-widgets/controls",
          "model_module_version": "1.5.0",
          "model_name": "DescriptionStyleModel",
          "state": {
            "_model_module": "@jupyter-widgets/controls",
            "_model_module_version": "1.5.0",
            "_model_name": "DescriptionStyleModel",
            "_view_count": null,
            "_view_module": "@jupyter-widgets/base",
            "_view_module_version": "1.2.0",
            "_view_name": "StyleView",
            "description_width": ""
          }
        },
        "c7aa1fbb00ce44eb855b82447f1949d7": {
          "model_module": "@jupyter-widgets/base",
          "model_module_version": "1.2.0",
          "model_name": "LayoutModel",
          "state": {
            "_model_module": "@jupyter-widgets/base",
            "_model_module_version": "1.2.0",
            "_model_name": "LayoutModel",
            "_view_count": null,
            "_view_module": "@jupyter-widgets/base",
            "_view_module_version": "1.2.0",
            "_view_name": "LayoutView",
            "align_content": null,
            "align_items": null,
            "align_self": null,
            "border": null,
            "bottom": null,
            "display": null,
            "flex": null,
            "flex_flow": null,
            "grid_area": null,
            "grid_auto_columns": null,
            "grid_auto_flow": null,
            "grid_auto_rows": null,
            "grid_column": null,
            "grid_gap": null,
            "grid_row": null,
            "grid_template_areas": null,
            "grid_template_columns": null,
            "grid_template_rows": null,
            "height": null,
            "justify_content": null,
            "justify_items": null,
            "left": null,
            "margin": null,
            "max_height": null,
            "max_width": null,
            "min_height": null,
            "min_width": null,
            "object_fit": null,
            "object_position": null,
            "order": null,
            "overflow": null,
            "overflow_x": null,
            "overflow_y": null,
            "padding": null,
            "right": null,
            "top": null,
            "visibility": null,
            "width": null
          }
        },
        "cacceca245684c71bbb71f94a1d653ae": {
          "model_module": "@jupyter-widgets/controls",
          "model_module_version": "1.5.0",
          "model_name": "ProgressStyleModel",
          "state": {
            "_model_module": "@jupyter-widgets/controls",
            "_model_module_version": "1.5.0",
            "_model_name": "ProgressStyleModel",
            "_view_count": null,
            "_view_module": "@jupyter-widgets/base",
            "_view_module_version": "1.2.0",
            "_view_name": "StyleView",
            "bar_color": null,
            "description_width": ""
          }
        },
        "cdf600d2c7f042d2a83c47906ef21416": {
          "model_module": "@jupyter-widgets/controls",
          "model_module_version": "1.5.0",
          "model_name": "HTMLModel",
          "state": {
            "_dom_classes": [],
            "_model_module": "@jupyter-widgets/controls",
            "_model_module_version": "1.5.0",
            "_model_name": "HTMLModel",
            "_view_count": null,
            "_view_module": "@jupyter-widgets/controls",
            "_view_module_version": "1.5.0",
            "_view_name": "HTMLView",
            "description": "",
            "description_tooltip": null,
            "layout": "IPY_MODEL_230e3fd312ca46f1a22fbc4c182d7e22",
            "placeholder": "​",
            "style": "IPY_MODEL_f36e18ca6d1045f3905a8c07c2006385",
            "value": " 4.54k/4.54k [00:00&lt;00:00, 15.0kB/s]"
          }
        },
        "d1ed5bc35beb4f23ae3292ed04b3235f": {
          "model_module": "@jupyter-widgets/controls",
          "model_module_version": "1.5.0",
          "model_name": "DescriptionStyleModel",
          "state": {
            "_model_module": "@jupyter-widgets/controls",
            "_model_module_version": "1.5.0",
            "_model_name": "DescriptionStyleModel",
            "_view_count": null,
            "_view_module": "@jupyter-widgets/base",
            "_view_module_version": "1.2.0",
            "_view_name": "StyleView",
            "description_width": ""
          }
        },
        "d47238b9e9b9442abe55fdaeae863bd3": {
          "model_module": "@jupyter-widgets/base",
          "model_module_version": "1.2.0",
          "model_name": "LayoutModel",
          "state": {
            "_model_module": "@jupyter-widgets/base",
            "_model_module_version": "1.2.0",
            "_model_name": "LayoutModel",
            "_view_count": null,
            "_view_module": "@jupyter-widgets/base",
            "_view_module_version": "1.2.0",
            "_view_name": "LayoutView",
            "align_content": null,
            "align_items": null,
            "align_self": null,
            "border": null,
            "bottom": null,
            "display": null,
            "flex": null,
            "flex_flow": null,
            "grid_area": null,
            "grid_auto_columns": null,
            "grid_auto_flow": null,
            "grid_auto_rows": null,
            "grid_column": null,
            "grid_gap": null,
            "grid_row": null,
            "grid_template_areas": null,
            "grid_template_columns": null,
            "grid_template_rows": null,
            "height": null,
            "justify_content": null,
            "justify_items": null,
            "left": null,
            "margin": null,
            "max_height": null,
            "max_width": null,
            "min_height": null,
            "min_width": null,
            "object_fit": null,
            "object_position": null,
            "order": null,
            "overflow": null,
            "overflow_x": null,
            "overflow_y": null,
            "padding": null,
            "right": null,
            "top": null,
            "visibility": null,
            "width": null
          }
        },
        "d9423daff0964ec1b80cbc409b98a60a": {
          "model_module": "@jupyter-widgets/base",
          "model_module_version": "1.2.0",
          "model_name": "LayoutModel",
          "state": {
            "_model_module": "@jupyter-widgets/base",
            "_model_module_version": "1.2.0",
            "_model_name": "LayoutModel",
            "_view_count": null,
            "_view_module": "@jupyter-widgets/base",
            "_view_module_version": "1.2.0",
            "_view_name": "LayoutView",
            "align_content": null,
            "align_items": null,
            "align_self": null,
            "border": null,
            "bottom": null,
            "display": null,
            "flex": null,
            "flex_flow": null,
            "grid_area": null,
            "grid_auto_columns": null,
            "grid_auto_flow": null,
            "grid_auto_rows": null,
            "grid_column": null,
            "grid_gap": null,
            "grid_row": null,
            "grid_template_areas": null,
            "grid_template_columns": null,
            "grid_template_rows": null,
            "height": null,
            "justify_content": null,
            "justify_items": null,
            "left": null,
            "margin": null,
            "max_height": null,
            "max_width": null,
            "min_height": null,
            "min_width": null,
            "object_fit": null,
            "object_position": null,
            "order": null,
            "overflow": null,
            "overflow_x": null,
            "overflow_y": null,
            "padding": null,
            "right": null,
            "top": null,
            "visibility": null,
            "width": null
          }
        },
        "dcbcb838980c41f9b2a650fd36bd2ed0": {
          "model_module": "@jupyter-widgets/controls",
          "model_module_version": "1.5.0",
          "model_name": "LabelModel",
          "state": {
            "_dom_classes": [],
            "_model_module": "@jupyter-widgets/controls",
            "_model_module_version": "1.5.0",
            "_model_name": "LabelModel",
            "_view_count": null,
            "_view_module": "@jupyter-widgets/controls",
            "_view_module_version": "1.5.0",
            "_view_name": "LabelView",
            "description": "",
            "description_tooltip": null,
            "layout": "IPY_MODEL_3cc42b592a1a46a1bae9f0ab2b60a157",
            "placeholder": "​",
            "style": "IPY_MODEL_d1ed5bc35beb4f23ae3292ed04b3235f",
            "value": "Token is valid (permission: write)."
          }
        },
        "de960cd8532a433ab500b26dd99b4988": {
          "model_module": "@jupyter-widgets/controls",
          "model_module_version": "1.5.0",
          "model_name": "DescriptionStyleModel",
          "state": {
            "_model_module": "@jupyter-widgets/controls",
            "_model_module_version": "1.5.0",
            "_model_name": "DescriptionStyleModel",
            "_view_count": null,
            "_view_module": "@jupyter-widgets/base",
            "_view_module_version": "1.2.0",
            "_view_name": "StyleView",
            "description_width": ""
          }
        },
        "dee9fe4bd5a843549eed2e3aa9a3f188": {
          "model_module": "@jupyter-widgets/base",
          "model_module_version": "1.2.0",
          "model_name": "LayoutModel",
          "state": {
            "_model_module": "@jupyter-widgets/base",
            "_model_module_version": "1.2.0",
            "_model_name": "LayoutModel",
            "_view_count": null,
            "_view_module": "@jupyter-widgets/base",
            "_view_module_version": "1.2.0",
            "_view_name": "LayoutView",
            "align_content": null,
            "align_items": null,
            "align_self": null,
            "border": null,
            "bottom": null,
            "display": null,
            "flex": null,
            "flex_flow": null,
            "grid_area": null,
            "grid_auto_columns": null,
            "grid_auto_flow": null,
            "grid_auto_rows": null,
            "grid_column": null,
            "grid_gap": null,
            "grid_row": null,
            "grid_template_areas": null,
            "grid_template_columns": null,
            "grid_template_rows": null,
            "height": null,
            "justify_content": null,
            "justify_items": null,
            "left": null,
            "margin": null,
            "max_height": null,
            "max_width": null,
            "min_height": null,
            "min_width": null,
            "object_fit": null,
            "object_position": null,
            "order": null,
            "overflow": null,
            "overflow_x": null,
            "overflow_y": null,
            "padding": null,
            "right": null,
            "top": null,
            "visibility": null,
            "width": null
          }
        },
        "e294cb8e38944c67a22dc0af393c757a": {
          "model_module": "@jupyter-widgets/base",
          "model_module_version": "1.2.0",
          "model_name": "LayoutModel",
          "state": {
            "_model_module": "@jupyter-widgets/base",
            "_model_module_version": "1.2.0",
            "_model_name": "LayoutModel",
            "_view_count": null,
            "_view_module": "@jupyter-widgets/base",
            "_view_module_version": "1.2.0",
            "_view_name": "LayoutView",
            "align_content": null,
            "align_items": null,
            "align_self": null,
            "border": null,
            "bottom": null,
            "display": null,
            "flex": null,
            "flex_flow": null,
            "grid_area": null,
            "grid_auto_columns": null,
            "grid_auto_flow": null,
            "grid_auto_rows": null,
            "grid_column": null,
            "grid_gap": null,
            "grid_row": null,
            "grid_template_areas": null,
            "grid_template_columns": null,
            "grid_template_rows": null,
            "height": null,
            "justify_content": null,
            "justify_items": null,
            "left": null,
            "margin": null,
            "max_height": null,
            "max_width": null,
            "min_height": null,
            "min_width": null,
            "object_fit": null,
            "object_position": null,
            "order": null,
            "overflow": null,
            "overflow_x": null,
            "overflow_y": null,
            "padding": null,
            "right": null,
            "top": null,
            "visibility": null,
            "width": null
          }
        },
        "e2ec703c9a074bddb92197ebf616730b": {
          "model_module": "@jupyter-widgets/controls",
          "model_module_version": "1.5.0",
          "model_name": "DescriptionStyleModel",
          "state": {
            "_model_module": "@jupyter-widgets/controls",
            "_model_module_version": "1.5.0",
            "_model_name": "DescriptionStyleModel",
            "_view_count": null,
            "_view_module": "@jupyter-widgets/base",
            "_view_module_version": "1.2.0",
            "_view_name": "StyleView",
            "description_width": ""
          }
        },
        "eb2801055ce84bcd951f76f0f7ba27f4": {
          "model_module": "@jupyter-widgets/controls",
          "model_module_version": "1.5.0",
          "model_name": "ButtonStyleModel",
          "state": {
            "_model_module": "@jupyter-widgets/controls",
            "_model_module_version": "1.5.0",
            "_model_name": "ButtonStyleModel",
            "_view_count": null,
            "_view_module": "@jupyter-widgets/base",
            "_view_module_version": "1.2.0",
            "_view_name": "StyleView",
            "button_color": null,
            "font_weight": ""
          }
        },
        "eb37042534e8488db32138469e074d03": {
          "model_module": "@jupyter-widgets/controls",
          "model_module_version": "1.5.0",
          "model_name": "HTMLModel",
          "state": {
            "_dom_classes": [],
            "_model_module": "@jupyter-widgets/controls",
            "_model_module_version": "1.5.0",
            "_model_name": "HTMLModel",
            "_view_count": null,
            "_view_module": "@jupyter-widgets/controls",
            "_view_module_version": "1.5.0",
            "_view_name": "HTMLView",
            "description": "",
            "description_tooltip": null,
            "layout": "IPY_MODEL_c7aa1fbb00ce44eb855b82447f1949d7",
            "placeholder": "​",
            "style": "IPY_MODEL_c5dd77e096b5494093982cf6c6f1cd3e",
            "value": " 3409/3409 [00:01&lt;00:00, 3188.45 examples/s]"
          }
        },
        "ec6b2501a11a4b0d947841d00cb49ebd": {
          "model_module": "@jupyter-widgets/controls",
          "model_module_version": "1.5.0",
          "model_name": "DescriptionStyleModel",
          "state": {
            "_model_module": "@jupyter-widgets/controls",
            "_model_module_version": "1.5.0",
            "_model_name": "DescriptionStyleModel",
            "_view_count": null,
            "_view_module": "@jupyter-widgets/base",
            "_view_module_version": "1.2.0",
            "_view_name": "StyleView",
            "description_width": ""
          }
        },
        "ed1602171c604863b7af2ad8c8348d3c": {
          "model_module": "@jupyter-widgets/controls",
          "model_module_version": "1.5.0",
          "model_name": "HTMLModel",
          "state": {
            "_dom_classes": [],
            "_model_module": "@jupyter-widgets/controls",
            "_model_module_version": "1.5.0",
            "_model_name": "HTMLModel",
            "_view_count": null,
            "_view_module": "@jupyter-widgets/controls",
            "_view_module_version": "1.5.0",
            "_view_name": "HTMLView",
            "description": "",
            "description_tooltip": null,
            "layout": "IPY_MODEL_341cef0cee0a4ba3b5f8646edee9ee8c",
            "placeholder": "​",
            "style": "IPY_MODEL_5b7372320c9a4fef92d5a0bdaaffb94f",
            "value": "training_args.bin: 100%"
          }
        },
        "ede236c240bf4b53979439b48fbf7883": {
          "model_module": "@jupyter-widgets/controls",
          "model_module_version": "1.5.0",
          "model_name": "DescriptionStyleModel",
          "state": {
            "_model_module": "@jupyter-widgets/controls",
            "_model_module_version": "1.5.0",
            "_model_name": "DescriptionStyleModel",
            "_view_count": null,
            "_view_module": "@jupyter-widgets/base",
            "_view_module_version": "1.2.0",
            "_view_name": "StyleView",
            "description_width": ""
          }
        },
        "ee563af2f4b944cdb49f7577941c18a7": {
          "model_module": "@jupyter-widgets/controls",
          "model_module_version": "1.5.0",
          "model_name": "HTMLModel",
          "state": {
            "_dom_classes": [],
            "_model_module": "@jupyter-widgets/controls",
            "_model_module_version": "1.5.0",
            "_model_name": "HTMLModel",
            "_view_count": null,
            "_view_module": "@jupyter-widgets/controls",
            "_view_module_version": "1.5.0",
            "_view_name": "HTMLView",
            "description": "",
            "description_tooltip": null,
            "layout": "IPY_MODEL_12b2589992d7459aabd1ae023c9acc80",
            "placeholder": "​",
            "style": "IPY_MODEL_ede236c240bf4b53979439b48fbf7883",
            "value": "Upload 2 LFS files: 100%"
          }
        },
        "f09a45523aec4d51b95dc1b3237baae3": {
          "model_module": "@jupyter-widgets/controls",
          "model_module_version": "1.5.0",
          "model_name": "DescriptionStyleModel",
          "state": {
            "_model_module": "@jupyter-widgets/controls",
            "_model_module_version": "1.5.0",
            "_model_name": "DescriptionStyleModel",
            "_view_count": null,
            "_view_module": "@jupyter-widgets/base",
            "_view_module_version": "1.2.0",
            "_view_name": "StyleView",
            "description_width": ""
          }
        },
        "f193f12757c14604a0deb970853038be": {
          "model_module": "@jupyter-widgets/controls",
          "model_module_version": "1.5.0",
          "model_name": "DescriptionStyleModel",
          "state": {
            "_model_module": "@jupyter-widgets/controls",
            "_model_module_version": "1.5.0",
            "_model_name": "DescriptionStyleModel",
            "_view_count": null,
            "_view_module": "@jupyter-widgets/base",
            "_view_module_version": "1.2.0",
            "_view_name": "StyleView",
            "description_width": ""
          }
        },
        "f36e18ca6d1045f3905a8c07c2006385": {
          "model_module": "@jupyter-widgets/controls",
          "model_module_version": "1.5.0",
          "model_name": "DescriptionStyleModel",
          "state": {
            "_model_module": "@jupyter-widgets/controls",
            "_model_module_version": "1.5.0",
            "_model_name": "DescriptionStyleModel",
            "_view_count": null,
            "_view_module": "@jupyter-widgets/base",
            "_view_module_version": "1.2.0",
            "_view_name": "StyleView",
            "description_width": ""
          }
        },
        "f4af77f877794962a1a68c0e185d196e": {
          "model_module": "@jupyter-widgets/controls",
          "model_module_version": "1.5.0",
          "model_name": "HTMLModel",
          "state": {
            "_dom_classes": [],
            "_model_module": "@jupyter-widgets/controls",
            "_model_module_version": "1.5.0",
            "_model_name": "HTMLModel",
            "_view_count": null,
            "_view_module": "@jupyter-widgets/controls",
            "_view_module_version": "1.5.0",
            "_view_name": "HTMLView",
            "description": "",
            "description_tooltip": null,
            "layout": "IPY_MODEL_67f3b2659ccb44bd996376b9ba10fa0c",
            "placeholder": "​",
            "style": "IPY_MODEL_4e1ec022dd214327915320c16ec99530",
            "value": "model.safetensors: 100%"
          }
        },
        "f5d8c31aac00494cb1bcaf2203843abb": {
          "model_module": "@jupyter-widgets/controls",
          "model_module_version": "1.5.0",
          "model_name": "DescriptionStyleModel",
          "state": {
            "_model_module": "@jupyter-widgets/controls",
            "_model_module_version": "1.5.0",
            "_model_name": "DescriptionStyleModel",
            "_view_count": null,
            "_view_module": "@jupyter-widgets/base",
            "_view_module_version": "1.2.0",
            "_view_name": "StyleView",
            "description_width": ""
          }
        },
        "f904bfbc0c8a4b86ba2f699f03787bfb": {
          "model_module": "@jupyter-widgets/base",
          "model_module_version": "1.2.0",
          "model_name": "LayoutModel",
          "state": {
            "_model_module": "@jupyter-widgets/base",
            "_model_module_version": "1.2.0",
            "_model_name": "LayoutModel",
            "_view_count": null,
            "_view_module": "@jupyter-widgets/base",
            "_view_module_version": "1.2.0",
            "_view_name": "LayoutView",
            "align_content": null,
            "align_items": null,
            "align_self": null,
            "border": null,
            "bottom": null,
            "display": null,
            "flex": null,
            "flex_flow": null,
            "grid_area": null,
            "grid_auto_columns": null,
            "grid_auto_flow": null,
            "grid_auto_rows": null,
            "grid_column": null,
            "grid_gap": null,
            "grid_row": null,
            "grid_template_areas": null,
            "grid_template_columns": null,
            "grid_template_rows": null,
            "height": null,
            "justify_content": null,
            "justify_items": null,
            "left": null,
            "margin": null,
            "max_height": null,
            "max_width": null,
            "min_height": null,
            "min_width": null,
            "object_fit": null,
            "object_position": null,
            "order": null,
            "overflow": null,
            "overflow_x": null,
            "overflow_y": null,
            "padding": null,
            "right": null,
            "top": null,
            "visibility": null,
            "width": null
          }
        },
        "fa89aceb4af6420ab67a1efd2fb9ef3a": {
          "model_module": "@jupyter-widgets/controls",
          "model_module_version": "1.5.0",
          "model_name": "DescriptionStyleModel",
          "state": {
            "_model_module": "@jupyter-widgets/controls",
            "_model_module_version": "1.5.0",
            "_model_name": "DescriptionStyleModel",
            "_view_count": null,
            "_view_module": "@jupyter-widgets/base",
            "_view_module_version": "1.2.0",
            "_view_name": "StyleView",
            "description_width": ""
          }
        },
        "fc95c69cba614dcd8495a929ade5e506": {
          "model_module": "@jupyter-widgets/controls",
          "model_module_version": "1.5.0",
          "model_name": "DescriptionStyleModel",
          "state": {
            "_model_module": "@jupyter-widgets/controls",
            "_model_module_version": "1.5.0",
            "_model_name": "DescriptionStyleModel",
            "_view_count": null,
            "_view_module": "@jupyter-widgets/base",
            "_view_module_version": "1.2.0",
            "_view_name": "StyleView",
            "description_width": ""
          }
        },
        "ffb8f20264124ba1bb5e874fb1743613": {
          "model_module": "@jupyter-widgets/base",
          "model_module_version": "1.2.0",
          "model_name": "LayoutModel",
          "state": {
            "_model_module": "@jupyter-widgets/base",
            "_model_module_version": "1.2.0",
            "_model_name": "LayoutModel",
            "_view_count": null,
            "_view_module": "@jupyter-widgets/base",
            "_view_module_version": "1.2.0",
            "_view_name": "LayoutView",
            "align_content": null,
            "align_items": null,
            "align_self": null,
            "border": null,
            "bottom": null,
            "display": null,
            "flex": null,
            "flex_flow": null,
            "grid_area": null,
            "grid_auto_columns": null,
            "grid_auto_flow": null,
            "grid_auto_rows": null,
            "grid_column": null,
            "grid_gap": null,
            "grid_row": null,
            "grid_template_areas": null,
            "grid_template_columns": null,
            "grid_template_rows": null,
            "height": null,
            "justify_content": null,
            "justify_items": null,
            "left": null,
            "margin": null,
            "max_height": null,
            "max_width": null,
            "min_height": null,
            "min_width": null,
            "object_fit": null,
            "object_position": null,
            "order": null,
            "overflow": null,
            "overflow_x": null,
            "overflow_y": null,
            "padding": null,
            "right": null,
            "top": null,
            "visibility": null,
            "width": null
          }
        }
      }
    }
  },
  "nbformat": 4,
  "nbformat_minor": 0
}
