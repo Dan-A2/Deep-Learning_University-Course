{
 "cells": [
  {
   "cell_type": "markdown",
   "metadata": {
    "id": "WoiT4NdPpq5M"
   },
   "source": [
    "## In the name of God\n",
    "---\n",
    "## Deep Learning HW4 - Practical Q3\n",
    "## Graph Embeddings\n",
    "\n"
   ]
  },
  {
   "cell_type": "code",
   "execution_count": 1,
   "metadata": {
    "id": "kmO516PusxPF"
   },
   "outputs": [],
   "source": [
    "import os\n",
    "from collections import defaultdict\n",
    "import math\n",
    "import networkx as nx\n",
    "import random\n",
    "from tqdm import tqdm\n",
    "from zipfile import ZipFile\n",
    "from urllib.request import urlretrieve\n",
    "import numpy as np\n",
    "import pandas as pd\n",
    "import matplotlib.pyplot as plt"
   ]
  },
  {
   "cell_type": "markdown",
   "metadata": {},
   "source": [
    "Graph embedding is a technique employed to transform nodes, edges, and their features into vector space. In this homework, we demonstrate the deepwalk technique on the small version of the Movielens dataset to learn movie embeddings"
   ]
  },
  {
   "cell_type": "markdown",
   "metadata": {
    "id": "9duo4L2HqDkJ"
   },
   "source": [
    "### Download and Extract the MovieLens dataset"
   ]
  },
  {
   "cell_type": "code",
   "execution_count": 2,
   "metadata": {
    "id": "FtMX3qqOsTFF"
   },
   "outputs": [],
   "source": [
    "urlretrieve(\n",
    "    \"http://files.grouplens.org/datasets/movielens/ml-latest-small.zip\", \"movielens.zip\"\n",
    ")\n",
    "ZipFile(\"movielens.zip\", \"r\").extractall()"
   ]
  },
  {
   "cell_type": "markdown",
   "metadata": {},
   "source": [
    "### Load Movies and Ratings data from csv files"
   ]
  },
  {
   "cell_type": "code",
   "execution_count": 3,
   "metadata": {
    "id": "a6jraAYutPGF"
   },
   "outputs": [],
   "source": [
    "movies = pd.read_csv(\"ml-latest-small/movies.csv\")\n",
    "ratings = pd.read_csv(\"ml-latest-small/ratings.csv\")"
   ]
  },
  {
   "cell_type": "code",
   "execution_count": 4,
   "metadata": {
    "colab": {
     "base_uri": "https://localhost:8080/"
    },
    "id": "OcwcpvMjtQVM",
    "outputId": "c403a403-2383-4e14-fdb8-443a1c1873b3"
   },
   "outputs": [
    {
     "name": "stdout",
     "output_type": "stream",
     "text": [
      "Movies data shape: (9742, 3)\n",
      "Ratings data shape: (100836, 4)\n"
     ]
    },
    {
     "data": {
      "text/html": [
       "<div>\n",
       "<style scoped>\n",
       "    .dataframe tbody tr th:only-of-type {\n",
       "        vertical-align: middle;\n",
       "    }\n",
       "\n",
       "    .dataframe tbody tr th {\n",
       "        vertical-align: top;\n",
       "    }\n",
       "\n",
       "    .dataframe thead th {\n",
       "        text-align: right;\n",
       "    }\n",
       "</style>\n",
       "<table border=\"1\" class=\"dataframe\">\n",
       "  <thead>\n",
       "    <tr style=\"text-align: right;\">\n",
       "      <th></th>\n",
       "      <th>movieId</th>\n",
       "      <th>title</th>\n",
       "      <th>genres</th>\n",
       "    </tr>\n",
       "  </thead>\n",
       "  <tbody>\n",
       "    <tr>\n",
       "      <th>0</th>\n",
       "      <td>1</td>\n",
       "      <td>Toy Story (1995)</td>\n",
       "      <td>Adventure|Animation|Children|Comedy|Fantasy</td>\n",
       "    </tr>\n",
       "    <tr>\n",
       "      <th>1</th>\n",
       "      <td>2</td>\n",
       "      <td>Jumanji (1995)</td>\n",
       "      <td>Adventure|Children|Fantasy</td>\n",
       "    </tr>\n",
       "    <tr>\n",
       "      <th>2</th>\n",
       "      <td>3</td>\n",
       "      <td>Grumpier Old Men (1995)</td>\n",
       "      <td>Comedy|Romance</td>\n",
       "    </tr>\n",
       "    <tr>\n",
       "      <th>3</th>\n",
       "      <td>4</td>\n",
       "      <td>Waiting to Exhale (1995)</td>\n",
       "      <td>Comedy|Drama|Romance</td>\n",
       "    </tr>\n",
       "    <tr>\n",
       "      <th>4</th>\n",
       "      <td>5</td>\n",
       "      <td>Father of the Bride Part II (1995)</td>\n",
       "      <td>Comedy</td>\n",
       "    </tr>\n",
       "  </tbody>\n",
       "</table>\n",
       "</div>"
      ],
      "text/plain": [
       "   movieId                               title  \\\n",
       "0        1                    Toy Story (1995)   \n",
       "1        2                      Jumanji (1995)   \n",
       "2        3             Grumpier Old Men (1995)   \n",
       "3        4            Waiting to Exhale (1995)   \n",
       "4        5  Father of the Bride Part II (1995)   \n",
       "\n",
       "                                        genres  \n",
       "0  Adventure|Animation|Children|Comedy|Fantasy  \n",
       "1                   Adventure|Children|Fantasy  \n",
       "2                               Comedy|Romance  \n",
       "3                         Comedy|Drama|Romance  \n",
       "4                                       Comedy  "
      ]
     },
     "execution_count": 4,
     "metadata": {},
     "output_type": "execute_result"
    }
   ],
   "source": [
    "print(\"Movies data shape:\", movies.shape)\n",
    "print(\"Ratings data shape:\", ratings.shape)\n",
    "movies.head()"
   ]
  },
  {
   "cell_type": "code",
   "execution_count": 5,
   "metadata": {},
   "outputs": [
    {
     "data": {
      "text/html": [
       "<div>\n",
       "<style scoped>\n",
       "    .dataframe tbody tr th:only-of-type {\n",
       "        vertical-align: middle;\n",
       "    }\n",
       "\n",
       "    .dataframe tbody tr th {\n",
       "        vertical-align: top;\n",
       "    }\n",
       "\n",
       "    .dataframe thead th {\n",
       "        text-align: right;\n",
       "    }\n",
       "</style>\n",
       "<table border=\"1\" class=\"dataframe\">\n",
       "  <thead>\n",
       "    <tr style=\"text-align: right;\">\n",
       "      <th></th>\n",
       "      <th>userId</th>\n",
       "      <th>movieId</th>\n",
       "      <th>rating</th>\n",
       "      <th>timestamp</th>\n",
       "    </tr>\n",
       "  </thead>\n",
       "  <tbody>\n",
       "    <tr>\n",
       "      <th>0</th>\n",
       "      <td>1</td>\n",
       "      <td>1</td>\n",
       "      <td>4.0</td>\n",
       "      <td>964982703</td>\n",
       "    </tr>\n",
       "    <tr>\n",
       "      <th>1</th>\n",
       "      <td>1</td>\n",
       "      <td>3</td>\n",
       "      <td>4.0</td>\n",
       "      <td>964981247</td>\n",
       "    </tr>\n",
       "    <tr>\n",
       "      <th>2</th>\n",
       "      <td>1</td>\n",
       "      <td>6</td>\n",
       "      <td>4.0</td>\n",
       "      <td>964982224</td>\n",
       "    </tr>\n",
       "    <tr>\n",
       "      <th>3</th>\n",
       "      <td>1</td>\n",
       "      <td>47</td>\n",
       "      <td>5.0</td>\n",
       "      <td>964983815</td>\n",
       "    </tr>\n",
       "    <tr>\n",
       "      <th>4</th>\n",
       "      <td>1</td>\n",
       "      <td>50</td>\n",
       "      <td>5.0</td>\n",
       "      <td>964982931</td>\n",
       "    </tr>\n",
       "  </tbody>\n",
       "</table>\n",
       "</div>"
      ],
      "text/plain": [
       "   userId  movieId  rating  timestamp\n",
       "0       1        1     4.0  964982703\n",
       "1       1        3     4.0  964981247\n",
       "2       1        6     4.0  964982224\n",
       "3       1       47     5.0  964983815\n",
       "4       1       50     5.0  964982931"
      ]
     },
     "execution_count": 5,
     "metadata": {},
     "output_type": "execute_result"
    }
   ],
   "source": [
    "ratings.head()"
   ]
  },
  {
   "cell_type": "code",
   "execution_count": 6,
   "metadata": {
    "id": "cvL3t4GitqRj"
   },
   "outputs": [],
   "source": [
    "# Functions to get movie information \n",
    "def get_movie_title_by_id(movieId):\n",
    "    return list(movies[movies.movieId == movieId].title)[0]\n",
    "\n",
    "def get_movie_genre_by_id(movieId):\n",
    "    return list(movies[movies.movieId == movieId].genres)[0]\n",
    "\n",
    "def get_movie_id_by_title(title):\n",
    "    return list(movies[movies.title == title].movieId)[0]\n"
   ]
  },
  {
   "cell_type": "markdown",
   "metadata": {
    "id": "6GRKu4NhttTx"
   },
   "source": [
    "### Construct the Movies graph"
   ]
  },
  {
   "cell_type": "markdown",
   "metadata": {},
   "source": [
    "In this part we construct a graph from movies and rating data. In movie graph an edge is established between two movie nodes within the graph when both movies have received ratings from the same user, with each rating being greater than or equal to the minimum rating threshold, denoted as min_rating. The weight of this edge is determined by the pointwise mutual information (PMI) between the two movies, calculated as follows:\n",
    "\n",
    "PMI = log(xy) - log(x) - log(y) + log(D)\n",
    "\n",
    "\n",
    "- xy represents the number of users who have rated both movie x and movie y with a rating greater than or equal to min_rating.\n",
    "- x represents the count of users who have rated movie x with a rating greater than or equal to min_rating.\n",
    "- y represents the count of users who have rated movie y with a rating greater than or equal to min_rating.\n",
    "- D is the total number of movie ratings that meet or exceed the min_rating threshold."
   ]
  },
  {
   "cell_type": "code",
   "execution_count": 7,
   "metadata": {
    "colab": {
     "base_uri": "https://localhost:8080/"
    },
    "id": "cO5vIw-ItrGw",
    "outputId": "6808c9d8-0144-402a-b766-022b8aeb9652"
   },
   "outputs": [],
   "source": [
    "min_rating_threshold = 5\n",
    "pair_frequency = defaultdict(int)\n",
    "item_frequency = defaultdict(int)\n",
    "\n",
    "# select ratings >= min_rating_threshold\n",
    "rated_movies = ratings[ratings.rating >= min_rating_threshold]\n",
    "users_movies = list(rated_movies.groupby(\"userId\"))\n",
    "\n",
    "for group in users_movies:\n",
    "    # Get a list of movies rated by the user.\n",
    "    current_movies = list(group[1][\"movieId\"])\n",
    "    # Compute frequency and pair frequency of movies\n",
    "    for i in range(len(current_movies)):\n",
    "        item_frequency[current_movies[i]] += 1\n",
    "        for j in range(i + 1, len(current_movies)):\n",
    "            x = min(current_movies[i], current_movies[j])\n",
    "            y = max(current_movies[i], current_movies[j])\n",
    "            pair_frequency[(x, y)] += 1"
   ]
  },
  {
   "cell_type": "code",
   "execution_count": 8,
   "metadata": {
    "colab": {
     "base_uri": "https://localhost:8080/"
    },
    "id": "_hrjHae2w3rh",
    "outputId": "1e4749b5-e153-4067-dd4f-a9a848325d33"
   },
   "outputs": [],
   "source": [
    "min_weight = 10\n",
    "D = math.log(sum(item_frequency.values()))\n",
    "movie_graph_edges = []\n",
    "\n",
    "# Compute weight of each edge based on PMI\n",
    "for pair in pair_frequency:\n",
    "    x, y = pair\n",
    "    xy_frequency = pair_frequency[pair]\n",
    "    x_frequency = item_frequency[x]\n",
    "    y_frequency = item_frequency[y]\n",
    "    pmi = math.log(xy_frequency) - math.log(x_frequency) - math.log(y_frequency) + D\n",
    "    weight = pmi * xy_frequency\n",
    "    # Only include edges with weight >= min_weight\n",
    "    if weight >= min_weight:\n",
    "        movie_graph_edges.append((x, y, weight))\n",
    "\n",
    "# Create a undirected graph of movies and add weighted edges\n",
    "# using movie_graph_edges array\n",
    "movies_graph = nx.Graph()\n",
    "\n",
    "for edge in movie_graph_edges:\n",
    "    x, y, w = edge\n",
    "    movies_graph.add_node(x)\n",
    "    movies_graph.add_node(y)\n",
    "    movies_graph.add_edge(x, y, weight=w)"
   ]
  },
  {
   "cell_type": "code",
   "execution_count": 9,
   "metadata": {
    "colab": {
     "base_uri": "https://localhost:8080/"
    },
    "id": "XjNYgCMhxMyL",
    "outputId": "c9dcdec3-ed5d-4b6e-e728-8d4cd3bbdc51"
   },
   "outputs": [
    {
     "name": "stdout",
     "output_type": "stream",
     "text": [
      "Total number of graph nodes: 1405\n",
      "Total number of graph edges: 40043\n"
     ]
    }
   ],
   "source": [
    "print(\"Total number of graph nodes:\", movies_graph.number_of_nodes())\n",
    "print(\"Total number of graph edges:\", movies_graph.number_of_edges())"
   ]
  },
  {
   "cell_type": "code",
   "execution_count": 10,
   "metadata": {
    "colab": {
     "base_uri": "https://localhost:8080/"
    },
    "id": "7veJqYXkxMu7",
    "outputId": "44d5adbd-b6eb-447d-a6a6-05b3b760bdee"
   },
   "outputs": [
    {
     "name": "stdout",
     "output_type": "stream",
     "text": [
      "Average node degree: 57\n"
     ]
    }
   ],
   "source": [
    "# find average node degree of movies graph\n",
    "average_degree = sum(dict(movies_graph.degree()).values()) / len(movies_graph)\n",
    "print(\"Average node degree:\", round(average_degree))"
   ]
  },
  {
   "cell_type": "code",
   "execution_count": 11,
   "metadata": {
    "id": "89jSI99JFCKF"
   },
   "outputs": [],
   "source": [
    "# Complete random_walk function to generate random walk sequences of nodes for a particular node\n",
    "# Start from the start_node\n",
    "# Get all neighbours of the start_node\n",
    "# Randomly pick 1 neighbor that does not exist in walk and append it to walk list\n",
    "# This random node is now your current state\n",
    "\n",
    "def random_walk(G, start_node, walk_length):\n",
    "    # starting node\n",
    "    walk = [start_node]\n",
    "    current_node = start_node\n",
    "    for _ in range(walk_length - 1):\n",
    "        neighbors = list(G.neighbors(current_node))\n",
    "        if not neighbors:\n",
    "            break\n",
    "        potential_nodes = [node for node in neighbors if node not in walk]\n",
    "        if not potential_nodes:\n",
    "            break\n",
    "        next_node = random.choice(potential_nodes)\n",
    "        walk.append(next_node)\n",
    "        current_node = next_node\n",
    "    return walk"
   ]
  },
  {
   "cell_type": "code",
   "execution_count": 12,
   "metadata": {
    "colab": {
     "base_uri": "https://localhost:8080/"
    },
    "id": "W8IQVrhtFB_2",
    "outputId": "73d539dd-6d7b-45ca-f507-3595049e7c09",
    "scrolled": true
   },
   "outputs": [
    {
     "name": "stderr",
     "output_type": "stream",
     "text": [
      "100%|██████████| 1405/1405 [01:00<00:00, 23.23it/s]\n"
     ]
    }
   ],
   "source": [
    "# Create random walks for train word2vec model \n",
    "# For each node in movies_graph generate 50 walks\n",
    "walk_length = 40\n",
    "num_walks = 50\n",
    "random_walks = []\n",
    "\n",
    "for node in tqdm(movies_graph.nodes):\n",
    "    for _ in range(num_walks):\n",
    "        walk = random_walk(movies_graph, node, walk_length)\n",
    "        random_walks.append(walk)"
   ]
  },
  {
   "cell_type": "code",
   "execution_count": 13,
   "metadata": {
    "colab": {
     "base_uri": "https://localhost:8080/"
    },
    "id": "gzqBQDXpFB9X",
    "outputId": "339e63b6-7c05-4054-cc73-e312d379fd2a"
   },
   "outputs": [
    {
     "name": "stdout",
     "output_type": "stream",
     "text": [
      "Total number of walks: 70250\n"
     ]
    }
   ],
   "source": [
    "print(\"Total number of walks:\", len(random_walks))"
   ]
  },
  {
   "cell_type": "code",
   "execution_count": 14,
   "metadata": {},
   "outputs": [
    {
     "data": {
      "text/plain": [
       "[47,\n",
       " 3052,\n",
       " 1270,\n",
       " 171763,\n",
       " 223,\n",
       " 1222,\n",
       " 555,\n",
       " 65514,\n",
       " 1196,\n",
       " 2268,\n",
       " 296,\n",
       " 2248,\n",
       " 1674,\n",
       " 2194,\n",
       " 1249,\n",
       " 2797,\n",
       " 1912,\n",
       " 1084,\n",
       " 1267,\n",
       " 924,\n",
       " 356,\n",
       " 1617,\n",
       " 599,\n",
       " 1250,\n",
       " 2352,\n",
       " 2944,\n",
       " 858,\n",
       " 4896,\n",
       " 40815,\n",
       " 5952,\n",
       " 106489,\n",
       " 7438,\n",
       " 81591,\n",
       " 48394,\n",
       " 4226,\n",
       " 38061,\n",
       " 102125,\n",
       " 1240,\n",
       " 2948,\n",
       " 1214]"
      ]
     },
     "execution_count": 14,
     "metadata": {},
     "output_type": "execute_result"
    }
   ],
   "source": [
    "random_walks[0]"
   ]
  },
  {
   "cell_type": "markdown",
   "metadata": {},
   "source": [
    "### Model"
   ]
  },
  {
   "cell_type": "code",
   "execution_count": 15,
   "metadata": {
    "colab": {
     "base_uri": "https://localhost:8080/"
    },
    "id": "gm75dMABIt9Q",
    "outputId": "e975d5a4-0369-43a3-9f53-f5fc5572d418"
   },
   "outputs": [],
   "source": [
    "from gensim.models import Word2Vec\n",
    "\n",
    "# Define Word2vec model in skip-gram mode\n",
    "# Train model using created random walks\n",
    "window = 4\n",
    "min_alpha = 0.0007\n",
    "epochs=20\n",
    "\n",
    "model = Word2Vec(\n",
    "    sentences=random_walks,\n",
    "    vector_size=100,\n",
    "    window=window,\n",
    "    sg=1,\n",
    "    min_alpha=min_alpha,\n",
    "    epochs=epochs,\n",
    "    workers=8\n",
    ")"
   ]
  },
  {
   "cell_type": "code",
   "execution_count": 16,
   "metadata": {},
   "outputs": [],
   "source": [
    "model.save(\"word2vec_model.model\")"
   ]
  },
  {
   "cell_type": "markdown",
   "metadata": {},
   "source": [
    "### PCA"
   ]
  },
  {
   "cell_type": "code",
   "execution_count": 18,
   "metadata": {},
   "outputs": [
    {
     "name": "stdout",
     "output_type": "stream",
     "text": [
      "[356, 318, 296, 593, 2571, 260, 480, 110, 589, 527, 2959, 1, 1196, 2858, 50, 47, 780, 150, 1198, 4993, 1210, 858, 457, 592, 5952]\n"
     ]
    }
   ],
   "source": [
    "# Select movie_id of 25 mostly rated movies\n",
    "movie_ids = list(ratings[\"movieId\"].value_counts()[:25].index)\n",
    "print(movie_ids)  # 356, 318, 296, ..."
   ]
  },
  {
   "cell_type": "code",
   "execution_count": 19,
   "metadata": {
    "id": "kaOv9zDpIt7G"
   },
   "outputs": [],
   "source": [
    "from sklearn.decomposition import PCA\n",
    "import seaborn as sns\n",
    "\n",
    "def plot_nodes(model, movie_ids):\n",
    "    X = model.wv[movie_ids]\n",
    "    movies_genres = [get_movie_genre_by_id(n) for n in movie_ids]\n",
    "    \n",
    "    # Apply PCA with 2 component on X\n",
    "    # The shape of result should be : (25, 2)\n",
    "    pca = PCA(n_components=2)\n",
    "    result = pca.fit_transform(X)\n",
    "    \n",
    "    # plot pca results\n",
    "    sns.color_palette(\"tab10\")\n",
    "    sns.set(rc={'figure.figsize':(10,10)})\n",
    "    sns.scatterplot(x=result[:, 0], y=result[:, 1], hue=movies_genres)\n",
    "    plt.legend([],[], frameon=False)\n",
    "\n",
    "    for i, word in enumerate(movies_genres):\n",
    "        plt.annotate(word, xy=(result[i, 0], result[i, 1]), fontsize=7)\n",
    "\n",
    "    plt.show()"
   ]
  },
  {
   "cell_type": "code",
   "execution_count": 20,
   "metadata": {
    "colab": {
     "base_uri": "https://localhost:8080/",
     "height": 701
    },
    "id": "h1AYglJKIt42",
    "outputId": "a04ad4d9-922a-410f-864c-e1bb431364b2"
   },
   "outputs": [
    {
     "name": "stderr",
     "output_type": "stream",
     "text": [
      "c:\\Users\\Dan\\AppData\\Local\\Programs\\Python\\Python311\\Lib\\site-packages\\seaborn\\_oldcore.py:1498: FutureWarning: is_categorical_dtype is deprecated and will be removed in a future version. Use isinstance(dtype, CategoricalDtype) instead\n",
      "  if pd.api.types.is_categorical_dtype(vector):\n",
      "c:\\Users\\Dan\\AppData\\Local\\Programs\\Python\\Python311\\Lib\\site-packages\\seaborn\\_oldcore.py:1498: FutureWarning: is_categorical_dtype is deprecated and will be removed in a future version. Use isinstance(dtype, CategoricalDtype) instead\n",
      "  if pd.api.types.is_categorical_dtype(vector):\n",
      "c:\\Users\\Dan\\AppData\\Local\\Programs\\Python\\Python311\\Lib\\site-packages\\seaborn\\_oldcore.py:1498: FutureWarning: is_categorical_dtype is deprecated and will be removed in a future version. Use isinstance(dtype, CategoricalDtype) instead\n",
      "  if pd.api.types.is_categorical_dtype(vector):\n",
      "c:\\Users\\Dan\\AppData\\Local\\Programs\\Python\\Python311\\Lib\\site-packages\\seaborn\\_oldcore.py:1498: FutureWarning: is_categorical_dtype is deprecated and will be removed in a future version. Use isinstance(dtype, CategoricalDtype) instead\n",
      "  if pd.api.types.is_categorical_dtype(vector):\n",
      "c:\\Users\\Dan\\AppData\\Local\\Programs\\Python\\Python311\\Lib\\site-packages\\seaborn\\_oldcore.py:1498: FutureWarning: is_categorical_dtype is deprecated and will be removed in a future version. Use isinstance(dtype, CategoricalDtype) instead\n",
      "  if pd.api.types.is_categorical_dtype(vector):\n"
     ]
    },
    {
     "data": {
      "image/png": "[encoded data removed]",
      "text/plain": [
       "<Figure size 1000x1000 with 1 Axes>"
      ]
     },
     "metadata": {},
     "output_type": "display_data"
    }
   ],
   "source": [
    "plot_nodes(model, movie_ids)"
   ]
  },
  {
   "cell_type": "markdown",
   "metadata": {},
   "source": [
    "### Find Similar Movies"
   ]
  },
  {
   "cell_type": "code",
   "execution_count": 21,
   "metadata": {
    "id": "JnkLei9zVpV6"
   },
   "outputs": [],
   "source": [
    "def most_similar_movies(model, movie_title, topn):\n",
    "    # Find most similar movies using similar_by_word function\n",
    "    # Return id, title and genre of the similar movies\n",
    "    similar_movies = model.wv.similar_by_word(movie_title, topn=topn)\n",
    "    \n",
    "    similar_movies_data = []\n",
    "    for movie_id, similarity in similar_movies:\n",
    "        title = get_movie_title_by_id(movie_id)\n",
    "        genre = get_movie_genre_by_id(movie_id)\n",
    "        similar_movies_data.append({'id': movie_id, 'title': title, 'genre': genre, 'similarity': similarity})\n",
    "    return similar_movies_data"
   ]
  },
  {
   "cell_type": "code",
   "execution_count": 23,
   "metadata": {
    "colab": {
     "base_uri": "https://localhost:8080/",
     "height": 380
    },
    "id": "KNyIGG3GWaQS",
    "outputId": "7e13ff35-3561-4700-8eff-841f6293e991"
   },
   "outputs": [
    {
     "data": {
      "text/plain": [
       "[{'id': 1196,\n",
       "  'title': 'Star Wars: Episode V - The Empire Strikes Back (1980)',\n",
       "  'genre': 'Action|Adventure|Sci-Fi',\n",
       "  'similarity': 0.696559727191925},\n",
       " {'id': 1210,\n",
       "  'title': 'Star Wars: Episode VI - Return of the Jedi (1983)',\n",
       "  'genre': 'Action|Adventure|Sci-Fi',\n",
       "  'similarity': 0.658673107624054},\n",
       " {'id': 2571,\n",
       "  'title': 'Matrix, The (1999)',\n",
       "  'genre': 'Action|Sci-Fi|Thriller',\n",
       "  'similarity': 0.6038220524787903},\n",
       " {'id': 527,\n",
       "  'title': \"Schindler's List (1993)\",\n",
       "  'genre': 'Drama|War',\n",
       "  'similarity': 0.5052202939987183},\n",
       " {'id': 296,\n",
       "  'title': 'Pulp Fiction (1994)',\n",
       "  'genre': 'Comedy|Crime|Drama|Thriller',\n",
       "  'similarity': 0.5006749629974365}]"
      ]
     },
     "execution_count": 23,
     "metadata": {},
     "output_type": "execute_result"
    }
   ],
   "source": [
    "most_similar_movies(model, get_movie_id_by_title('Star Wars: Episode IV - A New Hope (1977)'), topn=5)"
   ]
  }
 ],
 "metadata": {
  "colab": {
   "provenance": []
  },
  "kernelspec": {
   "display_name": "Python 3 (ipykernel)",
   "language": "python",
   "name": "python3"
  },
  "language_info": {
   "codemirror_mode": {
    "name": "ipython",
    "version": 3
   },
   "file_extension": ".py",
   "mimetype": "text/x-python",
   "name": "python",
   "nbconvert_exporter": "python",
   "pygments_lexer": "ipython3",
   "version": "3.11.3"
  },
  "widgets": {
   "application/vnd.jupyter.widget-state+json": {
    "state": {},
    "version_major": 2,
    "version_minor": 0
   }
  }
 },
 "nbformat": 4,
 "nbformat_minor": 4
}
